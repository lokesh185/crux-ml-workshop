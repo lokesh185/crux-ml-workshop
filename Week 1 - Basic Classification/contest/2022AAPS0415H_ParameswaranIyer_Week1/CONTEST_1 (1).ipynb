{
  "nbformat": 4,
  "nbformat_minor": 0,
  "metadata": {
    "colab": {
      "provenance": []
    },
    "kernelspec": {
      "name": "python3",
      "display_name": "Python 3"
    },
    "language_info": {
      "name": "python"
    }
  },
  "cells": [
    {
      "cell_type": "code",
      "execution_count": 71,
      "metadata": {
        "colab": {
          "base_uri": "https://localhost:8080/"
        },
        "id": "GtMnOmr3gBZW",
        "outputId": "3f28ff80-0fe4-4ffe-d6da-465e4fcd3cc6"
      },
      "outputs": [
        {
          "output_type": "stream",
          "name": "stdout",
          "text": [
            "Drive already mounted at /content/drive; to attempt to forcibly remount, call drive.mount(\"/content/drive\", force_remount=True).\n"
          ]
        }
      ],
      "source": [
        "from google.colab import drive\n",
        "drive.mount('/content/drive')"
      ]
    },
    {
      "cell_type": "code",
      "source": [
        "import numpy as np\n",
        "import pandas as pd \n",
        "from sklearn.ensemble import RandomForestClassifier\n",
        "import matplotlib.pyplot as plt\n",
        "import seaborn as sb"
      ],
      "metadata": {
        "id": "eh_kuKKxiRRF"
      },
      "execution_count": 72,
      "outputs": []
    },
    {
      "cell_type": "code",
      "source": [
        "train = pd.read_csv(\"/content/drive/MyDrive/CRUX 2023 ML WORKSHOP CSV/crux-ml-ws-2023-contest-1/train.csv\")\n",
        "test= pd.read_csv(\"/content/drive/MyDrive/CRUX 2023 ML WORKSHOP CSV/crux-ml-ws-2023-contest-1/test.csv\")"
      ],
      "metadata": {
        "id": "MSPLxYsjhBil"
      },
      "execution_count": 73,
      "outputs": []
    },
    {
      "cell_type": "code",
      "source": [
        "train.columns"
      ],
      "metadata": {
        "colab": {
          "base_uri": "https://localhost:8080/"
        },
        "id": "OFxHunADhmrR",
        "outputId": "ccd3618e-250c-4024-d414-63c004519483"
      },
      "execution_count": 74,
      "outputs": [
        {
          "output_type": "execute_result",
          "data": {
            "text/plain": [
              "Index(['id', 'age', 'workclass', 'fnlwgt', 'education', 'education-num',\n",
              "       'marital-status', 'occupation', 'relationship', 'race', 'sex',\n",
              "       'capital-gain', 'capital-loss', 'hours-per-week', 'native-country',\n",
              "       'income'],\n",
              "      dtype='object')"
            ]
          },
          "metadata": {},
          "execution_count": 74
        }
      ]
    },
    {
      "cell_type": "code",
      "source": [
        "train.info()"
      ],
      "metadata": {
        "colab": {
          "base_uri": "https://localhost:8080/"
        },
        "id": "_oMt---xiHD_",
        "outputId": "ce3359f4-dd46-4ca4-c21f-c93b0997ecbe"
      },
      "execution_count": 75,
      "outputs": [
        {
          "output_type": "stream",
          "name": "stdout",
          "text": [
            "<class 'pandas.core.frame.DataFrame'>\n",
            "RangeIndex: 34189 entries, 0 to 34188\n",
            "Data columns (total 16 columns):\n",
            " #   Column          Non-Null Count  Dtype \n",
            "---  ------          --------------  ----- \n",
            " 0   id              34189 non-null  int64 \n",
            " 1   age             34189 non-null  int64 \n",
            " 2   workclass       34189 non-null  object\n",
            " 3   fnlwgt          34189 non-null  int64 \n",
            " 4   education       34189 non-null  object\n",
            " 5   education-num   34189 non-null  int64 \n",
            " 6   marital-status  34189 non-null  object\n",
            " 7   occupation      34189 non-null  object\n",
            " 8   relationship    34189 non-null  object\n",
            " 9   race            34189 non-null  object\n",
            " 10  sex             34189 non-null  object\n",
            " 11  capital-gain    34189 non-null  int64 \n",
            " 12  capital-loss    34189 non-null  int64 \n",
            " 13  hours-per-week  34189 non-null  int64 \n",
            " 14  native-country  34189 non-null  object\n",
            " 15  income          34189 non-null  object\n",
            "dtypes: int64(7), object(9)\n",
            "memory usage: 4.2+ MB\n"
          ]
        }
      ]
    },
    {
      "cell_type": "code",
      "source": [
        "train.head(5)"
      ],
      "metadata": {
        "colab": {
          "base_uri": "https://localhost:8080/",
          "height": 354
        },
        "id": "1T7EkXXljS_5",
        "outputId": "7a488398-0acf-4ad6-eeab-055b370bd3a8"
      },
      "execution_count": 76,
      "outputs": [
        {
          "output_type": "execute_result",
          "data": {
            "text/plain": [
              "      id  age          workclass  fnlwgt      education  education-num  \\\n",
              "0  23122   37          Local-gov  217689   Some-college             10   \n",
              "1  30555   30   Self-emp-not-inc  182089        HS-grad              9   \n",
              "2   8937   33            Private  111985   Some-college             10   \n",
              "3  34392   41       Self-emp-inc  244172   Some-college             10   \n",
              "4  42173   59            Private  165695     Assoc-acdm             12   \n",
              "\n",
              "        marital-status         occupation relationship                 race  \\\n",
              "0   Married-civ-spouse      Other-service      Husband   Amer-Indian-Eskimo   \n",
              "1   Married-civ-spouse    Farming-fishing      Husband                White   \n",
              "2   Married-civ-spouse       Craft-repair      Husband                White   \n",
              "3   Married-civ-spouse       Craft-repair      Husband                White   \n",
              "4   Married-civ-spouse   Transport-moving      Husband                White   \n",
              "\n",
              "     sex  capital-gain  capital-loss  hours-per-week  native-country income  \n",
              "0   Male             0             0              32   United-States  <=50k  \n",
              "1   Male             0             0              85   United-States  <=50k  \n",
              "2   Male             0             0              58   United-States  <=50k  \n",
              "3   Male             0             0              40               ?   >50k  \n",
              "4   Male             0             0              32   United-States   >50k  "
            ],
            "text/html": [
              "\n",
              "  <div id=\"df-89a0610f-1a67-4136-b3d5-34d0df88be02\">\n",
              "    <div class=\"colab-df-container\">\n",
              "      <div>\n",
              "<style scoped>\n",
              "    .dataframe tbody tr th:only-of-type {\n",
              "        vertical-align: middle;\n",
              "    }\n",
              "\n",
              "    .dataframe tbody tr th {\n",
              "        vertical-align: top;\n",
              "    }\n",
              "\n",
              "    .dataframe thead th {\n",
              "        text-align: right;\n",
              "    }\n",
              "</style>\n",
              "<table border=\"1\" class=\"dataframe\">\n",
              "  <thead>\n",
              "    <tr style=\"text-align: right;\">\n",
              "      <th></th>\n",
              "      <th>id</th>\n",
              "      <th>age</th>\n",
              "      <th>workclass</th>\n",
              "      <th>fnlwgt</th>\n",
              "      <th>education</th>\n",
              "      <th>education-num</th>\n",
              "      <th>marital-status</th>\n",
              "      <th>occupation</th>\n",
              "      <th>relationship</th>\n",
              "      <th>race</th>\n",
              "      <th>sex</th>\n",
              "      <th>capital-gain</th>\n",
              "      <th>capital-loss</th>\n",
              "      <th>hours-per-week</th>\n",
              "      <th>native-country</th>\n",
              "      <th>income</th>\n",
              "    </tr>\n",
              "  </thead>\n",
              "  <tbody>\n",
              "    <tr>\n",
              "      <th>0</th>\n",
              "      <td>23122</td>\n",
              "      <td>37</td>\n",
              "      <td>Local-gov</td>\n",
              "      <td>217689</td>\n",
              "      <td>Some-college</td>\n",
              "      <td>10</td>\n",
              "      <td>Married-civ-spouse</td>\n",
              "      <td>Other-service</td>\n",
              "      <td>Husband</td>\n",
              "      <td>Amer-Indian-Eskimo</td>\n",
              "      <td>Male</td>\n",
              "      <td>0</td>\n",
              "      <td>0</td>\n",
              "      <td>32</td>\n",
              "      <td>United-States</td>\n",
              "      <td>&lt;=50k</td>\n",
              "    </tr>\n",
              "    <tr>\n",
              "      <th>1</th>\n",
              "      <td>30555</td>\n",
              "      <td>30</td>\n",
              "      <td>Self-emp-not-inc</td>\n",
              "      <td>182089</td>\n",
              "      <td>HS-grad</td>\n",
              "      <td>9</td>\n",
              "      <td>Married-civ-spouse</td>\n",
              "      <td>Farming-fishing</td>\n",
              "      <td>Husband</td>\n",
              "      <td>White</td>\n",
              "      <td>Male</td>\n",
              "      <td>0</td>\n",
              "      <td>0</td>\n",
              "      <td>85</td>\n",
              "      <td>United-States</td>\n",
              "      <td>&lt;=50k</td>\n",
              "    </tr>\n",
              "    <tr>\n",
              "      <th>2</th>\n",
              "      <td>8937</td>\n",
              "      <td>33</td>\n",
              "      <td>Private</td>\n",
              "      <td>111985</td>\n",
              "      <td>Some-college</td>\n",
              "      <td>10</td>\n",
              "      <td>Married-civ-spouse</td>\n",
              "      <td>Craft-repair</td>\n",
              "      <td>Husband</td>\n",
              "      <td>White</td>\n",
              "      <td>Male</td>\n",
              "      <td>0</td>\n",
              "      <td>0</td>\n",
              "      <td>58</td>\n",
              "      <td>United-States</td>\n",
              "      <td>&lt;=50k</td>\n",
              "    </tr>\n",
              "    <tr>\n",
              "      <th>3</th>\n",
              "      <td>34392</td>\n",
              "      <td>41</td>\n",
              "      <td>Self-emp-inc</td>\n",
              "      <td>244172</td>\n",
              "      <td>Some-college</td>\n",
              "      <td>10</td>\n",
              "      <td>Married-civ-spouse</td>\n",
              "      <td>Craft-repair</td>\n",
              "      <td>Husband</td>\n",
              "      <td>White</td>\n",
              "      <td>Male</td>\n",
              "      <td>0</td>\n",
              "      <td>0</td>\n",
              "      <td>40</td>\n",
              "      <td>?</td>\n",
              "      <td>&gt;50k</td>\n",
              "    </tr>\n",
              "    <tr>\n",
              "      <th>4</th>\n",
              "      <td>42173</td>\n",
              "      <td>59</td>\n",
              "      <td>Private</td>\n",
              "      <td>165695</td>\n",
              "      <td>Assoc-acdm</td>\n",
              "      <td>12</td>\n",
              "      <td>Married-civ-spouse</td>\n",
              "      <td>Transport-moving</td>\n",
              "      <td>Husband</td>\n",
              "      <td>White</td>\n",
              "      <td>Male</td>\n",
              "      <td>0</td>\n",
              "      <td>0</td>\n",
              "      <td>32</td>\n",
              "      <td>United-States</td>\n",
              "      <td>&gt;50k</td>\n",
              "    </tr>\n",
              "  </tbody>\n",
              "</table>\n",
              "</div>\n",
              "      <button class=\"colab-df-convert\" onclick=\"convertToInteractive('df-89a0610f-1a67-4136-b3d5-34d0df88be02')\"\n",
              "              title=\"Convert this dataframe to an interactive table.\"\n",
              "              style=\"display:none;\">\n",
              "        \n",
              "  <svg xmlns=\"http://www.w3.org/2000/svg\" height=\"24px\"viewBox=\"0 0 24 24\"\n",
              "       width=\"24px\">\n",
              "    <path d=\"M0 0h24v24H0V0z\" fill=\"none\"/>\n",
              "    <path d=\"M18.56 5.44l.94 2.06.94-2.06 2.06-.94-2.06-.94-.94-2.06-.94 2.06-2.06.94zm-11 1L8.5 8.5l.94-2.06 2.06-.94-2.06-.94L8.5 2.5l-.94 2.06-2.06.94zm10 10l.94 2.06.94-2.06 2.06-.94-2.06-.94-.94-2.06-.94 2.06-2.06.94z\"/><path d=\"M17.41 7.96l-1.37-1.37c-.4-.4-.92-.59-1.43-.59-.52 0-1.04.2-1.43.59L10.3 9.45l-7.72 7.72c-.78.78-.78 2.05 0 2.83L4 21.41c.39.39.9.59 1.41.59.51 0 1.02-.2 1.41-.59l7.78-7.78 2.81-2.81c.8-.78.8-2.07 0-2.86zM5.41 20L4 18.59l7.72-7.72 1.47 1.35L5.41 20z\"/>\n",
              "  </svg>\n",
              "      </button>\n",
              "      \n",
              "  <style>\n",
              "    .colab-df-container {\n",
              "      display:flex;\n",
              "      flex-wrap:wrap;\n",
              "      gap: 12px;\n",
              "    }\n",
              "\n",
              "    .colab-df-convert {\n",
              "      background-color: #E8F0FE;\n",
              "      border: none;\n",
              "      border-radius: 50%;\n",
              "      cursor: pointer;\n",
              "      display: none;\n",
              "      fill: #1967D2;\n",
              "      height: 32px;\n",
              "      padding: 0 0 0 0;\n",
              "      width: 32px;\n",
              "    }\n",
              "\n",
              "    .colab-df-convert:hover {\n",
              "      background-color: #E2EBFA;\n",
              "      box-shadow: 0px 1px 2px rgba(60, 64, 67, 0.3), 0px 1px 3px 1px rgba(60, 64, 67, 0.15);\n",
              "      fill: #174EA6;\n",
              "    }\n",
              "\n",
              "    [theme=dark] .colab-df-convert {\n",
              "      background-color: #3B4455;\n",
              "      fill: #D2E3FC;\n",
              "    }\n",
              "\n",
              "    [theme=dark] .colab-df-convert:hover {\n",
              "      background-color: #434B5C;\n",
              "      box-shadow: 0px 1px 3px 1px rgba(0, 0, 0, 0.15);\n",
              "      filter: drop-shadow(0px 1px 2px rgba(0, 0, 0, 0.3));\n",
              "      fill: #FFFFFF;\n",
              "    }\n",
              "  </style>\n",
              "\n",
              "      <script>\n",
              "        const buttonEl =\n",
              "          document.querySelector('#df-89a0610f-1a67-4136-b3d5-34d0df88be02 button.colab-df-convert');\n",
              "        buttonEl.style.display =\n",
              "          google.colab.kernel.accessAllowed ? 'block' : 'none';\n",
              "\n",
              "        async function convertToInteractive(key) {\n",
              "          const element = document.querySelector('#df-89a0610f-1a67-4136-b3d5-34d0df88be02');\n",
              "          const dataTable =\n",
              "            await google.colab.kernel.invokeFunction('convertToInteractive',\n",
              "                                                     [key], {});\n",
              "          if (!dataTable) return;\n",
              "\n",
              "          const docLinkHtml = 'Like what you see? Visit the ' +\n",
              "            '<a target=\"_blank\" href=https://colab.research.google.com/notebooks/data_table.ipynb>data table notebook</a>'\n",
              "            + ' to learn more about interactive tables.';\n",
              "          element.innerHTML = '';\n",
              "          dataTable['output_type'] = 'display_data';\n",
              "          await google.colab.output.renderOutput(dataTable, element);\n",
              "          const docLink = document.createElement('div');\n",
              "          docLink.innerHTML = docLinkHtml;\n",
              "          element.appendChild(docLink);\n",
              "        }\n",
              "      </script>\n",
              "    </div>\n",
              "  </div>\n",
              "  "
            ]
          },
          "metadata": {},
          "execution_count": 76
        }
      ]
    },
    {
      "cell_type": "code",
      "source": [
        "#Income binary catagorization\n",
        "def reincome(row):\n",
        "  if row['income']=='<=50k':\n",
        "    row['income']=0\n",
        "  else:\n",
        "    row['income']=1\n",
        "\n",
        "  return row\n",
        "train = train.apply(reincome,axis ='columns')\n"
      ],
      "metadata": {
        "id": "vAsr8OxU88f8"
      },
      "execution_count": 77,
      "outputs": []
    },
    {
      "cell_type": "markdown",
      "source": [
        "##Analysis of features for preprocessing\n",
        "The Features consists of the columns that are :\n",
        "1. Numeric Data: as in Age, Work hours etc that need to be catagorized into classes\n",
        "2. Catagorical Data : as in Sex, Native country etc which are already classified. Further classification is needed if there are too little instances of a particular type."
      ],
      "metadata": {
        "id": "2HvBb0CyuSmy"
      }
    },
    {
      "cell_type": "code",
      "source": [
        "num =train[['age', 'fnlwgt', 'education-num','capital-gain', 'capital-loss', 'hours-per-week']]\n",
        "cat = train[['workclass', 'education','marital-status', 'occupation', 'relationship', 'race', 'sex', 'native-country',]]\n"
      ],
      "metadata": {
        "id": "v943j6U-iaBy"
      },
      "execution_count": 78,
      "outputs": []
    },
    {
      "cell_type": "markdown",
      "source": [
        "Analysis of correlation between catagorical features and target variable to get an idea on further classification of the same"
      ],
      "metadata": {
        "id": "onn_wOwQvL0o"
      }
    },
    {
      "cell_type": "code",
      "source": [
        "for i in cat:\n",
        "  print(pd.pivot_table(train,index = 'income',columns=i,aggfunc='count'))"
      ],
      "metadata": {
        "colab": {
          "base_uri": "https://localhost:8080/"
        },
        "id": "VvUTTWZElRgs",
        "outputId": "abd0c80d-2d9d-4712-a7e9-4b4ce160692a"
      },
      "execution_count": 79,
      "outputs": [
        {
          "output_type": "stream",
          "name": "stdout",
          "text": [
            "              age                                                 \\\n",
            "workclass       ?  Federal-gov  Local-gov  Never-worked  Private   \n",
            "income                                                             \n",
            "0          1755.0        610.0     1538.0           9.0  18640.0   \n",
            "1           182.0        383.0      626.0           NaN   5170.0   \n",
            "\n",
            "                                                                   \\\n",
            "workclass  Self-emp-inc  Self-emp-not-inc  State-gov  Without-pay   \n",
            "income                                                              \n",
            "0                 506.0            1967.0     1001.0         13.0   \n",
            "1                 661.0             744.0      382.0          2.0   \n",
            "\n",
            "          capital-gain  ... relationship     sex                          \\\n",
            "workclass            ?  ...  Without-pay       ?  Federal-gov  Local-gov   \n",
            "income                  ...                                                \n",
            "0               1755.0  ...         13.0  1755.0        610.0     1538.0   \n",
            "1                182.0  ...          2.0   182.0        383.0      626.0   \n",
            "\n",
            "                                                                             \\\n",
            "workclass  Never-worked  Private  Self-emp-inc  Self-emp-not-inc  State-gov   \n",
            "income                                                                        \n",
            "0                   9.0  18640.0         506.0            1967.0     1001.0   \n",
            "1                   NaN   5170.0         661.0             744.0      382.0   \n",
            "\n",
            "                        \n",
            "workclass  Without-pay  \n",
            "income                  \n",
            "0                 13.0  \n",
            "1                  2.0  \n",
            "\n",
            "[2 rows x 126 columns]\n",
            "             age                                                               \\\n",
            "education   10th    11th   12th  1st-4th  5th-6th  7th-8th    9th  Assoc-acdm   \n",
            "income                                                                          \n",
            "0          910.0  1208.0  410.0    161.0    339.0    631.0  499.0       826.0   \n",
            "1           59.0    61.0   35.0      6.0     18.0     45.0   28.0       293.0   \n",
            "\n",
            "                                 ... workclass                         \\\n",
            "education  Assoc-voc  Bachelors  ...       9th  Assoc-acdm  Assoc-voc   \n",
            "income                           ...                                    \n",
            "0             1065.0     3231.0  ...     499.0       826.0     1065.0   \n",
            "1              364.0     2274.0  ...      28.0       293.0      364.0   \n",
            "\n",
            "                                                                           \\\n",
            "education  Bachelors  Doctorate  HS-grad  Masters  Preschool  Prof-school   \n",
            "income                                                                      \n",
            "0             3231.0      112.0   9366.0    836.0       58.0        154.0   \n",
            "1             2274.0      303.0   1729.0   1022.0        NaN        449.0   \n",
            "\n",
            "                         \n",
            "education  Some-college  \n",
            "income                   \n",
            "0                6233.0  \n",
            "1                1464.0  \n",
            "\n",
            "[2 rows x 224 columns]\n",
            "                     age                                         \\\n",
            "marital-status  Divorced  Married-AF-spouse  Married-civ-spouse   \n",
            "income                                                            \n",
            "0                   4170                 18                8762   \n",
            "1                    472                  9                6948   \n",
            "\n",
            "                                                                          \\\n",
            "marital-status  Married-spouse-absent  Never-married  Separated  Widowed   \n",
            "income                                                                     \n",
            "0                                 391          10699       1023      976   \n",
            "1                                  42            520         72       87   \n",
            "\n",
            "               capital-gain                                         ...  \\\n",
            "marital-status     Divorced  Married-AF-spouse  Married-civ-spouse  ...   \n",
            "income                                                              ...   \n",
            "0                      4170                 18                8762  ...   \n",
            "1                       472                  9                6948  ...   \n",
            "\n",
            "                          sex                     workclass  \\\n",
            "marital-status  Never-married  Separated  Widowed  Divorced   \n",
            "income                                                        \n",
            "0                       10699       1023      976      4170   \n",
            "1                         520         72       87       472   \n",
            "\n",
            "                                                                              \\\n",
            "marital-status  Married-AF-spouse  Married-civ-spouse  Married-spouse-absent   \n",
            "income                                                                         \n",
            "0                              18                8762                    391   \n",
            "1                               9                6948                     42   \n",
            "\n",
            "                                                   \n",
            "marital-status  Never-married  Separated  Widowed  \n",
            "income                                             \n",
            "0                       10699       1023      976  \n",
            "1                         520         72       87  \n",
            "\n",
            "[2 rows x 98 columns]\n",
            "             age                                                             \\\n",
            "occupation     ?  Adm-clerical  Armed-Forces  Craft-repair  Exec-managerial   \n",
            "income                                                                        \n",
            "0           1764          3395             5          3338             2228   \n",
            "1            182           536             3           944             2028   \n",
            "\n",
            "                                                                   \\\n",
            "occupation  Farming-fishing  Handlers-cleaners  Machine-op-inspct   \n",
            "income                                                              \n",
            "0                       939               1360               1845   \n",
            "1                       124                 93                260   \n",
            "\n",
            "                                            ...        workclass  \\\n",
            "occupation  Other-service  Priv-house-serv  ...  Farming-fishing   \n",
            "income                                      ...                    \n",
            "0                    3320              170  ...              939   \n",
            "1                     146                3  ...              124   \n",
            "\n",
            "                                                                 \\\n",
            "occupation  Handlers-cleaners  Machine-op-inspct  Other-service   \n",
            "income                                                            \n",
            "0                        1360               1845           3320   \n",
            "1                          93                260            146   \n",
            "\n",
            "                                                                     \\\n",
            "occupation  Priv-house-serv  Prof-specialty  Protective-serv  Sales   \n",
            "income                                                                \n",
            "0                       170            2391              467   2810   \n",
            "1                         3            1950              213   1031   \n",
            "\n",
            "                                            \n",
            "occupation  Tech-support  Transport-moving  \n",
            "income                                      \n",
            "0                    699              1308  \n",
            "1                    286               351  \n",
            "\n",
            "[2 rows x 210 columns]\n",
            "                  age                                                       \\\n",
            "relationship  Husband  Not-in-family  Other-relative  Own-child  Unmarried   \n",
            "income                                                                       \n",
            "0                7689           7869            1034       5212       3361   \n",
            "1                6165            900              39         75        218   \n",
            "\n",
            "                   capital-gain                                            \\\n",
            "relationship  Wife      Husband  Not-in-family  Other-relative  Own-child   \n",
            "income                                                                      \n",
            "0              874         7689           7869            1034       5212   \n",
            "1              753         6165            900              39         75   \n",
            "\n",
            "              ...             sex                             workclass  \\\n",
            "relationship  ...  Other-relative  Own-child  Unmarried  Wife   Husband   \n",
            "income        ...                                                         \n",
            "0             ...            1034       5212       3361   874      7689   \n",
            "1             ...              39         75        218   753      6165   \n",
            "\n",
            "                                                                         \n",
            "relationship  Not-in-family  Other-relative  Own-child  Unmarried  Wife  \n",
            "income                                                                   \n",
            "0                      7869            1034       5212       3361   874  \n",
            "1                       900              39         75        218   753  \n",
            "\n",
            "[2 rows x 84 columns]\n",
            "                       age                                           \\\n",
            "race    Amer-Indian-Eskimo  Asian-Pac-Islander  Black  Other  White   \n",
            "income                                                                \n",
            "0                      268                 768   2895    231  21877   \n",
            "1                       45                 278    389     32   7406   \n",
            "\n",
            "              capital-gain                                           ...  \\\n",
            "race    Amer-Indian-Eskimo  Asian-Pac-Islander  Black  Other  White  ...   \n",
            "income                                                               ...   \n",
            "0                      268                 768   2895    231  21877  ...   \n",
            "1                       45                 278    389     32   7406  ...   \n",
            "\n",
            "                       sex                                           \\\n",
            "race    Amer-Indian-Eskimo  Asian-Pac-Islander  Black  Other  White   \n",
            "income                                                                \n",
            "0                      268                 768   2895    231  21877   \n",
            "1                       45                 278    389     32   7406   \n",
            "\n",
            "                 workclass                                           \n",
            "race    Amer-Indian-Eskimo  Asian-Pac-Islander  Black  Other  White  \n",
            "income                                                               \n",
            "0                      268                 768   2895    231  21877  \n",
            "1                       45                 278    389     32   7406  \n",
            "\n",
            "[2 rows x 70 columns]\n",
            "           age        capital-gain        capital-loss        education  \\\n",
            "sex     Female   Male       Female   Male       Female   Male    Female   \n",
            "income                                                                    \n",
            "0        10130  15909        10130  15909        10130  15909     10130   \n",
            "1         1237   6913         1237   6913         1237   6913      1237   \n",
            "\n",
            "              education-num         ... native-country        occupation  \\\n",
            "sex      Male        Female   Male  ...         Female   Male     Female   \n",
            "income                              ...                                    \n",
            "0       15909         10130  15909  ...          10130  15909      10130   \n",
            "1        6913          1237   6913  ...           1237   6913       1237   \n",
            "\n",
            "                 race        relationship        workclass         \n",
            "sex      Male  Female   Male       Female   Male    Female   Male  \n",
            "income                                                             \n",
            "0       15909   10130  15909        10130  15909     10130  15909  \n",
            "1        6913    1237   6913         1237   6913      1237   6913  \n",
            "\n",
            "[2 rows x 28 columns]\n",
            "                  age                                           \\\n",
            "native-country      ?  Cambodia  Canada  China  Columbia  Cuba   \n",
            "income                                                           \n",
            "0               433.0      17.0    83.0   60.0      52.0  68.0   \n",
            "1               156.0       7.0    44.0   22.0       2.0  25.0   \n",
            "\n",
            "                                                                   ...  \\\n",
            "native-country  Dominican-Republic  Ecuador  El-Salvador  England  ...   \n",
            "income                                                             ...   \n",
            "0                             62.0     26.0        104.0     58.0  ...   \n",
            "1                              4.0      2.0          6.0     35.0  ...   \n",
            "\n",
            "               workclass                                                  \\\n",
            "native-country  Portugal  Puerto-Rico  Scotland  South  Taiwan  Thailand   \n",
            "income                                                                     \n",
            "0                   38.0        108.0      17.0   69.0    26.0      22.0   \n",
            "1                    9.0          8.0       2.0   15.0    16.0       3.0   \n",
            "\n",
            "                                                                     \n",
            "native-country  Trinadad&Tobago  United-States  Vietnam  Yugoslavia  \n",
            "income                                                               \n",
            "0                          18.0        23211.0     56.0        11.0  \n",
            "1                           NaN         7464.0      3.0         5.0  \n",
            "\n",
            "[2 rows x 588 columns]\n"
          ]
        }
      ]
    },
    {
      "cell_type": "code",
      "source": [
        "for i in cat.columns:\n",
        "  print(i.upper(),train[i].value_counts(),sep='\\n',end='\\n\\n\\n')"
      ],
      "metadata": {
        "colab": {
          "base_uri": "https://localhost:8080/"
        },
        "id": "Yv2kTvYcmGCA",
        "outputId": "1b817158-718f-4e41-c396-e8a2e243fcfb"
      },
      "execution_count": 80,
      "outputs": [
        {
          "output_type": "stream",
          "name": "stdout",
          "text": [
            "WORKCLASS\n",
            " Private             23810\n",
            " Self-emp-not-inc     2711\n",
            " Local-gov            2164\n",
            " ?                    1937\n",
            " State-gov            1383\n",
            " Self-emp-inc         1167\n",
            " Federal-gov           993\n",
            " Without-pay            15\n",
            " Never-worked            9\n",
            "Name: workclass, dtype: int64\n",
            "\n",
            "\n",
            "EDUCATION\n",
            " HS-grad         11095\n",
            " Some-college     7697\n",
            " Bachelors        5505\n",
            " Masters          1858\n",
            " Assoc-voc        1429\n",
            " 11th             1269\n",
            " Assoc-acdm       1119\n",
            " 10th              969\n",
            " 7th-8th           676\n",
            " Prof-school       603\n",
            " 9th               527\n",
            " 12th              445\n",
            " Doctorate         415\n",
            " 5th-6th           357\n",
            " 1st-4th           167\n",
            " Preschool          58\n",
            "Name: education, dtype: int64\n",
            "\n",
            "\n",
            "MARITAL-STATUS\n",
            " Married-civ-spouse       15710\n",
            " Never-married            11219\n",
            " Divorced                  4642\n",
            " Separated                 1095\n",
            " Widowed                   1063\n",
            " Married-spouse-absent      433\n",
            " Married-AF-spouse           27\n",
            "Name: marital-status, dtype: int64\n",
            "\n",
            "\n",
            "OCCUPATION\n",
            " Prof-specialty       4341\n",
            " Craft-repair         4282\n",
            " Exec-managerial      4256\n",
            " Adm-clerical         3931\n",
            " Sales                3841\n",
            " Other-service        3466\n",
            " Machine-op-inspct    2105\n",
            " ?                    1946\n",
            " Transport-moving     1659\n",
            " Handlers-cleaners    1453\n",
            " Farming-fishing      1063\n",
            " Tech-support          985\n",
            " Protective-serv       680\n",
            " Priv-house-serv       173\n",
            " Armed-Forces            8\n",
            "Name: occupation, dtype: int64\n",
            "\n",
            "\n",
            "RELATIONSHIP\n",
            " Husband           13854\n",
            " Not-in-family      8769\n",
            " Own-child          5287\n",
            " Unmarried          3579\n",
            " Wife               1627\n",
            " Other-relative     1073\n",
            "Name: relationship, dtype: int64\n",
            "\n",
            "\n",
            "RACE\n",
            " White                 29283\n",
            " Black                  3284\n",
            " Asian-Pac-Islander     1046\n",
            " Amer-Indian-Eskimo      313\n",
            " Other                   263\n",
            "Name: race, dtype: int64\n",
            "\n",
            "\n",
            "SEX\n",
            " Male      22822\n",
            " Female    11367\n",
            "Name: sex, dtype: int64\n",
            "\n",
            "\n",
            "NATIVE-COUNTRY\n",
            " United-States                 30675\n",
            " Mexico                          685\n",
            " ?                               589\n",
            " Philippines                     201\n",
            " Germany                         142\n",
            " Canada                          127\n",
            " Puerto-Rico                     116\n",
            " El-Salvador                     110\n",
            " India                           106\n",
            " Cuba                             93\n",
            " England                          93\n",
            " Italy                            86\n",
            " South                            84\n",
            " China                            82\n",
            " Japan                            75\n",
            " Jamaica                          67\n",
            " Dominican-Republic               66\n",
            " Poland                           64\n",
            " Guatemala                        62\n",
            " Vietnam                          59\n",
            " Haiti                            55\n",
            " Columbia                         54\n",
            " Portugal                         47\n",
            " Taiwan                           42\n",
            " Iran                             40\n",
            " Nicaragua                        35\n",
            " Greece                           34\n",
            " Peru                             34\n",
            " France                           30\n",
            " Ecuador                          28\n",
            " Thailand                         25\n",
            " Cambodia                         24\n",
            " Hong                             23\n",
            " Ireland                          20\n",
            " Scotland                         19\n",
            " Outlying-US(Guam-USVI-etc)       18\n",
            " Trinadad&Tobago                  18\n",
            " Honduras                         17\n",
            " Laos                             16\n",
            " Yugoslavia                       16\n",
            " Hungary                          11\n",
            " Holand-Netherlands                1\n",
            "Name: native-country, dtype: int64\n",
            "\n",
            "\n"
          ]
        }
      ]
    },
    {
      "cell_type": "markdown",
      "source": [
        "Analysis of numerical features :\n",
        "\n",
        "\n",
        "*   Hours per week shows normal distribution about mean\n",
        "*   Capital gains and Losses are left justified.\n",
        "*   Population gradient across Age catagories is bottom heavy\n",
        "\n",
        "\n",
        "\n",
        "\n"
      ],
      "metadata": {
        "id": "unyqn3YkRJr0"
      }
    },
    {
      "cell_type": "code",
      "source": [
        "for n in num.columns:\n",
        "  plt.hist(num[n])\n",
        "  plt.title(n)\n",
        "  plt.show()"
      ],
      "metadata": {
        "colab": {
          "base_uri": "https://localhost:8080/",
          "height": 1000
        },
        "id": "AxRLe--etPt_",
        "outputId": "dd6db242-bc56-456c-aff9-bf99e6e498dc"
      },
      "execution_count": 81,
      "outputs": [
        {
          "output_type": "display_data",
          "data": {
            "text/plain": [
              "<Figure size 432x288 with 1 Axes>"
            ],
            "image/png": "[encoded data removed]"
          },
          "metadata": {
            "needs_background": "light"
          }
        },
        {
          "output_type": "display_data",
          "data": {
            "text/plain": [
              "<Figure size 432x288 with 1 Axes>"
            ],
            "image/png": "[encoded data removed]"
          },
          "metadata": {
            "needs_background": "light"
          }
        },
        {
          "output_type": "display_data",
          "data": {
            "text/plain": [
              "<Figure size 432x288 with 1 Axes>"
            ],
            "image/png": "[encoded data removed]"
          },
          "metadata": {
            "needs_background": "light"
          }
        },
        {
          "output_type": "display_data",
          "data": {
            "text/plain": [
              "<Figure size 432x288 with 1 Axes>"
            ],
            "image/png": "[encoded data removed]"
          },
          "metadata": {
            "needs_background": "light"
          }
        },
        {
          "output_type": "display_data",
          "data": {
            "text/plain": [
              "<Figure size 432x288 with 1 Axes>"
            ],
            "image/png": "[encoded data removed]"
          },
          "metadata": {
            "needs_background": "light"
          }
        },
        {
          "output_type": "display_data",
          "data": {
            "text/plain": [
              "<Figure size 432x288 with 1 Axes>"
            ],
            "image/png": "[encoded data removed]"
          },
          "metadata": {
            "needs_background": "light"
          }
        }
      ]
    },
    {
      "cell_type": "markdown",
      "source": [
        "Checking if there is a requirement to eliminate any train instances that have features that are not in test data to avoid errors during scaling."
      ],
      "metadata": {
        "id": "76yIOZ9ewFOO"
      }
    },
    {
      "cell_type": "code",
      "source": [
        "for i in cat:\n",
        "  if not train[i].unique().sort()==test[i].unique().sort():\n",
        "    print(i)\n",
        "  \n",
        " "
      ],
      "metadata": {
        "id": "PZQEoHk4o0A0"
      },
      "execution_count": 82,
      "outputs": []
    },
    {
      "cell_type": "code",
      "source": [
        "for i in num.columns:\n",
        "  print(i.upper(),'Diff-min : ',train[i].min()-test[i].min(),'Diff-max:',train[i].max()-test[i].max(),sep='\\n' ,end='\\n\\n\\n')"
      ],
      "metadata": {
        "colab": {
          "base_uri": "https://localhost:8080/"
        },
        "id": "cHc_EM1J0oJa",
        "outputId": "c58cfff4-3697-473a-b9dc-9ae26533642f"
      },
      "execution_count": 83,
      "outputs": [
        {
          "output_type": "stream",
          "name": "stdout",
          "text": [
            "AGE\n",
            "Diff-min : \n",
            "0\n",
            "Diff-max:\n",
            "0\n",
            "\n",
            "\n",
            "FNLWGT\n",
            "Diff-min : \n",
            "-1207\n",
            "Diff-max:\n",
            "-5695\n",
            "\n",
            "\n",
            "EDUCATION-NUM\n",
            "Diff-min : \n",
            "0\n",
            "Diff-max:\n",
            "0\n",
            "\n",
            "\n",
            "CAPITAL-GAIN\n",
            "Diff-min : \n",
            "0\n",
            "Diff-max:\n",
            "0\n",
            "\n",
            "\n",
            "CAPITAL-LOSS\n",
            "Diff-min : \n",
            "0\n",
            "Diff-max:\n",
            "0\n",
            "\n",
            "\n",
            "HOURS-PER-WEEK\n",
            "Diff-min : \n",
            "0\n",
            "Diff-max:\n",
            "0\n",
            "\n",
            "\n"
          ]
        }
      ]
    },
    {
      "cell_type": "markdown",
      "source": [
        "## Preprocessing Features in the dataset"
      ],
      "metadata": {
        "id": "EFCknmtqPIH7"
      }
    },
    {
      "cell_type": "markdown",
      "source": [
        "Classification of native-countries into regions. \n",
        "\n",
        "*   From the correlation between native countries and income brackets, countries from same geographic region seem to suggest similar distribution of people between the two brackets in terms of percentage.\n",
        "\n",
        "\n",
        "P.S. Classifying and formatting the list of countries into regions was done by the lord and master ChatGPT :)\n",
        "\n",
        "\n"
      ],
      "metadata": {
        "id": "YLNi2pqZwr-v"
      }
    },
    {
      "cell_type": "code",
      "source": [
        "train['native-country'].unique()"
      ],
      "metadata": {
        "colab": {
          "base_uri": "https://localhost:8080/"
        },
        "id": "wujkadmsfo3-",
        "outputId": "62e4a6cf-a20e-4ad7-cda6-4d4794a70f40"
      },
      "execution_count": 84,
      "outputs": [
        {
          "output_type": "execute_result",
          "data": {
            "text/plain": [
              "array([' United-States', ' ?', ' Haiti', ' Mexico', ' Germany',\n",
              "       ' El-Salvador', ' Puerto-Rico', ' Japan', ' Iran', ' Cuba',\n",
              "       ' Nicaragua', ' Dominican-Republic', ' Philippines', ' Hungary',\n",
              "       ' South', ' Jamaica', ' Poland', ' Trinadad&Tobago', ' Guatemala',\n",
              "       ' England', ' Taiwan', ' India', ' Cambodia', ' Hong', ' Laos',\n",
              "       ' China', ' Outlying-US(Guam-USVI-etc)', ' Columbia', ' France',\n",
              "       ' Scotland', ' Canada', ' Portugal', ' Italy', ' Honduras',\n",
              "       ' Vietnam', ' Ecuador', ' Yugoslavia', ' Greece', ' Thailand',\n",
              "       ' Peru', ' Ireland', ' Holand-Netherlands'], dtype=object)"
            ]
          },
          "metadata": {},
          "execution_count": 84
        }
      ]
    },
    {
      "cell_type": "code",
      "source": [
        "#Native country mappint to native-regions\n",
        "Asia = [' Japan', ' Iran', ' Philippines', ' Hong', ' Taiwan', ' Cambodia', ' China', ' Laos', ' India', ' Vietnam', ' Thailand']\n",
        "Europe =[' Germany', ' Hungary', ' Poland', ' England', ' France', ' Scotland', ' Portugal', ' Italy', ' Yugoslavia', ' Greece', ' Ireland', ' Holand-Netherlands']\n",
        "North_America = [' United-States', ' Canada', ' Outlying-US(Guam-USVI-etc)']\n",
        "Latin = [' Haiti', ' Mexico', ' El-Salvador', ' Cuba', ' Nicaragua', ' Dominican-Republic', ' Guatemala', ' Trinadad&Tobago', ' Jamaica', ' Honduras', ' Ecuador', ' Peru',' Puerto-Rico']\n",
        "def renat(row):\n",
        "  if row['native-country'] in Asia:\n",
        "    row['Native']='Asia'\n",
        "  elif row['native-country'] in Europe:\n",
        "    row['Native']='Europe'\n",
        "  elif row['native-country'] in North_America:\n",
        "    row['Native']='North America'\n",
        "  elif row['native-country'] in Latin:\n",
        "    row['Native']='Latin America'\n",
        "  else :\n",
        "    row['Native']= 'Other'\n",
        "  return row\n",
        "train = train.apply(renat,axis ='columns')\n",
        "test = test.apply(renat,axis ='columns')"
      ],
      "metadata": {
        "id": "MD1bBodZf_Jn"
      },
      "execution_count": 85,
      "outputs": []
    },
    {
      "cell_type": "code",
      "source": [
        "train.Native.value_counts()"
      ],
      "metadata": {
        "colab": {
          "base_uri": "https://localhost:8080/"
        },
        "id": "MKnjPwkcg1MN",
        "outputId": "74d93fda-5e60-4168-eecb-c5c2e673b5ab"
      },
      "execution_count": 86,
      "outputs": [
        {
          "output_type": "execute_result",
          "data": {
            "text/plain": [
              "North America    30820\n",
              "Latin America     1386\n",
              "Other              727\n",
              "Asia               693\n",
              "Europe             563\n",
              "Name: Native, dtype: int64"
            ]
          },
          "metadata": {},
          "execution_count": 86
        }
      ]
    },
    {
      "cell_type": "markdown",
      "source": [
        "In classification of education types, no significant change in accuracy (increase of 0.1%) was seen pre and post classification. "
      ],
      "metadata": {
        "id": "h9B2g9FzPTBk"
      }
    },
    {
      "cell_type": "code",
      "source": [
        "train.education.unique()"
      ],
      "metadata": {
        "colab": {
          "base_uri": "https://localhost:8080/"
        },
        "id": "HNvOCO3TQCdN",
        "outputId": "2f03dad2-695f-4aa5-efda-096bfdfb1ad4"
      },
      "execution_count": 87,
      "outputs": [
        {
          "output_type": "execute_result",
          "data": {
            "text/plain": [
              "array([' Some-college', ' HS-grad', ' Assoc-acdm', ' 11th', ' Bachelors',\n",
              "       ' Prof-school', ' 1st-4th', ' 7th-8th', ' 12th', ' Assoc-voc',\n",
              "       ' Masters', ' 9th', ' 5th-6th', ' 10th', ' Preschool',\n",
              "       ' Doctorate'], dtype=object)"
            ]
          },
          "metadata": {},
          "execution_count": 87
        }
      ]
    },
    {
      "cell_type": "code",
      "source": [
        "#Education Level Catagorization\n",
        "E = [' 1st-4th', ' 7th-8th' ,' 5th-6th', ' Preschool',  ]\n",
        "H =[' 11th', ' 12th',' 10th',' 9th',' HS-grad']\n",
        "G =[' Some-college',' Bachelors',' Masters',' Doctorate']\n",
        "P =[ ' Assoc-acdm',' Prof-school',' Assoc-voc' ]\n",
        "\n",
        "def reEd(row):\n",
        "  if row['education'] in E:\n",
        "    row['education']='Elementary'\n",
        "  elif row['education'] in H:\n",
        "    row['education']='High-School'\n",
        "  elif row['education'] in G:\n",
        "    row['education']='Graduate'\n",
        "  else:\n",
        "    row['education']='Spec'\n",
        "  \n",
        "  return row\n",
        "train = train.apply(reEd,axis ='columns')\n",
        "test = test.apply(reEd,axis ='columns')"
      ],
      "metadata": {
        "id": "JNT7x7S5P_HK"
      },
      "execution_count": 88,
      "outputs": []
    },
    {
      "cell_type": "code",
      "source": [
        "train.education.hist()"
      ],
      "metadata": {
        "colab": {
          "base_uri": "https://localhost:8080/",
          "height": 283
        },
        "id": "gmO37_DgT5AB",
        "outputId": "9b484bef-e7f4-409c-a56c-b00623b37bbd"
      },
      "execution_count": 89,
      "outputs": [
        {
          "output_type": "execute_result",
          "data": {
            "text/plain": [
              "<AxesSubplot:>"
            ]
          },
          "metadata": {},
          "execution_count": 89
        },
        {
          "output_type": "display_data",
          "data": {
            "text/plain": [
              "<Figure size 432x288 with 1 Axes>"
            ],
            "image/png": "[encoded data removed]"
          },
          "metadata": {
            "needs_background": "light"
          }
        }
      ]
    },
    {
      "cell_type": "markdown",
      "source": [
        "Catagorization of occupation into Service, Defence , Civil and Auxilary sectors was done to avoid overfitting. However showed no significant change in accuracy in predicting on the in-contest test data\n"
      ],
      "metadata": {
        "id": "eXOJGUP0PrAf"
      }
    },
    {
      "cell_type": "code",
      "source": [
        "train.occupation.unique()"
      ],
      "metadata": {
        "colab": {
          "base_uri": "https://localhost:8080/"
        },
        "id": "AoMldIy7U7ed",
        "outputId": "5ce2bc40-9b1c-4562-eb06-bd297b83da33"
      },
      "execution_count": 90,
      "outputs": [
        {
          "output_type": "execute_result",
          "data": {
            "text/plain": [
              "array([' Other-service', ' Farming-fishing', ' Craft-repair',\n",
              "       ' Transport-moving', ' Adm-clerical', ' Prof-specialty',\n",
              "       ' Exec-managerial', ' ?', ' Tech-support', ' Sales',\n",
              "       ' Handlers-cleaners', ' Protective-serv', ' Machine-op-inspct',\n",
              "       ' Priv-house-serv', ' Armed-Forces'], dtype=object)"
            ]
          },
          "metadata": {},
          "execution_count": 90
        }
      ]
    },
    {
      "cell_type": "code",
      "source": [
        "def reocc(row):\n",
        "  if(row['occupation'] in [' Other-service', ' Farming-fishing',' Tech-support', ' Craft-repair',' Transport-moving',' Handlers-cleaners',' Priv-house-serv',' Machine-op-inspct']):\n",
        "    row['occupation']='Service'\n",
        "  elif (row['occupation'] in [' Armed-Forces', ' Protective-serv']):\n",
        "    row['occupation']='Def'\n",
        "  elif (row['occupation'] in [' Adm-clerical', ' Prof-specialty',' Exec-managerial']):\n",
        "    row['occupation']='Civil'\n",
        "  else :\n",
        "    row['occupation']='Other'\n",
        "  return row\n",
        "train = train.apply(reocc,axis ='columns')\n",
        "test = test.apply(reocc,axis ='columns')"
      ],
      "metadata": {
        "id": "G3AbjX5-VGYs"
      },
      "execution_count": 91,
      "outputs": []
    },
    {
      "cell_type": "code",
      "source": [
        "train.occupation.hist()"
      ],
      "metadata": {
        "colab": {
          "base_uri": "https://localhost:8080/",
          "height": 282
        },
        "id": "qJP5llurXmR4",
        "outputId": "da3831d4-b4aa-466e-da3a-6b0b4bd41e7b"
      },
      "execution_count": 92,
      "outputs": [
        {
          "output_type": "execute_result",
          "data": {
            "text/plain": [
              "<AxesSubplot:>"
            ]
          },
          "metadata": {},
          "execution_count": 92
        },
        {
          "output_type": "display_data",
          "data": {
            "text/plain": [
              "<Figure size 432x288 with 1 Axes>"
            ],
            "image/png": "[encoded data removed]"
          },
          "metadata": {
            "needs_background": "light"
          }
        }
      ]
    },
    {
      "cell_type": "code",
      "source": [
        "for i in num.columns:\n",
        "  print(i.upper(),train[i].describe(),sep='\\n' ,end='\\n\\n\\n')"
      ],
      "metadata": {
        "colab": {
          "base_uri": "https://localhost:8080/"
        },
        "id": "SngHlHKSuYx4",
        "outputId": "b157ad60-13d8-4ad6-dae9-61f47eeb7589"
      },
      "execution_count": 93,
      "outputs": [
        {
          "output_type": "stream",
          "name": "stdout",
          "text": [
            "AGE\n",
            "count    34189.000000\n",
            "mean        38.609962\n",
            "std         13.660837\n",
            "min         17.000000\n",
            "25%         28.000000\n",
            "50%         37.000000\n",
            "75%         48.000000\n",
            "max         90.000000\n",
            "Name: age, dtype: float64\n",
            "\n",
            "\n",
            "FNLWGT\n",
            "count    3.418900e+04\n",
            "mean     1.895446e+05\n",
            "std      1.047680e+05\n",
            "min      1.228500e+04\n",
            "25%      1.175420e+05\n",
            "50%      1.783220e+05\n",
            "75%      2.375250e+05\n",
            "max      1.484705e+06\n",
            "Name: fnlwgt, dtype: float64\n",
            "\n",
            "\n",
            "EDUCATION-NUM\n",
            "count    34189.000000\n",
            "mean        10.070286\n",
            "std          2.566616\n",
            "min          1.000000\n",
            "25%          9.000000\n",
            "50%         10.000000\n",
            "75%         12.000000\n",
            "max         16.000000\n",
            "Name: education-num, dtype: float64\n",
            "\n",
            "\n",
            "CAPITAL-GAIN\n",
            "count    34189.000000\n",
            "mean      1106.028167\n",
            "std       7646.887377\n",
            "min          0.000000\n",
            "25%          0.000000\n",
            "50%          0.000000\n",
            "75%          0.000000\n",
            "max      99999.000000\n",
            "Name: capital-gain, dtype: float64\n",
            "\n",
            "\n",
            "CAPITAL-LOSS\n",
            "count    34189.000000\n",
            "mean        87.820030\n",
            "std        403.501064\n",
            "min          0.000000\n",
            "25%          0.000000\n",
            "50%          0.000000\n",
            "75%          0.000000\n",
            "max       4356.000000\n",
            "Name: capital-loss, dtype: float64\n",
            "\n",
            "\n",
            "HOURS-PER-WEEK\n",
            "count    34189.000000\n",
            "mean        40.461406\n",
            "std         12.391743\n",
            "min          1.000000\n",
            "25%         40.000000\n",
            "50%         40.000000\n",
            "75%         45.000000\n",
            "max         99.000000\n",
            "Name: hours-per-week, dtype: float64\n",
            "\n",
            "\n"
          ]
        }
      ]
    },
    {
      "cell_type": "code",
      "source": [
        "for i in num.columns:\n",
        "  print(i.upper(),test[i].describe(),sep='\\n' ,end='\\n\\n\\n')"
      ],
      "metadata": {
        "colab": {
          "base_uri": "https://localhost:8080/"
        },
        "id": "mhLuRJQ10ZDu",
        "outputId": "f2b36678-f5e7-4adf-9022-3a3428ea75b8"
      },
      "execution_count": 94,
      "outputs": [
        {
          "output_type": "stream",
          "name": "stdout",
          "text": [
            "AGE\n",
            "count    14653.000000\n",
            "mean        38.722036\n",
            "std         13.825866\n",
            "min         17.000000\n",
            "25%         28.000000\n",
            "50%         37.000000\n",
            "75%         48.000000\n",
            "max         90.000000\n",
            "Name: age, dtype: float64\n",
            "\n",
            "\n",
            "FNLWGT\n",
            "count    1.465300e+04\n",
            "mean     1.899431e+05\n",
            "std      1.075325e+05\n",
            "min      1.349200e+04\n",
            "25%      1.175830e+05\n",
            "50%      1.778310e+05\n",
            "75%      2.378730e+05\n",
            "max      1.490400e+06\n",
            "Name: fnlwgt, dtype: float64\n",
            "\n",
            "\n",
            "EDUCATION-NUM\n",
            "count    14653.000000\n",
            "mean        10.096294\n",
            "std          2.581105\n",
            "min          1.000000\n",
            "25%          9.000000\n",
            "50%         10.000000\n",
            "75%         13.000000\n",
            "max         16.000000\n",
            "Name: education-num, dtype: float64\n",
            "\n",
            "\n",
            "CAPITAL-GAIN\n",
            "count    14653.000000\n",
            "mean      1016.162151\n",
            "std       6976.056298\n",
            "min          0.000000\n",
            "25%          0.000000\n",
            "50%          0.000000\n",
            "75%          0.000000\n",
            "max      99999.000000\n",
            "Name: capital-gain, dtype: float64\n",
            "\n",
            "\n",
            "CAPITAL-LOSS\n",
            "count    14653.000000\n",
            "mean        86.761005\n",
            "std        401.856455\n",
            "min          0.000000\n",
            "25%          0.000000\n",
            "50%          0.000000\n",
            "75%          0.000000\n",
            "max       4356.000000\n",
            "Name: capital-loss, dtype: float64\n",
            "\n",
            "\n",
            "HOURS-PER-WEEK\n",
            "count    14653.000000\n",
            "mean        40.331331\n",
            "std         12.390692\n",
            "min          1.000000\n",
            "25%         40.000000\n",
            "50%         40.000000\n",
            "75%         45.000000\n",
            "max         99.000000\n",
            "Name: hours-per-week, dtype: float64\n",
            "\n",
            "\n"
          ]
        }
      ]
    },
    {
      "cell_type": "markdown",
      "source": [
        "Analysis of the numerical features :\n",
        "\n",
        "\n",
        "*  Age distribution could be classified into multiple sections considering the basic correlation between age groups and income\n",
        "*  Working hours can be classified into classes with respect to their normal distribution across mean\n",
        "*  It makes sense to analyse capital loss and gain as a whole instead of two independent variables in terms of their difference. This avoids having too many variables in the classification algorithm"
      ],
      "metadata": {
        "id": "VBdpadLMSi1Y"
      }
    },
    {
      "cell_type": "code",
      "source": [
        "#Age catagorization\n",
        "def reage(row):\n",
        "  for i in range(17,47,5):\n",
        "    if int(row['age']) in range(i,i+5):\n",
        "      row['age']=int((i-17)/5)\n",
        "  for i in range(47,63,8):\n",
        "    if int(row['age']) in range(i,i+8):\n",
        "      row['age']=int((i-47)/8)+6\n",
        "  for i in range(63,91,9):\n",
        "    if int(row['age']) in range(i,i+9):\n",
        "      row['age']=int((i-63)/9)+8\n",
        "  return row\n",
        "train = train.apply(reage,axis ='columns')\n",
        "test = test.apply(reage,axis ='columns')"
      ],
      "metadata": {
        "id": "eAuDdEy0uc6P"
      },
      "execution_count": 95,
      "outputs": []
    },
    {
      "cell_type": "code",
      "source": [
        "train.age.value_counts()"
      ],
      "metadata": {
        "colab": {
          "base_uri": "https://localhost:8080/"
        },
        "id": "AQNSf8EB57pN",
        "outputId": "55f04c1a-ffae-4bb3-c787-29a8ce46ec0b"
      },
      "execution_count": 96,
      "outputs": [
        {
          "output_type": "execute_result",
          "data": {
            "text/plain": [
              "3     4638\n",
              "6     4629\n",
              "2     4434\n",
              "4     4285\n",
              "1     4243\n",
              "5     3878\n",
              "0     3311\n",
              "7     2860\n",
              "8     1416\n",
              "9      398\n",
              "10      64\n",
              "11      33\n",
              "Name: age, dtype: int64"
            ]
          },
          "metadata": {},
          "execution_count": 96
        }
      ]
    },
    {
      "cell_type": "markdown",
      "source": [
        "The below scatter plot suggest no logic in classifying education numbers into catagories cosidering that all education numbers seem to have apploximately equal distribution across both catagories"
      ],
      "metadata": {
        "id": "DKa6FvGUS2vs"
      }
    },
    {
      "cell_type": "code",
      "source": [
        "train.plot(x=\"education-num\", y='income' ,kind=  'scatter', figsize=(9, 8))\n",
        "plt.show()"
      ],
      "metadata": {
        "colab": {
          "base_uri": "https://localhost:8080/",
          "height": 497
        },
        "id": "T1UKH2g67ag4",
        "outputId": "08db8a71-5fc8-49b9-9594-9a2632e866fa"
      },
      "execution_count": 97,
      "outputs": [
        {
          "output_type": "display_data",
          "data": {
            "text/plain": [
              "<Figure size 648x576 with 1 Axes>"
            ],
            "image/png": "[encoded data removed]"
          },
          "metadata": {
            "needs_background": "light"
          }
        }
      ]
    },
    {
      "cell_type": "code",
      "source": [
        "#Working Hours catagorization\n",
        "def rehour(row):\n",
        "  for i in range(1,30,15):\n",
        "    if int(row['hours-per-week']) in range(i,i+15):\n",
        "      row['hours-per-week']=int((i-1)/15)\n",
        "  for i in range(30,45,3):\n",
        "    if int(row['hours-per-week']) in range(i,i+3):\n",
        "      row['hours-per-week']=int((i-30)/3)+2\n",
        "  for i in range(45,55,5):\n",
        "    if int(row['hours-per-week']) in range(i,i+5):\n",
        "      row['hours-per-week']=int((i-45)/5)+7\n",
        "  for i in range(55,99,15):\n",
        "    if int(row['hours-per-week']) in range(i,i+15):\n",
        "      row['hours-per-week']=int((i-55)/15)+9\n",
        "  return row\n",
        "train = train.apply(rehour,axis ='columns')\n",
        "test = test.apply(rehour,axis ='columns')\n"
      ],
      "metadata": {
        "id": "fJTHYwEa6I-h"
      },
      "execution_count": 98,
      "outputs": []
    },
    {
      "cell_type": "code",
      "source": [
        "train['hours-per-week'].hist()"
      ],
      "metadata": {
        "colab": {
          "base_uri": "https://localhost:8080/",
          "height": 282
        },
        "id": "NjZrWT5zAlzc",
        "outputId": "dc004002-8c97-43d8-cf6a-835c795821f3"
      },
      "execution_count": 99,
      "outputs": [
        {
          "output_type": "execute_result",
          "data": {
            "text/plain": [
              "<AxesSubplot:>"
            ]
          },
          "metadata": {},
          "execution_count": 99
        },
        {
          "output_type": "display_data",
          "data": {
            "text/plain": [
              "<Figure size 432x288 with 1 Axes>"
            ],
            "image/png": "[encoded data removed]"
          },
          "metadata": {
            "needs_background": "light"
          }
        }
      ]
    },
    {
      "cell_type": "code",
      "source": [
        "#Merging Capital loss and gains as capital net=gain-loss\n",
        "\n",
        "def capnet(row):\n",
        "  row['Capital-net']=row['capital-gain']-row['capital-loss'] \n",
        "  return row\n",
        "train = train.apply(capnet,axis ='columns')\n",
        "test = test.apply(capnet,axis ='columns')"
      ],
      "metadata": {
        "id": "MDbbelKrAtwt"
      },
      "execution_count": 100,
      "outputs": []
    },
    {
      "cell_type": "code",
      "source": [
        "train['Capital-net'].describe()"
      ],
      "metadata": {
        "colab": {
          "base_uri": "https://localhost:8080/"
        },
        "id": "HIOzeIglDUyd",
        "outputId": "299fd001-ec82-4266-b183-b4bbb529d092"
      },
      "execution_count": 101,
      "outputs": [
        {
          "output_type": "execute_result",
          "data": {
            "text/plain": [
              "count    34189.000000\n",
              "mean      1018.208137\n",
              "std       7670.200011\n",
              "min      -4356.000000\n",
              "25%          0.000000\n",
              "50%          0.000000\n",
              "75%          0.000000\n",
              "max      99999.000000\n",
              "Name: Capital-net, dtype: float64"
            ]
          },
          "metadata": {},
          "execution_count": 101
        }
      ]
    },
    {
      "cell_type": "code",
      "source": [
        "train['Capital-net'].hist()"
      ],
      "metadata": {
        "colab": {
          "base_uri": "https://localhost:8080/",
          "height": 282
        },
        "id": "9OfZsHbaDpXf",
        "outputId": "8b079ae2-556d-4cfe-a94d-d67e8dfcf5f1"
      },
      "execution_count": 102,
      "outputs": [
        {
          "output_type": "execute_result",
          "data": {
            "text/plain": [
              "<AxesSubplot:>"
            ]
          },
          "metadata": {},
          "execution_count": 102
        },
        {
          "output_type": "display_data",
          "data": {
            "text/plain": [
              "<Figure size 432x288 with 1 Axes>"
            ],
            "image/png": "[encoded data removed]"
          },
          "metadata": {
            "needs_background": "light"
          }
        }
      ]
    },
    {
      "cell_type": "code",
      "source": [
        "#Catagorizing the new 'Capital-Net' feature into different ranges to \n",
        "def reCap(row):\n",
        "  for i in range(-4500,4500,250):\n",
        "    if int(row['Capital-net'])in range(i,i+250):\n",
        "      row['Capital-net'] = int((i+4500)/250)\n",
        "  for i in range(4500,20000,2000):\n",
        "    if int(row['Capital-net'])in range(i,i+2000):\n",
        "      row['Capital-net'] = int((i-4500)/2000)+36\n",
        "  for i in range(20000,100000,20000):\n",
        "    if int(row['Capital-net'])in range(i,i+20000):\n",
        "      row['Capital-net'] = int((i-20000)/20000)+44\n",
        "  return row\n",
        "train = train.apply(reCap,axis ='columns')\n",
        "test = test.apply(reCap,axis ='columns')"
      ],
      "metadata": {
        "id": "0_5JDqT4D0lO"
      },
      "execution_count": 103,
      "outputs": []
    },
    {
      "cell_type": "code",
      "source": [
        "train['Capital-net'].hist()"
      ],
      "metadata": {
        "colab": {
          "base_uri": "https://localhost:8080/",
          "height": 282
        },
        "id": "YRUpdWEwIMeS",
        "outputId": "be2255b8-2fb1-4203-a7f0-b11ccbb57ea4"
      },
      "execution_count": 104,
      "outputs": [
        {
          "output_type": "execute_result",
          "data": {
            "text/plain": [
              "<AxesSubplot:>"
            ]
          },
          "metadata": {},
          "execution_count": 104
        },
        {
          "output_type": "display_data",
          "data": {
            "text/plain": [
              "<Figure size 432x288 with 1 Axes>"
            ],
            "image/png": "[encoded data removed]"
          },
          "metadata": {
            "needs_background": "light"
          }
        }
      ]
    },
    {
      "cell_type": "code",
      "source": [
        "train['fnlwgt'] = train['fnlwgt'].apply(lambda x : x/1e6)\n",
        "test['fnlwgt'] = test['fnlwgt'].apply(lambda x : x/1e6)\n",
        "test['fnlwgt'].hist()"
      ],
      "metadata": {
        "colab": {
          "base_uri": "https://localhost:8080/",
          "height": 282
        },
        "id": "9ukD-Kh9NemY",
        "outputId": "6a3c8aa7-b75b-4d2c-d2cb-4f13c221454a"
      },
      "execution_count": 105,
      "outputs": [
        {
          "output_type": "execute_result",
          "data": {
            "text/plain": [
              "<AxesSubplot:>"
            ]
          },
          "metadata": {},
          "execution_count": 105
        },
        {
          "output_type": "display_data",
          "data": {
            "text/plain": [
              "<Figure size 432x288 with 1 Axes>"
            ],
            "image/png": "[encoded data removed]"
          },
          "metadata": {
            "needs_background": "light"
          }
        }
      ]
    },
    {
      "cell_type": "code",
      "source": [
        "train['fnlwgt'].describe()"
      ],
      "metadata": {
        "colab": {
          "base_uri": "https://localhost:8080/"
        },
        "id": "KcAza8BxORH8",
        "outputId": "76cf9083-9e02-4f43-e086-493b49e7af22"
      },
      "execution_count": 106,
      "outputs": [
        {
          "output_type": "execute_result",
          "data": {
            "text/plain": [
              "count    34189.000000\n",
              "mean         0.189545\n",
              "std          0.104768\n",
              "min          0.012285\n",
              "25%          0.117542\n",
              "50%          0.178322\n",
              "75%          0.237525\n",
              "max          1.484705\n",
              "Name: fnlwgt, dtype: float64"
            ]
          },
          "metadata": {},
          "execution_count": 106
        }
      ]
    },
    {
      "cell_type": "code",
      "source": [
        "#Reorganizing Final Weight into multiple catagories to normalize the data\n",
        "def rewgt(row):\n",
        "  for i in range(0,4,1):\n",
        "    if (row['fnlwgt']<(float(i+1)/20) and row['fnlwgt']>=(float(i)/20) ):\n",
        "      row['fnlwgt']=int(i)\n",
        "  for i in range(4,12,2):\n",
        "    if (row['fnlwgt']<(float(i+1)/20) and row['fnlwgt']>=(float(i)/20) ):\n",
        "      row['fnlwgt']=int((i-4)/2)+4\n",
        "  for i in range(12,30,4):\n",
        "    if (row['fnlwgt']<(float(i+1)/20) and row['fnlwgt']>=(float(i)/20) ):\n",
        "      row['fnlwgt']=int((i-12)/4)+8 \n",
        "  return row\n",
        "train = train.apply(rewgt,axis ='columns')\n",
        "test = test.apply(rewgt,axis ='columns')"
      ],
      "metadata": {
        "id": "LvqzJFP4OiOD"
      },
      "execution_count": 107,
      "outputs": []
    },
    {
      "cell_type": "code",
      "source": [
        "train.plot(x=\"fnlwgt\", y='income' ,kind=  'scatter', figsize=(9, 8))"
      ],
      "metadata": {
        "colab": {
          "base_uri": "https://localhost:8080/",
          "height": 514
        },
        "id": "-iHrkkFjSY14",
        "outputId": "ec02724d-a68a-4511-b766-917b35950642"
      },
      "execution_count": 108,
      "outputs": [
        {
          "output_type": "execute_result",
          "data": {
            "text/plain": [
              "<AxesSubplot:xlabel='fnlwgt', ylabel='income'>"
            ]
          },
          "metadata": {},
          "execution_count": 108
        },
        {
          "output_type": "display_data",
          "data": {
            "text/plain": [
              "<Figure size 648x576 with 1 Axes>"
            ],
            "image/png": "[encoded data removed]"
          },
          "metadata": {
            "needs_background": "light"
          }
        }
      ]
    },
    {
      "cell_type": "code",
      "source": [
        "train.corr()"
      ],
      "metadata": {
        "colab": {
          "base_uri": "https://localhost:8080/",
          "height": 331
        },
        "id": "T_CvGRSb0Osl",
        "outputId": "960c0308-e2b8-4854-bdd6-de9204d25126"
      },
      "execution_count": 109,
      "outputs": [
        {
          "output_type": "execute_result",
          "data": {
            "text/plain": [
              "                      id       age    fnlwgt  education-num  capital-gain  \\\n",
              "id              1.000000  0.004540  0.000387      -0.000676      0.003327   \n",
              "age             0.004540  1.000000  0.019363       0.044416      0.078719   \n",
              "fnlwgt          0.000387  0.019363  1.000000       0.001072     -0.008591   \n",
              "education-num  -0.000676  0.044416  0.001072       1.000000      0.129214   \n",
              "capital-gain    0.003327  0.078719 -0.008591       0.129214      1.000000   \n",
              "capital-loss   -0.001438  0.055227 -0.013018       0.079316     -0.031481   \n",
              "hours-per-week -0.001498  0.134777 -0.005555       0.171357      0.087913   \n",
              "income         -0.003956  0.253070 -0.007971       0.335610      0.224856   \n",
              "Capital-net    -0.000496  0.126971 -0.005582       0.156717      0.646470   \n",
              "\n",
              "                capital-loss  hours-per-week    income  Capital-net  \n",
              "id                 -0.001438       -0.001498 -0.003956    -0.000496  \n",
              "age                 0.055227        0.134777  0.253070     0.126971  \n",
              "fnlwgt             -0.013018       -0.005555 -0.007971    -0.005582  \n",
              "education-num       0.079316        0.171357  0.335610     0.156717  \n",
              "capital-gain       -0.031481        0.087913  0.224856     0.646470  \n",
              "capital-loss        1.000000        0.059407  0.141800    -0.061150  \n",
              "hours-per-week      0.059407        1.000000  0.263282     0.109828  \n",
              "income              0.141800        0.263282  1.000000     0.331589  \n",
              "Capital-net        -0.061150        0.109828  0.331589     1.000000  "
            ],
            "text/html": [
              "\n",
              "  <div id=\"df-f59f2a9e-02f8-46a0-a60b-f96ec6297c50\">\n",
              "    <div class=\"colab-df-container\">\n",
              "      <div>\n",
              "<style scoped>\n",
              "    .dataframe tbody tr th:only-of-type {\n",
              "        vertical-align: middle;\n",
              "    }\n",
              "\n",
              "    .dataframe tbody tr th {\n",
              "        vertical-align: top;\n",
              "    }\n",
              "\n",
              "    .dataframe thead th {\n",
              "        text-align: right;\n",
              "    }\n",
              "</style>\n",
              "<table border=\"1\" class=\"dataframe\">\n",
              "  <thead>\n",
              "    <tr style=\"text-align: right;\">\n",
              "      <th></th>\n",
              "      <th>id</th>\n",
              "      <th>age</th>\n",
              "      <th>fnlwgt</th>\n",
              "      <th>education-num</th>\n",
              "      <th>capital-gain</th>\n",
              "      <th>capital-loss</th>\n",
              "      <th>hours-per-week</th>\n",
              "      <th>income</th>\n",
              "      <th>Capital-net</th>\n",
              "    </tr>\n",
              "  </thead>\n",
              "  <tbody>\n",
              "    <tr>\n",
              "      <th>id</th>\n",
              "      <td>1.000000</td>\n",
              "      <td>0.004540</td>\n",
              "      <td>0.000387</td>\n",
              "      <td>-0.000676</td>\n",
              "      <td>0.003327</td>\n",
              "      <td>-0.001438</td>\n",
              "      <td>-0.001498</td>\n",
              "      <td>-0.003956</td>\n",
              "      <td>-0.000496</td>\n",
              "    </tr>\n",
              "    <tr>\n",
              "      <th>age</th>\n",
              "      <td>0.004540</td>\n",
              "      <td>1.000000</td>\n",
              "      <td>0.019363</td>\n",
              "      <td>0.044416</td>\n",
              "      <td>0.078719</td>\n",
              "      <td>0.055227</td>\n",
              "      <td>0.134777</td>\n",
              "      <td>0.253070</td>\n",
              "      <td>0.126971</td>\n",
              "    </tr>\n",
              "    <tr>\n",
              "      <th>fnlwgt</th>\n",
              "      <td>0.000387</td>\n",
              "      <td>0.019363</td>\n",
              "      <td>1.000000</td>\n",
              "      <td>0.001072</td>\n",
              "      <td>-0.008591</td>\n",
              "      <td>-0.013018</td>\n",
              "      <td>-0.005555</td>\n",
              "      <td>-0.007971</td>\n",
              "      <td>-0.005582</td>\n",
              "    </tr>\n",
              "    <tr>\n",
              "      <th>education-num</th>\n",
              "      <td>-0.000676</td>\n",
              "      <td>0.044416</td>\n",
              "      <td>0.001072</td>\n",
              "      <td>1.000000</td>\n",
              "      <td>0.129214</td>\n",
              "      <td>0.079316</td>\n",
              "      <td>0.171357</td>\n",
              "      <td>0.335610</td>\n",
              "      <td>0.156717</td>\n",
              "    </tr>\n",
              "    <tr>\n",
              "      <th>capital-gain</th>\n",
              "      <td>0.003327</td>\n",
              "      <td>0.078719</td>\n",
              "      <td>-0.008591</td>\n",
              "      <td>0.129214</td>\n",
              "      <td>1.000000</td>\n",
              "      <td>-0.031481</td>\n",
              "      <td>0.087913</td>\n",
              "      <td>0.224856</td>\n",
              "      <td>0.646470</td>\n",
              "    </tr>\n",
              "    <tr>\n",
              "      <th>capital-loss</th>\n",
              "      <td>-0.001438</td>\n",
              "      <td>0.055227</td>\n",
              "      <td>-0.013018</td>\n",
              "      <td>0.079316</td>\n",
              "      <td>-0.031481</td>\n",
              "      <td>1.000000</td>\n",
              "      <td>0.059407</td>\n",
              "      <td>0.141800</td>\n",
              "      <td>-0.061150</td>\n",
              "    </tr>\n",
              "    <tr>\n",
              "      <th>hours-per-week</th>\n",
              "      <td>-0.001498</td>\n",
              "      <td>0.134777</td>\n",
              "      <td>-0.005555</td>\n",
              "      <td>0.171357</td>\n",
              "      <td>0.087913</td>\n",
              "      <td>0.059407</td>\n",
              "      <td>1.000000</td>\n",
              "      <td>0.263282</td>\n",
              "      <td>0.109828</td>\n",
              "    </tr>\n",
              "    <tr>\n",
              "      <th>income</th>\n",
              "      <td>-0.003956</td>\n",
              "      <td>0.253070</td>\n",
              "      <td>-0.007971</td>\n",
              "      <td>0.335610</td>\n",
              "      <td>0.224856</td>\n",
              "      <td>0.141800</td>\n",
              "      <td>0.263282</td>\n",
              "      <td>1.000000</td>\n",
              "      <td>0.331589</td>\n",
              "    </tr>\n",
              "    <tr>\n",
              "      <th>Capital-net</th>\n",
              "      <td>-0.000496</td>\n",
              "      <td>0.126971</td>\n",
              "      <td>-0.005582</td>\n",
              "      <td>0.156717</td>\n",
              "      <td>0.646470</td>\n",
              "      <td>-0.061150</td>\n",
              "      <td>0.109828</td>\n",
              "      <td>0.331589</td>\n",
              "      <td>1.000000</td>\n",
              "    </tr>\n",
              "  </tbody>\n",
              "</table>\n",
              "</div>\n",
              "      <button class=\"colab-df-convert\" onclick=\"convertToInteractive('df-f59f2a9e-02f8-46a0-a60b-f96ec6297c50')\"\n",
              "              title=\"Convert this dataframe to an interactive table.\"\n",
              "              style=\"display:none;\">\n",
              "        \n",
              "  <svg xmlns=\"http://www.w3.org/2000/svg\" height=\"24px\"viewBox=\"0 0 24 24\"\n",
              "       width=\"24px\">\n",
              "    <path d=\"M0 0h24v24H0V0z\" fill=\"none\"/>\n",
              "    <path d=\"M18.56 5.44l.94 2.06.94-2.06 2.06-.94-2.06-.94-.94-2.06-.94 2.06-2.06.94zm-11 1L8.5 8.5l.94-2.06 2.06-.94-2.06-.94L8.5 2.5l-.94 2.06-2.06.94zm10 10l.94 2.06.94-2.06 2.06-.94-2.06-.94-.94-2.06-.94 2.06-2.06.94z\"/><path d=\"M17.41 7.96l-1.37-1.37c-.4-.4-.92-.59-1.43-.59-.52 0-1.04.2-1.43.59L10.3 9.45l-7.72 7.72c-.78.78-.78 2.05 0 2.83L4 21.41c.39.39.9.59 1.41.59.51 0 1.02-.2 1.41-.59l7.78-7.78 2.81-2.81c.8-.78.8-2.07 0-2.86zM5.41 20L4 18.59l7.72-7.72 1.47 1.35L5.41 20z\"/>\n",
              "  </svg>\n",
              "      </button>\n",
              "      \n",
              "  <style>\n",
              "    .colab-df-container {\n",
              "      display:flex;\n",
              "      flex-wrap:wrap;\n",
              "      gap: 12px;\n",
              "    }\n",
              "\n",
              "    .colab-df-convert {\n",
              "      background-color: #E8F0FE;\n",
              "      border: none;\n",
              "      border-radius: 50%;\n",
              "      cursor: pointer;\n",
              "      display: none;\n",
              "      fill: #1967D2;\n",
              "      height: 32px;\n",
              "      padding: 0 0 0 0;\n",
              "      width: 32px;\n",
              "    }\n",
              "\n",
              "    .colab-df-convert:hover {\n",
              "      background-color: #E2EBFA;\n",
              "      box-shadow: 0px 1px 2px rgba(60, 64, 67, 0.3), 0px 1px 3px 1px rgba(60, 64, 67, 0.15);\n",
              "      fill: #174EA6;\n",
              "    }\n",
              "\n",
              "    [theme=dark] .colab-df-convert {\n",
              "      background-color: #3B4455;\n",
              "      fill: #D2E3FC;\n",
              "    }\n",
              "\n",
              "    [theme=dark] .colab-df-convert:hover {\n",
              "      background-color: #434B5C;\n",
              "      box-shadow: 0px 1px 3px 1px rgba(0, 0, 0, 0.15);\n",
              "      filter: drop-shadow(0px 1px 2px rgba(0, 0, 0, 0.3));\n",
              "      fill: #FFFFFF;\n",
              "    }\n",
              "  </style>\n",
              "\n",
              "      <script>\n",
              "        const buttonEl =\n",
              "          document.querySelector('#df-f59f2a9e-02f8-46a0-a60b-f96ec6297c50 button.colab-df-convert');\n",
              "        buttonEl.style.display =\n",
              "          google.colab.kernel.accessAllowed ? 'block' : 'none';\n",
              "\n",
              "        async function convertToInteractive(key) {\n",
              "          const element = document.querySelector('#df-f59f2a9e-02f8-46a0-a60b-f96ec6297c50');\n",
              "          const dataTable =\n",
              "            await google.colab.kernel.invokeFunction('convertToInteractive',\n",
              "                                                     [key], {});\n",
              "          if (!dataTable) return;\n",
              "\n",
              "          const docLinkHtml = 'Like what you see? Visit the ' +\n",
              "            '<a target=\"_blank\" href=https://colab.research.google.com/notebooks/data_table.ipynb>data table notebook</a>'\n",
              "            + ' to learn more about interactive tables.';\n",
              "          element.innerHTML = '';\n",
              "          dataTable['output_type'] = 'display_data';\n",
              "          await google.colab.output.renderOutput(dataTable, element);\n",
              "          const docLink = document.createElement('div');\n",
              "          docLink.innerHTML = docLinkHtml;\n",
              "          element.appendChild(docLink);\n",
              "        }\n",
              "      </script>\n",
              "    </div>\n",
              "  </div>\n",
              "  "
            ]
          },
          "metadata": {},
          "execution_count": 109
        }
      ]
    },
    {
      "cell_type": "markdown",
      "source": [
        "**Data Scaling and Converting catagorical data into dummy/indicator variables**"
      ],
      "metadata": {
        "id": "cck-IpG-GYkv"
      }
    },
    {
      "cell_type": "code",
      "source": [
        "features=['age', 'workclass', 'fnlwgt', 'education', 'education-num','marital-status', 'occupation', 'relationship', 'race', 'sex','Capital-net', 'hours-per-week', 'Native']\n",
        "X_train = pd.get_dummies(train[features])\n",
        "X_test =  pd.get_dummies(test[features])\n",
        "y_train = train['income']\n",
        "y_train.shape"
      ],
      "metadata": {
        "colab": {
          "base_uri": "https://localhost:8080/"
        },
        "id": "Lv1obckrSqrn",
        "outputId": "37aa4b29-b713-4d94-9897-ab00181da378"
      },
      "execution_count": 110,
      "outputs": [
        {
          "output_type": "execute_result",
          "data": {
            "text/plain": [
              "(34189,)"
            ]
          },
          "metadata": {},
          "execution_count": 110
        }
      ]
    },
    {
      "cell_type": "code",
      "source": [
        "from sklearn.svm import SVC\n",
        "from sklearn.preprocessing import StandardScaler\n",
        "\n",
        "sc = StandardScaler()\n",
        "X_train = sc.fit_transform(X_train) \n",
        "X_test = sc.transform(X_test)\n",
        "y_train = train.income"
      ],
      "metadata": {
        "id": "87O7ylC_aGd8"
      },
      "execution_count": 111,
      "outputs": []
    },
    {
      "cell_type": "markdown",
      "source": [
        "# Testing Various Classification Algorithms on train data for accuracy\n",
        "Upon testing the various classification algorithms, XGBoost suggests maximum efficiency in predictions."
      ],
      "metadata": {
        "id": "5_X2a8KI3crK"
      }
    },
    {
      "cell_type": "code",
      "source": [
        "from sklearn.model_selection import cross_val_score\n",
        "from sklearn.naive_bayes import GaussianNB\n",
        "from sklearn.linear_model import LogisticRegression\n",
        "from sklearn import tree\n",
        "from sklearn.neighbors import KNeighborsClassifier\n",
        "from sklearn.ensemble import RandomForestClassifier\n",
        "from sklearn.svm import SVC\n",
        "from xgboost import XGBClassifier"
      ],
      "metadata": {
        "id": "G-oVwjVZ3ax5"
      },
      "execution_count": 112,
      "outputs": []
    },
    {
      "cell_type": "code",
      "source": [
        "gnb = GaussianNB()\n",
        "cv = cross_val_score(gnb,X_train,y_train,cv=5)\n",
        "print(cv)\n",
        "print(cv.mean())"
      ],
      "metadata": {
        "colab": {
          "base_uri": "https://localhost:8080/"
        },
        "id": "KJRwG97S4V_D",
        "outputId": "ecd8ecf7-4af9-486c-f43b-e2998603d68c"
      },
      "execution_count": 113,
      "outputs": [
        {
          "output_type": "stream",
          "name": "stdout",
          "text": [
            "[0.63863703 0.63454226 0.63615092 0.63966072 0.63916923]\n",
            "0.6376320318580365\n"
          ]
        }
      ]
    },
    {
      "cell_type": "code",
      "source": [
        "lr = LogisticRegression(max_iter = 2000)\n",
        "cv = cross_val_score(lr,X_train,y_train,cv=5)\n",
        "print(cv)\n",
        "print(cv.mean())"
      ],
      "metadata": {
        "colab": {
          "base_uri": "https://localhost:8080/"
        },
        "id": "UX644f2Y5MLQ",
        "outputId": "faee9e7d-23ed-419a-ab12-32e75a2cdbaa"
      },
      "execution_count": 114,
      "outputs": [
        {
          "output_type": "stream",
          "name": "stdout",
          "text": [
            "[0.84688505 0.84205908 0.85083358 0.83854928 0.8478865 ]\n",
            "0.8452426992249175\n"
          ]
        }
      ]
    },
    {
      "cell_type": "code",
      "source": [
        "dt = tree.DecisionTreeClassifier(random_state = 1)\n",
        "cv = cross_val_score(dt,X_train,y_train,cv=5)\n",
        "print(cv)\n",
        "print(cv.mean())"
      ],
      "metadata": {
        "colab": {
          "base_uri": "https://localhost:8080/"
        },
        "id": "eSKoaEF75nO7",
        "outputId": "830b4ed3-0440-4d67-bbc9-27ff99c57d70"
      },
      "execution_count": 115,
      "outputs": [
        {
          "output_type": "stream",
          "name": "stdout",
          "text": [
            "[0.80769231 0.79833285 0.81412694 0.80447499 0.81409975]\n",
            "0.8077453670591211\n"
          ]
        }
      ]
    },
    {
      "cell_type": "code",
      "source": [
        "knn = KNeighborsClassifier()\n",
        "cv = cross_val_score(knn,X_train,y_train,cv=5)\n",
        "print(cv)\n",
        "print(cv.mean())"
      ],
      "metadata": {
        "colab": {
          "base_uri": "https://localhost:8080/"
        },
        "id": "f-eZqZYV5tL8",
        "outputId": "265b2773-3dc6-47cc-fc62-00219633703b"
      },
      "execution_count": 116,
      "outputs": [
        {
          "output_type": "stream",
          "name": "stdout",
          "text": [
            "[0.8287511  0.81690553 0.83094472 0.81427318 0.82828726]\n",
            "0.8238323570418394\n"
          ]
        }
      ]
    },
    {
      "cell_type": "code",
      "source": [
        "xgb = XGBClassifier(random_state =1)\n",
        "cv = cross_val_score(xgb,X_train,y_train,cv=5)\n",
        "print(cv)\n",
        "print(cv.mean())"
      ],
      "metadata": {
        "colab": {
          "base_uri": "https://localhost:8080/"
        },
        "id": "mmOOE_KE5-zr",
        "outputId": "2389e4e0-c252-4e0f-9c34-6480fefc2123"
      },
      "execution_count": 117,
      "outputs": [
        {
          "output_type": "stream",
          "name": "stdout",
          "text": [
            "[0.85726821 0.84966364 0.8582919  0.8477625  0.85841743]\n",
            "0.8542807375675505\n"
          ]
        }
      ]
    },
    {
      "cell_type": "markdown",
      "source": [
        "##FINAL OUTPUT:\n",
        "\n"
      ],
      "metadata": {
        "id": "m58e-Rc8HuWM"
      }
    },
    {
      "cell_type": "markdown",
      "source": [
        "Using **Support Vector Classifier** to predict Income \n",
        "(Accuracy : 79.934%)"
      ],
      "metadata": {
        "id": "s37L9MGMs9fg"
      }
    },
    {
      "cell_type": "code",
      "source": [
        "clf = SVC(kernel= 'sigmoid')\n",
        "clf.fit(X_train, y_train)\n",
        "target0 = clf.predict(X_test)"
      ],
      "metadata": {
        "id": "eklYDLqlkAAc"
      },
      "execution_count": 118,
      "outputs": []
    },
    {
      "cell_type": "code",
      "source": [
        "#Function to translate income values from binary to required output format \n",
        "convert = lambda x : '<=50k' if x==0 else '>50k'"
      ],
      "metadata": {
        "id": "CAyO72hWnGCe"
      },
      "execution_count": 119,
      "outputs": []
    },
    {
      "cell_type": "code",
      "source": [
        "target0 = np.array([convert(x) for x in target0])\n",
        "output = {'id': test.id , 'income':target0}\n",
        "submission0 = pd.DataFrame(data=output)\n",
        "submission0.to_csv('submission0.csv',index=False)"
      ],
      "metadata": {
        "id": "EnZYryBolTW8"
      },
      "execution_count": 120,
      "outputs": []
    },
    {
      "cell_type": "markdown",
      "source": [
        "Using **Random Forest Classifier** to predict Income \n",
        "(Accuracy : 84.111%)"
      ],
      "metadata": {
        "id": "wN9FduaBtX1D"
      }
    },
    {
      "cell_type": "code",
      "source": [
        "classify = RandomForestClassifier(n_estimators = 100)  \n",
        "classify.fit(X_train,y_train)\n",
        "target1 = classify.predict(X_test)\n",
        "target1 = np.array([convert(x) for x in target1])"
      ],
      "metadata": {
        "id": "chEr2h1crGJl"
      },
      "execution_count": 121,
      "outputs": []
    },
    {
      "cell_type": "code",
      "source": [
        "output = {'id': test.id , 'income':target1}\n",
        "submission1 = pd.DataFrame(data=output)\n",
        "submission1.to_csv('submission1.csv',index=False)"
      ],
      "metadata": {
        "id": "pd3_yAnzra_O"
      },
      "execution_count": 122,
      "outputs": []
    },
    {
      "cell_type": "markdown",
      "source": [
        "Using **XGB Classification** to predict income(Acuuracy :85.367%)"
      ],
      "metadata": {
        "id": "ogaY3c9l7D1M"
      }
    },
    {
      "cell_type": "code",
      "source": [
        "xclassify = XGBClassifier()\n",
        "xclassify.fit(X_train, y_train)\n",
        "target2 = xclassify.predict(X_test)\n",
        "target2 = np.array([convert(x) for x in target2])"
      ],
      "metadata": {
        "id": "5fdo1Foe64YQ"
      },
      "execution_count": 123,
      "outputs": []
    },
    {
      "cell_type": "code",
      "source": [
        "output = {'id': test.id , 'income':target2}\n",
        "submission2 = pd.DataFrame(data=output)\n",
        "submission2.to_csv('submission2.csv',index=False)"
      ],
      "metadata": {
        "id": "TivvsDW18rRV"
      },
      "execution_count": 124,
      "outputs": []
    },
    {
      "cell_type": "code",
      "source": [
        "from google.colab import files\n",
        "\n",
        "files.download('submission0.csv')\n",
        "files.download('submission1.csv')\n",
        "files.download('submission2.csv')"
      ],
      "metadata": {
        "colab": {
          "base_uri": "https://localhost:8080/",
          "height": 17
        },
        "id": "cXcPSRmAmgOI",
        "outputId": "df241b3a-cd49-4f52-c3ce-89e8a73f743c"
      },
      "execution_count": 125,
      "outputs": [
        {
          "output_type": "display_data",
          "data": {
            "text/plain": [
              "<IPython.core.display.Javascript object>"
            ],
            "application/javascript": [
              "\n",
              "    async function download(id, filename, size) {\n",
              "      if (!google.colab.kernel.accessAllowed) {\n",
              "        return;\n",
              "      }\n",
              "      const div = document.createElement('div');\n",
              "      const label = document.createElement('label');\n",
              "      label.textContent = `Downloading \"${filename}\": `;\n",
              "      div.appendChild(label);\n",
              "      const progress = document.createElement('progress');\n",
              "      progress.max = size;\n",
              "      div.appendChild(progress);\n",
              "      document.body.appendChild(div);\n",
              "\n",
              "      const buffers = [];\n",
              "      let downloaded = 0;\n",
              "\n",
              "      const channel = await google.colab.kernel.comms.open(id);\n",
              "      // Send a message to notify the kernel that we're ready.\n",
              "      channel.send({})\n",
              "\n",
              "      for await (const message of channel.messages) {\n",
              "        // Send a message to notify the kernel that we're ready.\n",
              "        channel.send({})\n",
              "        if (message.buffers) {\n",
              "          for (const buffer of message.buffers) {\n",
              "            buffers.push(buffer);\n",
              "            downloaded += buffer.byteLength;\n",
              "            progress.value = downloaded;\n",
              "          }\n",
              "        }\n",
              "      }\n",
              "      const blob = new Blob(buffers, {type: 'application/binary'});\n",
              "      const a = document.createElement('a');\n",
              "      a.href = window.URL.createObjectURL(blob);\n",
              "      a.download = filename;\n",
              "      div.appendChild(a);\n",
              "      a.click();\n",
              "      div.remove();\n",
              "    }\n",
              "  "
            ]
          },
          "metadata": {}
        },
        {
          "output_type": "display_data",
          "data": {
            "text/plain": [
              "<IPython.core.display.Javascript object>"
            ],
            "application/javascript": [
              "download(\"download_0137b525-6bf4-46cb-941a-ca40fe64b664\", \"submission0.csv\", 169110)"
            ]
          },
          "metadata": {}
        },
        {
          "output_type": "display_data",
          "data": {
            "text/plain": [
              "<IPython.core.display.Javascript object>"
            ],
            "application/javascript": [
              "\n",
              "    async function download(id, filename, size) {\n",
              "      if (!google.colab.kernel.accessAllowed) {\n",
              "        return;\n",
              "      }\n",
              "      const div = document.createElement('div');\n",
              "      const label = document.createElement('label');\n",
              "      label.textContent = `Downloading \"${filename}\": `;\n",
              "      div.appendChild(label);\n",
              "      const progress = document.createElement('progress');\n",
              "      progress.max = size;\n",
              "      div.appendChild(progress);\n",
              "      document.body.appendChild(div);\n",
              "\n",
              "      const buffers = [];\n",
              "      let downloaded = 0;\n",
              "\n",
              "      const channel = await google.colab.kernel.comms.open(id);\n",
              "      // Send a message to notify the kernel that we're ready.\n",
              "      channel.send({})\n",
              "\n",
              "      for await (const message of channel.messages) {\n",
              "        // Send a message to notify the kernel that we're ready.\n",
              "        channel.send({})\n",
              "        if (message.buffers) {\n",
              "          for (const buffer of message.buffers) {\n",
              "            buffers.push(buffer);\n",
              "            downloaded += buffer.byteLength;\n",
              "            progress.value = downloaded;\n",
              "          }\n",
              "        }\n",
              "      }\n",
              "      const blob = new Blob(buffers, {type: 'application/binary'});\n",
              "      const a = document.createElement('a');\n",
              "      a.href = window.URL.createObjectURL(blob);\n",
              "      a.download = filename;\n",
              "      div.appendChild(a);\n",
              "      a.click();\n",
              "      div.remove();\n",
              "    }\n",
              "  "
            ]
          },
          "metadata": {}
        },
        {
          "output_type": "display_data",
          "data": {
            "text/plain": [
              "<IPython.core.display.Javascript object>"
            ],
            "application/javascript": [
              "download(\"download_920b327d-013c-4887-8c3e-790e9dd52466\", \"submission1.csv\", 169420)"
            ]
          },
          "metadata": {}
        },
        {
          "output_type": "display_data",
          "data": {
            "text/plain": [
              "<IPython.core.display.Javascript object>"
            ],
            "application/javascript": [
              "\n",
              "    async function download(id, filename, size) {\n",
              "      if (!google.colab.kernel.accessAllowed) {\n",
              "        return;\n",
              "      }\n",
              "      const div = document.createElement('div');\n",
              "      const label = document.createElement('label');\n",
              "      label.textContent = `Downloading \"${filename}\": `;\n",
              "      div.appendChild(label);\n",
              "      const progress = document.createElement('progress');\n",
              "      progress.max = size;\n",
              "      div.appendChild(progress);\n",
              "      document.body.appendChild(div);\n",
              "\n",
              "      const buffers = [];\n",
              "      let downloaded = 0;\n",
              "\n",
              "      const channel = await google.colab.kernel.comms.open(id);\n",
              "      // Send a message to notify the kernel that we're ready.\n",
              "      channel.send({})\n",
              "\n",
              "      for await (const message of channel.messages) {\n",
              "        // Send a message to notify the kernel that we're ready.\n",
              "        channel.send({})\n",
              "        if (message.buffers) {\n",
              "          for (const buffer of message.buffers) {\n",
              "            buffers.push(buffer);\n",
              "            downloaded += buffer.byteLength;\n",
              "            progress.value = downloaded;\n",
              "          }\n",
              "        }\n",
              "      }\n",
              "      const blob = new Blob(buffers, {type: 'application/binary'});\n",
              "      const a = document.createElement('a');\n",
              "      a.href = window.URL.createObjectURL(blob);\n",
              "      a.download = filename;\n",
              "      div.appendChild(a);\n",
              "      a.click();\n",
              "      div.remove();\n",
              "    }\n",
              "  "
            ]
          },
          "metadata": {}
        },
        {
          "output_type": "display_data",
          "data": {
            "text/plain": [
              "<IPython.core.display.Javascript object>"
            ],
            "application/javascript": [
              "download(\"download_42c38a5c-e774-44f1-8993-4ba3da6f9a2c\", \"submission2.csv\", 169540)"
            ]
          },
          "metadata": {}
        }
      ]
    },
    {
      "cell_type": "code",
      "source": [],
      "metadata": {
        "id": "n2YSSvEzqfc4"
      },
      "execution_count": 125,
      "outputs": []
    }
  ]
}
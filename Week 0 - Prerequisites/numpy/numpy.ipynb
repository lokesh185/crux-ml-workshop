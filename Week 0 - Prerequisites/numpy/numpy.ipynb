{
 "cells": [
  {
   "cell_type": "markdown",
   "id": "2443873a",
   "metadata": {},
   "source": [
    "# NumPy"
   ]
  },
  {
   "cell_type": "markdown",
   "id": "70752619",
   "metadata": {},
   "source": [
    "## So what is NumPy?\n",
    "\n",
    "**[NumPy](https://numpy.org/)** is a Python library built for numeric computing (linear algebra specifically). It's simple to use, and is the best at what it does. \n",
    "\n",
    "Now in many projects, you won't be using every nitty-gritty function of NumPy, which is why we'll mainly be using this as an opportunity to introduce some basic concepts and give you some time to get familiar with notebooks.\n",
    "\n",
    "You're already probably very familiar with the lists data structure in python. For reasons including better versatility (has plently more methods defined on it as we will shortly see) and more importantly, performance (as it is built as a wrapper on C libraries), we will now switch to using NumPy **n-dimensional-arrays**, or _**'ndarrays'**_ in nearly all cases.\n",
    "\n",
    "For more comparison on ndarrays vs. lists you cen check out this link: [Why numpy over lists?](http://stackoverflow.com/questions/993984/why-numpy-instead-of-python-lists) \n",
    "\n",
    "Another important reason for getting a hang of numpy is that most other libraries in th data science/ml domain are built on top of it (i.e, are dependant on it). So knowledge  on how it works will help a lot when working with them in the future!\n",
    "\n",
    "**Note: For convinience sake, wherever we will be using the term **arrays**, we are actually referrring to *ndarrays***"
   ]
  },
  {
   "cell_type": "code",
   "execution_count": 1,
   "id": "7d628094",
   "metadata": {},
   "outputs": [],
   "source": [
    "# imports\n",
    "\n",
    "import numpy as np"
   ]
  },
  {
   "cell_type": "markdown",
   "id": "edf4a878",
   "metadata": {},
   "source": [
    "## Basics of NumPy"
   ]
  },
  {
   "cell_type": "markdown",
   "id": "e77721cb",
   "metadata": {},
   "source": [
    "### Creating arrays\n",
    "\n",
    "#### Method 1: from python lists"
   ]
  },
  {
   "cell_type": "code",
   "execution_count": 2,
   "id": "b8aa4cc8",
   "metadata": {},
   "outputs": [],
   "source": [
    "list_1d = [0, 1, 2, 3, 4]\n",
    "list_2d = [[0,2], [4,6], [8,10]]\n",
    "\n",
    "# this works exactly the same if we use tuples instead of lists"
   ]
  },
  {
   "cell_type": "code",
   "execution_count": 3,
   "id": "7127ce16",
   "metadata": {},
   "outputs": [
    {
     "data": {
      "text/plain": [
       "[0, 1, 2, 3, 4]"
      ]
     },
     "execution_count": 3,
     "metadata": {},
     "output_type": "execute_result"
    }
   ],
   "source": [
    "list_1d"
   ]
  },
  {
   "cell_type": "code",
   "execution_count": 4,
   "id": "7c87d9b7",
   "metadata": {},
   "outputs": [
    {
     "data": {
      "text/plain": [
       "[[0, 2], [4, 6], [8, 10]]"
      ]
     },
     "execution_count": 4,
     "metadata": {},
     "output_type": "execute_result"
    }
   ],
   "source": [
    "list_2d"
   ]
  },
  {
   "cell_type": "code",
   "execution_count": 5,
   "id": "062cbaec",
   "metadata": {},
   "outputs": [],
   "source": [
    "vector = np.array(list_1d)\n",
    "matrix = np.array(list_2d)"
   ]
  },
  {
   "cell_type": "code",
   "execution_count": 6,
   "id": "e16c64a6",
   "metadata": {},
   "outputs": [
    {
     "data": {
      "text/plain": [
       "array([0, 1, 2, 3, 4])"
      ]
     },
     "execution_count": 6,
     "metadata": {},
     "output_type": "execute_result"
    }
   ],
   "source": [
    "vector"
   ]
  },
  {
   "cell_type": "code",
   "execution_count": 7,
   "id": "b2ce2026",
   "metadata": {
    "scrolled": true
   },
   "outputs": [
    {
     "data": {
      "text/plain": [
       "array([[ 0,  2],\n",
       "       [ 4,  6],\n",
       "       [ 8, 10]])"
      ]
     },
     "execution_count": 7,
     "metadata": {},
     "output_type": "execute_result"
    }
   ],
   "source": [
    "matrix"
   ]
  },
  {
   "cell_type": "code",
   "execution_count": 8,
   "id": "d0877c5c",
   "metadata": {},
   "outputs": [
    {
     "data": {
      "text/plain": [
       "(list, numpy.ndarray)"
      ]
     },
     "execution_count": 8,
     "metadata": {},
     "output_type": "execute_result"
    }
   ],
   "source": [
    "# comparing the types\n",
    "type(list_2d), type(matrix)"
   ]
  },
  {
   "cell_type": "markdown",
   "id": "f42e3b16",
   "metadata": {},
   "source": [
    "#### Method(s) 2: built in functions/shortcuts\n",
    "\n",
    ">```np.arange()```: returns an evenly spaced values within a given interval.\n",
    "        \n",
    "arguments: **(start**(included), **end**(excluded) **\\[,step]**)"
   ]
  },
  {
   "cell_type": "code",
   "execution_count": 9,
   "id": "86abbdfe",
   "metadata": {},
   "outputs": [
    {
     "data": {
      "text/plain": [
       "array([0, 1, 2, 3, 4])"
      ]
     },
     "execution_count": 9,
     "metadata": {},
     "output_type": "execute_result"
    }
   ],
   "source": [
    "np.arange(0,5)"
   ]
  },
  {
   "cell_type": "code",
   "execution_count": 10,
   "id": "fcd65279",
   "metadata": {},
   "outputs": [
    {
     "data": {
      "text/plain": [
       "array([0. , 0.5, 1. , 1.5, 2. , 2.5, 3. , 3.5, 4. , 4.5])"
      ]
     },
     "execution_count": 10,
     "metadata": {},
     "output_type": "execute_result"
    }
   ],
   "source": [
    "np.arange(0,5,0.5)"
   ]
  },
  {
   "cell_type": "markdown",
   "id": "768165ff",
   "metadata": {},
   "source": [
    "\n",
    ">```np.zeros()``` and ```np.ones()``` : returns an array of specified number of 0s or 1s respectively.\n",
    "\n",
    "arguments: **shape** (tuple with the dimensions of required array)"
   ]
  },
  {
   "cell_type": "code",
   "execution_count": 11,
   "id": "159eaf1e",
   "metadata": {},
   "outputs": [
    {
     "data": {
      "text/plain": [
       "array([0., 0., 0., 0., 0.])"
      ]
     },
     "execution_count": 11,
     "metadata": {},
     "output_type": "execute_result"
    }
   ],
   "source": [
    "np.zeros(5)"
   ]
  },
  {
   "cell_type": "code",
   "execution_count": 12,
   "id": "3c8c0285",
   "metadata": {},
   "outputs": [
    {
     "data": {
      "text/plain": [
       "array([1., 1., 1., 1., 1.])"
      ]
     },
     "execution_count": 12,
     "metadata": {},
     "output_type": "execute_result"
    }
   ],
   "source": [
    "np.ones(5)"
   ]
  },
  {
   "cell_type": "code",
   "execution_count": 13,
   "id": "bfd61f70",
   "metadata": {
    "scrolled": false
   },
   "outputs": [
    {
     "data": {
      "text/plain": [
       "array([[1., 1., 1.],\n",
       "       [1., 1., 1.],\n",
       "       [1., 1., 1.],\n",
       "       [1., 1., 1.],\n",
       "       [1., 1., 1.]])"
      ]
     },
     "execution_count": 13,
     "metadata": {},
     "output_type": "execute_result"
    }
   ],
   "source": [
    "np.ones((5,3)) # a 5x3 matrix/array with 1s"
   ]
  },
  {
   "cell_type": "markdown",
   "id": "4a26d4c7",
   "metadata": {},
   "source": [
    ">```np.eye()```: returns an identity matrix of specified dimension"
   ]
  },
  {
   "cell_type": "code",
   "execution_count": 14,
   "id": "0196cecd",
   "metadata": {
    "scrolled": true
   },
   "outputs": [
    {
     "data": {
      "text/plain": [
       "array([[1., 0., 0., 0., 0.],\n",
       "       [0., 1., 0., 0., 0.],\n",
       "       [0., 0., 1., 0., 0.],\n",
       "       [0., 0., 0., 1., 0.],\n",
       "       [0., 0., 0., 0., 1.]])"
      ]
     },
     "execution_count": 14,
     "metadata": {},
     "output_type": "execute_result"
    }
   ],
   "source": [
    "np.eye(5)"
   ]
  },
  {
   "cell_type": "markdown",
   "id": "673415b3",
   "metadata": {},
   "source": [
    ">```np.diag()```: returns a diagnol matrix with given diagnol"
   ]
  },
  {
   "cell_type": "code",
   "execution_count": 15,
   "id": "f26211f8",
   "metadata": {
    "scrolled": true
   },
   "outputs": [
    {
     "data": {
      "text/plain": [
       "array([[2, 0, 0],\n",
       "       [0, 3, 0],\n",
       "       [0, 0, 5]])"
      ]
     },
     "execution_count": 15,
     "metadata": {},
     "output_type": "execute_result"
    }
   ],
   "source": [
    "np.diag([2, 3, 5])"
   ]
  },
  {
   "cell_type": "markdown",
   "id": "2eaf24ee",
   "metadata": {},
   "source": [
    ">```np.linspace()```: returns an array with 'n' linearly spaced elements within given limits (both inclusive)\n",
    "\n",
    "arguments: (**start, stop, n**)"
   ]
  },
  {
   "cell_type": "code",
   "execution_count": 16,
   "id": "e46ed12c",
   "metadata": {},
   "outputs": [
    {
     "data": {
      "text/plain": [
       "array([ 0.,  5., 10.])"
      ]
     },
     "execution_count": 16,
     "metadata": {},
     "output_type": "execute_result"
    }
   ],
   "source": [
    "np.linspace(0,10,3)"
   ]
  },
  {
   "cell_type": "code",
   "execution_count": 17,
   "id": "9320ee28",
   "metadata": {
    "scrolled": true
   },
   "outputs": [
    {
     "data": {
      "text/plain": [
       "array([ 0.        ,  1.66666667,  3.33333333,  5.        ,  6.66666667,\n",
       "        8.33333333, 10.        ])"
      ]
     },
     "execution_count": 17,
     "metadata": {},
     "output_type": "execute_result"
    }
   ],
   "source": [
    "np.linspace(0,10,7)"
   ]
  },
  {
   "cell_type": "markdown",
   "id": "e775219e",
   "metadata": {},
   "source": [
    "**Note: We can't create more than single dimension arrrays using linspace, but we can reshape these with functions we will learn soon below!!**"
   ]
  },
  {
   "cell_type": "markdown",
   "id": "80bb3a4c",
   "metadata": {},
   "source": [
    "#### Random arrays: functions within np.random\n",
    "\n",
    "Probably the most useful section uptill now, as this gives us easy access to random samples/starting points in various applications/problems.\n",
    "Ex: weights in neural networks.\n"
   ]
  },
  {
   "cell_type": "markdown",
   "id": "0cc7caf5",
   "metadata": {},
   "source": [
    "\n",
    ">```np.random.rand()```: creates and returns an array of the given shape and populate it with random samples from a uniform distribution over [0, 1)\n",
    "\n",
    "arguments: **shape** (tuple with the dimensions of required array)"
   ]
  },
  {
   "cell_type": "code",
   "execution_count": 18,
   "id": "64f38538",
   "metadata": {},
   "outputs": [
    {
     "data": {
      "text/plain": [
       "array([0.31663615, 0.32014245])"
      ]
     },
     "execution_count": 18,
     "metadata": {},
     "output_type": "execute_result"
    }
   ],
   "source": [
    "np.random.rand(2)"
   ]
  },
  {
   "cell_type": "code",
   "execution_count": 19,
   "id": "06e35005",
   "metadata": {
    "scrolled": true
   },
   "outputs": [
    {
     "data": {
      "text/plain": [
       "array([[0.85377102, 0.8786977 , 0.82931334, 0.16552887],\n",
       "       [0.18340069, 0.62124266, 0.60406425, 0.41845591],\n",
       "       [0.34934176, 0.58030205, 0.13673916, 0.77996222],\n",
       "       [0.40774046, 0.49830935, 0.78100554, 0.17674754],\n",
       "       [0.03770598, 0.42525314, 0.3777771 , 0.68570912]])"
      ]
     },
     "execution_count": 19,
     "metadata": {},
     "output_type": "execute_result"
    }
   ],
   "source": [
    "np.random.rand(5,4)"
   ]
  },
  {
   "cell_type": "markdown",
   "id": "a54bd69f",
   "metadata": {},
   "source": [
    "\n",
    ">Variation: ```np.random.uniform()```: creates and returns an array of the given shape and populate it with random samples from a uniform distribution over given range\n",
    "\n",
    "arguments: **shape** (tuple with the dimensions of required array), **range**"
   ]
  },
  {
   "cell_type": "code",
   "execution_count": 20,
   "id": "1552b846",
   "metadata": {},
   "outputs": [
    {
     "data": {
      "text/plain": [
       "array([[ 0.57933653, -0.41785422,  0.74257985],\n",
       "       [ 0.89272914,  0.56052423, -0.15375608]])"
      ]
     },
     "execution_count": 20,
     "metadata": {},
     "output_type": "execute_result"
    }
   ],
   "source": [
    "np.random.uniform(-1, 1, (2,3))"
   ]
  },
  {
   "cell_type": "markdown",
   "id": "45c0522f",
   "metadata": {},
   "source": [
    "\n",
    ">```np.random.randn()```: creates and returns an array of the given shape and populate it with random samples from a normal distribution\n",
    "\n",
    "arguments: **shape** (tuple with the dimensions of required array)"
   ]
  },
  {
   "cell_type": "code",
   "execution_count": 21,
   "id": "bce4ca1f",
   "metadata": {},
   "outputs": [
    {
     "data": {
      "text/plain": [
       "array([-0.42646238, -0.43527716])"
      ]
     },
     "execution_count": 21,
     "metadata": {},
     "output_type": "execute_result"
    }
   ],
   "source": [
    "np.random.randn(2)"
   ]
  },
  {
   "cell_type": "code",
   "execution_count": 22,
   "id": "d43c4f53",
   "metadata": {
    "scrolled": true
   },
   "outputs": [
    {
     "data": {
      "text/plain": [
       "array([[-0.38613724, -0.15546191, -0.9121641 ,  0.98603834],\n",
       "       [-1.29835943,  0.27586757, -1.39430098,  1.74227616],\n",
       "       [-0.77932724,  0.92922864, -0.84706807,  0.29045682],\n",
       "       [ 0.09381858,  1.29486593,  0.59146952,  0.03577325],\n",
       "       [-0.47773024, -0.25641838, -0.02684277, -0.41553366]])"
      ]
     },
     "execution_count": 22,
     "metadata": {},
     "output_type": "execute_result"
    }
   ],
   "source": [
    "np.random.randn(5,4)"
   ]
  },
  {
   "cell_type": "markdown",
   "id": "eb25f281",
   "metadata": {},
   "source": [
    "\n",
    ">```np.random.randint()```: creates and returns an array of the random integers in given range\n",
    "\n",
    "arguments: **start**, **stop**, **shape**"
   ]
  },
  {
   "cell_type": "code",
   "execution_count": 23,
   "id": "3073a283",
   "metadata": {},
   "outputs": [
    {
     "data": {
      "text/plain": [
       "63"
      ]
     },
     "execution_count": 23,
     "metadata": {},
     "output_type": "execute_result"
    }
   ],
   "source": [
    "np.random.randint(1, 100)"
   ]
  },
  {
   "cell_type": "code",
   "execution_count": 24,
   "id": "b185b94a",
   "metadata": {
    "scrolled": true
   },
   "outputs": [
    {
     "data": {
      "text/plain": [
       "array([15, 85, 87, 65, 98, 50,  2, 16, 57, 91])"
      ]
     },
     "execution_count": 24,
     "metadata": {},
     "output_type": "execute_result"
    }
   ],
   "source": [
    "np.random.randint(1, 100, 10)"
   ]
  },
  {
   "cell_type": "code",
   "execution_count": 25,
   "id": "1861eb3f",
   "metadata": {
    "scrolled": true
   },
   "outputs": [
    {
     "data": {
      "text/plain": [
       "array([[15, 98, 98, 23],\n",
       "       [73, 69, 82, 86],\n",
       "       [63, 54, 94, 65],\n",
       "       [28, 41, 23, 19],\n",
       "       [66, 80, 66, 60]])"
      ]
     },
     "execution_count": 25,
     "metadata": {},
     "output_type": "execute_result"
    }
   ],
   "source": [
    "np.random.randint(1, 100, (5,4))"
   ]
  },
  {
   "cell_type": "markdown",
   "id": "56db1789",
   "metadata": {},
   "source": [
    "> **Note:** You wouldve noticed that in some cases we input the shape as a tuple (like in **randint** just above), and in some just a numbers separated by commas (like **rand**). The difference lies in what its arguments are. In **rand**, the only arguments it takes are the array's dimension(s), while functions like **randint** take more then just the dims/shape of the array to be created, and so has to be separated using paranthesis (i.e, a tuple)"
   ]
  },
  {
   "cell_type": "markdown",
   "id": "1ec18baa",
   "metadata": {},
   "source": [
    "### Dimensions/Axes\n",
    "\n",
    "In numpy arrays, dimensions refers to the number of axes needed to index it, not the dimensionality of any geometrical space.\n",
    "\n",
    "For example,\n",
    "\n",
    "```python\n",
    "array([[0, 1, 2],\n",
    "       [3, 4, 5],\n",
    "       [6, 7, 8],\n",
    "       ])\n",
    "```\n",
    "\n",
    "has a dimension of 2, implying we can access any element with two indices, but it still describes a 3D-space as each row has 3 elements. In other words, it has 2 axes, and length of each row in that axes is 3\n",
    "\n",
    "Let's look at some more examples using code:\n"
   ]
  },
  {
   "cell_type": "code",
   "execution_count": 26,
   "id": "93bc5498",
   "metadata": {},
   "outputs": [
    {
     "name": "stdout",
     "output_type": "stream",
     "text": [
      "Type: <class 'numpy.ndarray'>\n",
      "Dimensions: 2\n",
      "Shape: (2, 3)\n",
      "Type: float64\n",
      "Size: 6\n"
     ]
    }
   ],
   "source": [
    "arr = np.array(\n",
    "    [[ 1., 2., 17.3], \n",
    "    [ 0., 12., 22.23]]\n",
    ")\n",
    "\n",
    "print(f\"Type: {type(arr)}\")\n",
    "print(f\"Dimensions: {arr.ndim}\")\n",
    "print(f\"Shape: {arr.shape}\") # Returns tuple (r, c), for matrix with r rows and c columms\n",
    "print(f\"Type: {arr.dtype}\") # Returns data type of elements in array\n",
    "print(f\"Size: {arr.size}\") # Returns total number of elements in array"
   ]
  },
  {
   "cell_type": "markdown",
   "id": "e9f5b459",
   "metadata": {},
   "source": [
    "#### Some useful methods to call on an array"
   ]
  },
  {
   "cell_type": "code",
   "execution_count": 27,
   "id": "53b14080",
   "metadata": {},
   "outputs": [
    {
     "data": {
      "text/plain": [
       "22.23"
      ]
     },
     "execution_count": 27,
     "metadata": {},
     "output_type": "execute_result"
    }
   ],
   "source": [
    "# maximum element in arr\n",
    "arr.max()"
   ]
  },
  {
   "cell_type": "code",
   "execution_count": 28,
   "id": "891b9971",
   "metadata": {},
   "outputs": [
    {
     "data": {
      "text/plain": [
       "5"
      ]
     },
     "execution_count": 28,
     "metadata": {},
     "output_type": "execute_result"
    }
   ],
   "source": [
    "# position of maximum element in arr\n",
    "arr.argmax()"
   ]
  },
  {
   "cell_type": "code",
   "execution_count": 29,
   "id": "ddb5fae2",
   "metadata": {},
   "outputs": [
    {
     "data": {
      "text/plain": [
       "0.0"
      ]
     },
     "execution_count": 29,
     "metadata": {},
     "output_type": "execute_result"
    }
   ],
   "source": [
    "# minimum element in arr\n",
    "arr.min()"
   ]
  },
  {
   "cell_type": "code",
   "execution_count": 30,
   "id": "6c8285b1",
   "metadata": {},
   "outputs": [
    {
     "data": {
      "text/plain": [
       "3"
      ]
     },
     "execution_count": 30,
     "metadata": {},
     "output_type": "execute_result"
    }
   ],
   "source": [
    "# position of minimum element in arr\n",
    "arr.argmin()"
   ]
  },
  {
   "cell_type": "code",
   "execution_count": 31,
   "id": "3d424f5b",
   "metadata": {},
   "outputs": [
    {
     "data": {
      "text/plain": [
       "array([ 1.  ,  2.  , 17.3 ,  0.  , 12.  , 22.23])"
      ]
     },
     "execution_count": 31,
     "metadata": {},
     "output_type": "execute_result"
    }
   ],
   "source": [
    "arr.ravel() # retuening single dimension version of the array\n",
    "# here returns a 1x8 from a 2x4 matrix"
   ]
  },
  {
   "cell_type": "code",
   "execution_count": 32,
   "id": "b021aabf",
   "metadata": {},
   "outputs": [
    {
     "data": {
      "text/plain": [
       "array([[ 1.  ,  0.  ],\n",
       "       [ 2.  , 12.  ],\n",
       "       [17.3 , 22.23]])"
      ]
     },
     "execution_count": 32,
     "metadata": {},
     "output_type": "execute_result"
    }
   ],
   "source": [
    "# transpose of an array\n",
    "arr.T"
   ]
  },
  {
   "cell_type": "markdown",
   "id": "3b22f29f",
   "metadata": {},
   "source": [
    "#### Reshaping an array"
   ]
  },
  {
   "cell_type": "code",
   "execution_count": 33,
   "id": "73f72646",
   "metadata": {},
   "outputs": [
    {
     "data": {
      "text/plain": [
       "array([ 0,  1,  2,  3,  4,  5,  6,  7,  8,  9, 10, 11, 12, 13, 14, 15, 16,\n",
       "       17, 18, 19, 20, 21, 22, 23])"
      ]
     },
     "execution_count": 33,
     "metadata": {},
     "output_type": "execute_result"
    }
   ],
   "source": [
    "arr = np.arange(24)\n",
    "arr"
   ]
  },
  {
   "cell_type": "code",
   "execution_count": 34,
   "id": "a4f07264",
   "metadata": {},
   "outputs": [
    {
     "data": {
      "text/plain": [
       "(24,)"
      ]
     },
     "execution_count": 34,
     "metadata": {},
     "output_type": "execute_result"
    }
   ],
   "source": [
    "arr.shape"
   ]
  },
  {
   "cell_type": "markdown",
   "id": "0c76ecd1",
   "metadata": {},
   "source": [
    "> the ```reshape()``` method takes in the new shape of array (provided it is valid for the given array), in the order outer to inner dimension (i.e., indexing order, for example, ```planes->rows->columns```)."
   ]
  },
  {
   "cell_type": "code",
   "execution_count": 35,
   "id": "bb63a564",
   "metadata": {},
   "outputs": [
    {
     "data": {
      "text/plain": [
       "array([[ 0,  1,  2,  3,  4,  5],\n",
       "       [ 6,  7,  8,  9, 10, 11],\n",
       "       [12, 13, 14, 15, 16, 17],\n",
       "       [18, 19, 20, 21, 22, 23]])"
      ]
     },
     "execution_count": 35,
     "metadata": {},
     "output_type": "execute_result"
    }
   ],
   "source": [
    "arr = arr.reshape(4,6) \n",
    "arr"
   ]
  },
  {
   "cell_type": "code",
   "execution_count": 36,
   "id": "25a59bd9",
   "metadata": {},
   "outputs": [
    {
     "data": {
      "text/plain": [
       "(4, 6)"
      ]
     },
     "execution_count": 36,
     "metadata": {},
     "output_type": "execute_result"
    }
   ],
   "source": [
    "arr.shape"
   ]
  },
  {
   "cell_type": "code",
   "execution_count": 37,
   "id": "92ddd596",
   "metadata": {},
   "outputs": [],
   "source": [
    "arr = arr.reshape(6,4)"
   ]
  },
  {
   "cell_type": "code",
   "execution_count": 38,
   "id": "d6850060",
   "metadata": {},
   "outputs": [
    {
     "data": {
      "text/plain": [
       "array([[ 0,  1,  2,  3],\n",
       "       [ 4,  5,  6,  7],\n",
       "       [ 8,  9, 10, 11],\n",
       "       [12, 13, 14, 15],\n",
       "       [16, 17, 18, 19],\n",
       "       [20, 21, 22, 23]])"
      ]
     },
     "execution_count": 38,
     "metadata": {},
     "output_type": "execute_result"
    }
   ],
   "source": [
    "arr "
   ]
  },
  {
   "cell_type": "markdown",
   "id": "6ad68e8a",
   "metadata": {},
   "source": [
    "> Note: the argument value *-1*, is basically telling the function to choose that dimnesion value for us. Here were working with an array of 24 elements, so if we choose 8 and let the other argument be -1, the function chooses 24/8 whyich is 3 for us. For obvious reason we can use -1 only once in a funciton call"
   ]
  },
  {
   "cell_type": "code",
   "execution_count": 39,
   "id": "0ee509bd",
   "metadata": {},
   "outputs": [
    {
     "data": {
      "text/plain": [
       "array([[ 0,  1,  2],\n",
       "       [ 3,  4,  5],\n",
       "       [ 6,  7,  8],\n",
       "       [ 9, 10, 11],\n",
       "       [12, 13, 14],\n",
       "       [15, 16, 17],\n",
       "       [18, 19, 20],\n",
       "       [21, 22, 23]])"
      ]
     },
     "execution_count": 39,
     "metadata": {},
     "output_type": "execute_result"
    }
   ],
   "source": [
    "# a -1 argument is used to twll the function to choose this dimension for us\n",
    "arr.reshape(8,-1)"
   ]
  },
  {
   "cell_type": "markdown",
   "id": "a380f527",
   "metadata": {},
   "source": [
    "### Indexing, Slicing and Iterating\n",
    "\n",
    "These operations work very much like those on lists"
   ]
  },
  {
   "cell_type": "code",
   "execution_count": 40,
   "id": "7fed1d65",
   "metadata": {},
   "outputs": [
    {
     "name": "stdout",
     "output_type": "stream",
     "text": [
      "[  1   4   9  16  25  36  49  64  81 100]\n",
      "\n",
      "9\n",
      "\n",
      "[16 25 36 49 64]\n",
      "\n"
     ]
    }
   ],
   "source": [
    "a = np.array([1, 4, 9, 16, 25, 36, 49, 64, 81, 100])\n",
    "\n",
    "print(a, end='\\n\\n')\n",
    "print(a[2], end='\\n\\n') # Index based Selection\n",
    "print(a[3:8], end='\\n\\n') # Range based Selection\n",
    "\n",
    "a[:6:2] = -10 # What does this do?\n",
    "\n",
    "# uncomment to check if youre guess matches what actually happens\n",
    "# print(a, end='\\n\\n')\n",
    "\n",
    "# print(a[::-1], end='\\n\\n') # Reversed List"
   ]
  },
  {
   "cell_type": "markdown",
   "id": "f8b8b524",
   "metadata": {},
   "source": [
    "Simlarly with 2 dimensional arrays"
   ]
  },
  {
   "cell_type": "code",
   "execution_count": 41,
   "id": "5e9a0021",
   "metadata": {},
   "outputs": [
    {
     "name": "stdout",
     "output_type": "stream",
     "text": [
      "[[ 0  1  2  3  4  5  6  7]\n",
      " [ 8  9 10 11 12 13 14 15]\n",
      " [16 17 18 19 20 21 22 23]]\n",
      "\n",
      "18\n",
      "\n",
      "[16 17 18 19 20 21 22 23]\n",
      "\n",
      "[15 23]\n"
     ]
    }
   ],
   "source": [
    "arr = np.arange(24).reshape(3, 8)\n",
    "\n",
    "print(arr, end='\\n\\n')\n",
    "\n",
    "print(arr[2, 2], end='\\n\\n')\n",
    "\n",
    "print(arr[2], end='\\n\\n') # is the same as arr[2, :], and arr[2, 0:8]\n",
    "\n",
    "print(arr[1:3, -1]) # Last column of rows indexed 1, 2\n",
    "\n",
    "# and so on with n dimensional arrays"
   ]
  },
  {
   "cell_type": "markdown",
   "id": "3ca44caa",
   "metadata": {},
   "source": [
    "### Copies and Views"
   ]
  },
  {
   "cell_type": "markdown",
   "id": "a24e63c9",
   "metadata": {},
   "source": [
    "We know that python passes mutable objects as references, so much like lists we know need to undertand the cases where ndarrays are different copies of the same object, or just a reference. Knowing when these cases arise and how to avoid them, will save us from a whole lot of bugs and annoying results."
   ]
  },
  {
   "cell_type": "markdown",
   "id": "979b4340",
   "metadata": {},
   "source": [
    "#### Case 1: No copy made"
   ]
  },
  {
   "cell_type": "markdown",
   "id": "186177bc",
   "metadata": {},
   "source": [
    "> - Simple assignments do not create copies of the ndarray object"
   ]
  },
  {
   "cell_type": "code",
   "execution_count": 42,
   "id": "ce3fbb5f",
   "metadata": {},
   "outputs": [
    {
     "name": "stdout",
     "output_type": "stream",
     "text": [
      "[0 1 2 3 4]\n",
      "True\n"
     ]
    }
   ],
   "source": [
    "a = np.arange(5)\n",
    "print(a)\n",
    "\n",
    "b = a \n",
    "print(b is a)"
   ]
  },
  {
   "cell_type": "markdown",
   "id": "6cad832a",
   "metadata": {},
   "source": [
    "```is``` checks the objects ```id``` (address), and since it shows that they're the same, we confirm that they are not 2 different copies.\n",
    "\n",
    "> - Similarly, functions which deal with mutable objects work with references by default"
   ]
  },
  {
   "cell_type": "code",
   "execution_count": 43,
   "id": "32e4fa13",
   "metadata": {},
   "outputs": [
    {
     "name": "stdout",
     "output_type": "stream",
     "text": [
      "a: 1500990645040\n",
      "b: 1500990645040\n"
     ]
    },
    {
     "data": {
      "text/plain": [
       "True"
      ]
     },
     "execution_count": 43,
     "metadata": {},
     "output_type": "execute_result"
    }
   ],
   "source": [
    "def f(x):\n",
    "    return x\n",
    "\n",
    "b = f(a)\n",
    "print(f\"a: {id(a)}\")\n",
    "print(f\"b: {id(b)}\")\n",
    "\n",
    "b is a"
   ]
  },
  {
   "cell_type": "markdown",
   "id": "c6e6ee46",
   "metadata": {},
   "source": [
    "#### Case 2: Shallow copy (or view)\n",
    "\n",
    "A shallow copy is a  references object, i.e., it is stored somewhere else, but has all the properties of the object it references. Additionally, changes in the original or in any copy affect all of them (much like pointers to string in C if you remember :p).\n",
    "\n",
    "We use the ```view``` method to create a shallow copy/view"
   ]
  },
  {
   "cell_type": "code",
   "execution_count": 44,
   "id": "c5207fa5",
   "metadata": {},
   "outputs": [
    {
     "name": "stdout",
     "output_type": "stream",
     "text": [
      "[0 1 2 3 4]\n",
      "[0 1 2 3 4]\n"
     ]
    }
   ],
   "source": [
    "c = a.view()\n",
    "print(a)\n",
    "print(c)"
   ]
  },
  {
   "cell_type": "code",
   "execution_count": 45,
   "id": "06b9cbad",
   "metadata": {},
   "outputs": [
    {
     "data": {
      "text/plain": [
       "False"
      ]
     },
     "execution_count": 45,
     "metadata": {},
     "output_type": "execute_result"
    }
   ],
   "source": [
    "c is a\n",
    "# they are different objects as their id's are different"
   ]
  },
  {
   "cell_type": "code",
   "execution_count": 46,
   "id": "45f8dc00",
   "metadata": {},
   "outputs": [
    {
     "name": "stdout",
     "output_type": "stream",
     "text": [
      "[ 0  1 99  3  4]\n",
      "[ 0  1 99  3  4]\n"
     ]
    }
   ],
   "source": [
    "c[2] = 99\n",
    "print(c)\n",
    "print(a)\n",
    "\n",
    "# notice that both change, though we modified only c"
   ]
  },
  {
   "cell_type": "markdown",
   "id": "78573975",
   "metadata": {},
   "source": [
    "> **Note:** Slicing an array creates a view of it"
   ]
  },
  {
   "cell_type": "markdown",
   "id": "02a1665f",
   "metadata": {},
   "source": [
    "#### Case 3: Deep Copy (or true copy)\n",
    "\n",
    "Like the (alternative) name suggests, this creates an actual copy of the object, where the copies and original are independent from one another.\n",
    "\n",
    "We use the ```copy``` method on an array to achieve this"
   ]
  },
  {
   "cell_type": "code",
   "execution_count": 47,
   "id": "f0ff448a",
   "metadata": {},
   "outputs": [
    {
     "name": "stdout",
     "output_type": "stream",
     "text": [
      "False\n",
      "\n",
      "[ 0  1 99  3  4]\n",
      "\n",
      "[911   1  99   3   4]\n"
     ]
    }
   ],
   "source": [
    "d = a.copy()\n",
    "\n",
    "print(d is a, end=\"\\n\\n\")\n",
    "\n",
    "d[0] = 911\n",
    "print(a, end=\"\\n\\n\")\n",
    "print(d)"
   ]
  },
  {
   "cell_type": "markdown",
   "id": "6d1218cd",
   "metadata": {},
   "source": [
    "### Mathematics with ndarrays"
   ]
  },
  {
   "cell_type": "markdown",
   "id": "2ca5c229",
   "metadata": {},
   "source": [
    "#### Vectorization"
   ]
  },
  {
   "cell_type": "markdown",
   "id": "1c0598f0",
   "metadata": {},
   "source": [
    "The first and most important thing you should know about operation on vectors is that theyre *vectorized*, i.e., operations on the vector affect each and every element in it.\n",
    "\n",
    "To highlight on this difference, let us contrast with that on a list."
   ]
  },
  {
   "cell_type": "code",
   "execution_count": 48,
   "id": "5b4fe0a8",
   "metadata": {},
   "outputs": [],
   "source": [
    "a_list = [1, 2, 3, 4, 5]\n",
    "a = np.array(a_list)"
   ]
  },
  {
   "cell_type": "code",
   "execution_count": 49,
   "id": "cde1f3e4",
   "metadata": {},
   "outputs": [
    {
     "data": {
      "text/plain": [
       "[1, 2, 3, 4, 5, 1, 2, 3, 4, 5, 1, 2, 3, 4, 5, 1, 2, 3, 4, 5]"
      ]
     },
     "execution_count": 49,
     "metadata": {},
     "output_type": "execute_result"
    }
   ],
   "source": [
    "a_list*4"
   ]
  },
  {
   "cell_type": "markdown",
   "id": "593fe78e",
   "metadata": {},
   "source": [
    "The list has been appended to itself 4 times"
   ]
  },
  {
   "cell_type": "code",
   "execution_count": 50,
   "id": "81467c07",
   "metadata": {},
   "outputs": [
    {
     "data": {
      "text/plain": [
       "array([ 4,  8, 12, 16, 20])"
      ]
     },
     "execution_count": 50,
     "metadata": {},
     "output_type": "execute_result"
    }
   ],
   "source": [
    "a*4"
   ]
  },
  {
   "cell_type": "markdown",
   "id": "12b4d691",
   "metadata": {},
   "source": [
    "Each element in the array has been multiplied by 4.\n",
    ">**Note:** This does not modify the original array, it returns a new array with these elements, so we will need a LH element to catch it as follows:\n",
    "\n",
    "```python\n",
    "arr = a*4\n",
    "```\n"
   ]
  },
  {
   "cell_type": "code",
   "execution_count": 51,
   "id": "7d10647a",
   "metadata": {},
   "outputs": [
    {
     "data": {
      "text/plain": [
       "array([1.00000000e+00, 1.96983106e+01, 1.12621523e+02, 3.88023441e+02,\n",
       "       1.01291037e+03])"
      ]
     },
     "execution_count": 51,
     "metadata": {},
     "output_type": "execute_result"
    }
   ],
   "source": [
    "# similar operations like addition, power, division etc. work this way too\n",
    "\n",
    "a**4.3"
   ]
  },
  {
   "cell_type": "markdown",
   "id": "e307e69c",
   "metadata": {},
   "source": [
    "#### Products\n",
    "\n",
    ">```np.dot()```\n",
    "\n",
    "- If both a and b are 1-D arrays, it is inner product of vectors (without complex conjugation).\n",
    "\n",
    "- If both a and b are 2-D arrays, it is matrix multiplication, but using ```matmul``` or ```a @ b``` is preferred.\n",
    "\n",
    "- If either a or b is 0-D (scalar), it is equivalent to multiply and using ```numpy.multiply(a, b)``` or ```a * b``` is preferred.\n",
    "\n",
    "- If a is an N-D array and b is a 1-D array, it is a sum product over the last axis of a and b.\n",
    "\n",
    "- If a is an N-D array and b is an M-D array (where M>=2), it is a sum product over the last axis of a and the second-to-last axis of b"
   ]
  },
  {
   "cell_type": "code",
   "execution_count": 52,
   "id": "1c5aefbc",
   "metadata": {},
   "outputs": [
    {
     "data": {
      "text/plain": [
       "715"
      ]
     },
     "execution_count": 52,
     "metadata": {},
     "output_type": "execute_result"
    }
   ],
   "source": [
    "a = np.arange(1,11)\n",
    "b = np.arange(1,20,2)\n",
    "\n",
    "# since both are 1-D, it implements scalar product\n",
    "np.dot(a, b)"
   ]
  },
  {
   "cell_type": "code",
   "execution_count": 53,
   "id": "d4e3acab",
   "metadata": {},
   "outputs": [
    {
     "data": {
      "text/plain": [
       "array([[ 700,  728,  756,  784,  812],\n",
       "       [1820, 1912, 2004, 2096, 2188],\n",
       "       [2940, 3096, 3252, 3408, 3564]])"
      ]
     },
     "execution_count": 53,
     "metadata": {},
     "output_type": "execute_result"
    }
   ],
   "source": [
    "c = np.arange(24).reshape(3,8)\n",
    "d = np.arange(40).reshape(8,5)\n",
    "\n",
    "# matrix multipication\n",
    "np.dot(c, d)"
   ]
  },
  {
   "cell_type": "code",
   "execution_count": 54,
   "id": "8e6b241a",
   "metadata": {},
   "outputs": [
    {
     "name": "stdout",
     "output_type": "stream",
     "text": [
      "715\n",
      "\n",
      "[[ 700  728  756  784  812]\n",
      " [1820 1912 2004 2096 2188]\n",
      " [2940 3096 3252 3408 3564]]\n"
     ]
    }
   ],
   "source": [
    "# using @\n",
    "\n",
    "print(a@b, end=\"\\n\\n\")\n",
    "print(c@d)"
   ]
  },
  {
   "cell_type": "markdown",
   "id": "e29d1e5b",
   "metadata": {},
   "source": [
    "Try the other variations on your own, but feel free to ask doubts whenever you're stuck.\n",
    "\n",
    "Also how do you think cross product works here (try implementing it on your own before seeing the [numpy docs](https://numpy.org/doc/stable/index.html) for inbuilt function)"
   ]
  },
  {
   "cell_type": "markdown",
   "id": "d5abb902",
   "metadata": {},
   "source": [
    "#### Sums"
   ]
  },
  {
   "cell_type": "code",
   "execution_count": 55,
   "id": "5e6d5f6f",
   "metadata": {},
   "outputs": [
    {
     "name": "stdout",
     "output_type": "stream",
     "text": [
      "[[ 0  1  2  3  4  5]\n",
      " [ 6  7  8  9 10 11]\n",
      " [12 13 14 15 16 17]\n",
      " [18 19 20 21 22 23]]\n"
     ]
    },
    {
     "data": {
      "text/plain": [
       "276"
      ]
     },
     "execution_count": 55,
     "metadata": {},
     "output_type": "execute_result"
    }
   ],
   "source": [
    "arr = np.arange(24).reshape(4, -1)\n",
    "print(arr)\n",
    "\n",
    "# sum of all elements in the array\n",
    "arr.sum()"
   ]
  },
  {
   "cell_type": "code",
   "execution_count": 56,
   "id": "3dd4dd1e",
   "metadata": {},
   "outputs": [
    {
     "name": "stdout",
     "output_type": "stream",
     "text": [
      "[36 40 44 48 52 56]\n",
      "\n",
      "[ 15  51  87 123]\n"
     ]
    }
   ],
   "source": [
    "# taking sums wrt a particular axis\n",
    "\n",
    "print(arr.sum(axis=0), end=\"\\n\\n\") # Sum of axis 0, i.e. row\n",
    "print(arr.sum(axis=1)) # Sum of axis 1, i.e. columns"
   ]
  }
 ],
 "metadata": {
  "kernelspec": {
   "display_name": "Python 3.9.12 ('crux-ml')",
   "language": "python",
   "name": "python3"
  },
  "language_info": {
   "codemirror_mode": {
    "name": "ipython",
    "version": 3
   },
   "file_extension": ".py",
   "mimetype": "text/x-python",
   "name": "python",
   "nbconvert_exporter": "python",
   "pygments_lexer": "ipython3",
   "version": "3.9.12"
  },
  "vscode": {
   "interpreter": {
    "hash": "93ce321e497d6f33a11c701f4ef67dc117e82f59d8dd2399fdfff7429eca93d5"
   }
  }
 },
 "nbformat": 4,
 "nbformat_minor": 5
}

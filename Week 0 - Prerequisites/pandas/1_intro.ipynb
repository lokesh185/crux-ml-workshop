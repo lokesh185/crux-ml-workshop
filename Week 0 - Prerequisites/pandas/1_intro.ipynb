{
  "cells": [
    {
      "cell_type": "markdown",
      "metadata": {
        "collapsed": true
      },
      "source": [
        "# Pandas\n",
        "\n",
        "**Pandas** is a python library for data analysis. You can do almost anything you can imagine with data you have, using pandas (as long as you code it out :p). It essentially works like a very powerful database/excel on which you have full and versetile control. This makes it obvious that Pandas is one of the single most useful tool to data analysts/scientists. So we\"ll be taking our time understanding how it works, and try our best to reach a certain level of mastery at it. \n",
        "\n",
        "In this first introduction section, we will go over the two most important units in pandas:\n",
        "\n",
        "- Series (```pandas.Series```)\n",
        "- Dataframes (```pandas.DataFrame```)"
      ]
    },
    {
      "cell_type": "markdown",
      "metadata": {},
      "source": [
        "## Series\n",
        "\n",
        "A pandas series is very similar to a numpy array. The main difference between the two is that pandas series can be accessed/indexed using labels (*axis labels*), instead of just a numeric location (To get a more intuitive understanding think of it as something between a numpy array and a dictionary). It also can store any object and not just numeric data."
      ]
    },
    {
      "cell_type": "code",
      "execution_count": 1,
      "metadata": {},
      "outputs": [],
      "source": [
        "import pandas as pd\n",
        "import numpy as np"
      ]
    },
    {
      "cell_type": "markdown",
      "metadata": {},
      "source": [
        "### Methods to create a series\n",
        "\n",
        "We can create pandas series from lists, numpy arrays and dictionaries"
      ]
    },
    {
      "cell_type": "code",
      "execution_count": 2,
      "metadata": {},
      "outputs": [],
      "source": [
        "labels = [\"a\",\"b\",\"c\"]\n",
        "my_list = [10,20,30]\n",
        "arr = np.array([10,20,30])\n",
        "my_dict = {\"a\":10,\"b\":20,\"c\":30}"
      ]
    },
    {
      "cell_type": "code",
      "execution_count": 3,
      "metadata": {},
      "outputs": [
        {
          "data": {
            "text/plain": [
              "0    10\n",
              "1    20\n",
              "2    30\n",
              "dtype: int64"
            ]
          },
          "execution_count": 3,
          "metadata": {},
          "output_type": "execute_result"
        }
      ],
      "source": [
        "# from just a list/array (i.e., only data is provided, index is created from 0, 1, 2,...)\n",
        "\n",
        "pd.Series(data=my_list)"
      ]
    },
    {
      "cell_type": "code",
      "execution_count": 4,
      "metadata": {},
      "outputs": [
        {
          "data": {
            "text/plain": [
              "a    10\n",
              "b    20\n",
              "c    30\n",
              "dtype: int64"
            ]
          },
          "execution_count": 4,
          "metadata": {},
          "output_type": "execute_result"
        }
      ],
      "source": [
        "# from 2 list(s)/array(s) (i.e., both data and index is provided)\n",
        "\n",
        "pd.Series(data=my_list,index=labels)"
      ]
    },
    {
      "cell_type": "code",
      "execution_count": 5,
      "metadata": {},
      "outputs": [
        {
          "data": {
            "text/plain": [
              "a    10\n",
              "b    20\n",
              "c    30\n",
              "dtype: int32"
            ]
          },
          "execution_count": 5,
          "metadata": {},
          "output_type": "execute_result"
        }
      ],
      "source": [
        "# we can ignore the named parameters as long as we provide our arguments in the right order (data, index)\n",
        "\n",
        "pd.Series(arr,labels)"
      ]
    },
    {
      "cell_type": "code",
      "execution_count": 6,
      "metadata": {},
      "outputs": [
        {
          "data": {
            "text/plain": [
              "a    10\n",
              "b    20\n",
              "c    30\n",
              "dtype: int64"
            ]
          },
          "execution_count": 6,
          "metadata": {},
          "output_type": "execute_result"
        }
      ],
      "source": [
        "# if we use a dictionary, where the keys are the indices and the values are the data, we need to pass only one argument\n",
        "pd.Series(my_dict)"
      ]
    },
    {
      "cell_type": "markdown",
      "metadata": {},
      "source": [
        "#### Using Indices\n",
        "\n",
        "Much like python dictionaries, we can access elements in series using their index."
      ]
    },
    {
      "cell_type": "code",
      "execution_count": 7,
      "metadata": {},
      "outputs": [],
      "source": [
        "# note the difference in the indices for later cells\n",
        "\n",
        "series_1 = pd.Series([1,2,3,4],index = [\"USA\", \"Germany\",\"USSR\", \"Japan\"])  \n",
        "series_2 = pd.Series([1,2,5,4],index = [\"USA\", \"Germany\",\"Italy\", \"Japan\"])                                     "
      ]
    },
    {
      "cell_type": "code",
      "execution_count": 8,
      "metadata": {},
      "outputs": [
        {
          "data": {
            "text/plain": [
              "USA        1\n",
              "Germany    2\n",
              "USSR       3\n",
              "Japan      4\n",
              "dtype: int64"
            ]
          },
          "execution_count": 8,
          "metadata": {},
          "output_type": "execute_result"
        }
      ],
      "source": [
        "series_1"
      ]
    },
    {
      "cell_type": "code",
      "execution_count": 9,
      "metadata": {},
      "outputs": [
        {
          "data": {
            "text/plain": [
              "USA        1\n",
              "Germany    2\n",
              "Italy      5\n",
              "Japan      4\n",
              "dtype: int64"
            ]
          },
          "execution_count": 9,
          "metadata": {},
          "output_type": "execute_result"
        }
      ],
      "source": [
        "series_2"
      ]
    },
    {
      "cell_type": "code",
      "execution_count": 10,
      "metadata": {},
      "outputs": [
        {
          "data": {
            "text/plain": [
              "(1, 2)"
            ]
          },
          "execution_count": 10,
          "metadata": {},
          "output_type": "execute_result"
        }
      ],
      "source": [
        "series_1[\"USA\"], series_2[\"Germany\"]"
      ]
    },
    {
      "cell_type": "markdown",
      "metadata": {},
      "source": [
        "> Concatenation of series (+), creates every index for both/multiple series, and places NaN when that index doesnt exist in either"
      ]
    },
    {
      "cell_type": "code",
      "execution_count": 11,
      "metadata": {},
      "outputs": [
        {
          "data": {
            "text/plain": [
              "Germany    4.0\n",
              "Italy      NaN\n",
              "Japan      8.0\n",
              "USA        2.0\n",
              "USSR       NaN\n",
              "dtype: float64"
            ]
          },
          "execution_count": 11,
          "metadata": {},
          "output_type": "execute_result"
        }
      ],
      "source": [
        "series_1 + series_2"
      ]
    },
    {
      "cell_type": "markdown",
      "metadata": {},
      "source": [
        "## DataFrames\n",
        "\n",
        "DataFrames are the main workhorse unit of pandas, and series are its building blocks. We can think of a DataFrame as a group of Series objects put together to share the same index (i.e. columns)."
      ]
    },
    {
      "cell_type": "markdown",
      "metadata": {},
      "source": [
        "### Creating a DataFrame\n",
        "\n",
        "**Note:** While we can store any data inside a dataframe, for simplicity sake, we will stick to numbers during the first part of the course"
      ]
    },
    {
      "cell_type": "code",
      "execution_count": 12,
      "metadata": {},
      "outputs": [],
      "source": [
        "# data\n",
        "\n",
        "# setting a seed to produce reproducible results\n",
        "np.random.seed(911)\n",
        "\n",
        "data = np.random.randn(5, 5) # remember what this does?"
      ]
    },
    {
      "cell_type": "code",
      "execution_count": 13,
      "metadata": {},
      "outputs": [],
      "source": [
        "# columns and indices\n",
        "\n",
        "columns = [\"c0\", \"c1\", \"c2\", \"c3\", \"c4\"]\n",
        "indices = [\"a\", \"b\", \"c\", \"d\", \"e\"]"
      ]
    },
    {
      "cell_type": "markdown",
      "metadata": {},
      "source": [
        "> ```pd.DataFrame()``` is used to create dataframes, given the data, columns, and index either  in lists, arrays or dictionaries\n",
        "\n",
        "arguments: **data**, **columns**, **index**"
      ]
    },
    {
      "cell_type": "code",
      "execution_count": 14,
      "metadata": {},
      "outputs": [
        {
          "data": {
            "text/html": [
              "<div>\n",
              "<style scoped>\n",
              "    .dataframe tbody tr th:only-of-type {\n",
              "        vertical-align: middle;\n",
              "    }\n",
              "\n",
              "    .dataframe tbody tr th {\n",
              "        vertical-align: top;\n",
              "    }\n",
              "\n",
              "    .dataframe thead th {\n",
              "        text-align: right;\n",
              "    }\n",
              "</style>\n",
              "<table border=\"1\" class=\"dataframe\">\n",
              "  <thead>\n",
              "    <tr style=\"text-align: right;\">\n",
              "      <th></th>\n",
              "      <th>c0</th>\n",
              "      <th>c1</th>\n",
              "      <th>c2</th>\n",
              "      <th>c3</th>\n",
              "      <th>c4</th>\n",
              "    </tr>\n",
              "  </thead>\n",
              "  <tbody>\n",
              "    <tr>\n",
              "      <th>a</th>\n",
              "      <td>-0.425020</td>\n",
              "      <td>1.174310</td>\n",
              "      <td>-0.609520</td>\n",
              "      <td>-0.433977</td>\n",
              "      <td>2.233601</td>\n",
              "    </tr>\n",
              "    <tr>\n",
              "      <th>b</th>\n",
              "      <td>0.436149</td>\n",
              "      <td>-2.468962</td>\n",
              "      <td>-1.080083</td>\n",
              "      <td>0.693728</td>\n",
              "      <td>0.663031</td>\n",
              "    </tr>\n",
              "    <tr>\n",
              "      <th>c</th>\n",
              "      <td>1.676887</td>\n",
              "      <td>0.790989</td>\n",
              "      <td>-0.560000</td>\n",
              "      <td>1.369961</td>\n",
              "      <td>1.045403</td>\n",
              "    </tr>\n",
              "    <tr>\n",
              "      <th>d</th>\n",
              "      <td>-2.687477</td>\n",
              "      <td>-0.417832</td>\n",
              "      <td>0.733370</td>\n",
              "      <td>0.491143</td>\n",
              "      <td>-0.026223</td>\n",
              "    </tr>\n",
              "    <tr>\n",
              "      <th>e</th>\n",
              "      <td>0.273916</td>\n",
              "      <td>-1.264592</td>\n",
              "      <td>0.567614</td>\n",
              "      <td>-1.566816</td>\n",
              "      <td>0.838729</td>\n",
              "    </tr>\n",
              "  </tbody>\n",
              "</table>\n",
              "</div>"
            ],
            "text/plain": [
              "         c0        c1        c2        c3        c4\n",
              "a -0.425020  1.174310 -0.609520 -0.433977  2.233601\n",
              "b  0.436149 -2.468962 -1.080083  0.693728  0.663031\n",
              "c  1.676887  0.790989 -0.560000  1.369961  1.045403\n",
              "d -2.687477 -0.417832  0.733370  0.491143 -0.026223\n",
              "e  0.273916 -1.264592  0.567614 -1.566816  0.838729"
            ]
          },
          "execution_count": 14,
          "metadata": {},
          "output_type": "execute_result"
        }
      ],
      "source": [
        "# creating dataframe\n",
        "\n",
        "df = pd.DataFrame(data=data, columns=columns, index=indices)\n",
        "df"
      ]
    },
    {
      "cell_type": "markdown",
      "metadata": {},
      "source": [
        "### Opening an already existing file as a DataFrame\n",
        "\n",
        "We will learn how to open csv files in this intro section, but will go in deeper to other types in later sections."
      ]
    },
    {
      "cell_type": "markdown",
      "metadata": {},
      "source": [
        ">```pd.read_csv()``` is the function provided to open csvs files to ypur runtime, given that you know the path to the file (relative to runtime/global)\n",
        "\n",
        "arguments: **path**\n",
        "\n",
        "**Note:** use raw strings ```r\"...\"``` while passing the path to avoid unnecassary errors"
      ]
    },
    {
      "cell_type": "code",
      "execution_count": 15,
      "metadata": {},
      "outputs": [],
      "source": [
        "df_read = pd.read_csv(r\"datasets/example\")"
      ]
    },
    {
      "cell_type": "code",
      "execution_count": 16,
      "metadata": {},
      "outputs": [
        {
          "data": {
            "text/html": [
              "<div>\n",
              "<style scoped>\n",
              "    .dataframe tbody tr th:only-of-type {\n",
              "        vertical-align: middle;\n",
              "    }\n",
              "\n",
              "    .dataframe tbody tr th {\n",
              "        vertical-align: top;\n",
              "    }\n",
              "\n",
              "    .dataframe thead th {\n",
              "        text-align: right;\n",
              "    }\n",
              "</style>\n",
              "<table border=\"1\" class=\"dataframe\">\n",
              "  <thead>\n",
              "    <tr style=\"text-align: right;\">\n",
              "      <th></th>\n",
              "      <th>a</th>\n",
              "      <th>b</th>\n",
              "      <th>c</th>\n",
              "      <th>d</th>\n",
              "    </tr>\n",
              "  </thead>\n",
              "  <tbody>\n",
              "    <tr>\n",
              "      <th>0</th>\n",
              "      <td>0</td>\n",
              "      <td>1</td>\n",
              "      <td>2</td>\n",
              "      <td>3</td>\n",
              "    </tr>\n",
              "    <tr>\n",
              "      <th>1</th>\n",
              "      <td>4</td>\n",
              "      <td>5</td>\n",
              "      <td>6</td>\n",
              "      <td>7</td>\n",
              "    </tr>\n",
              "    <tr>\n",
              "      <th>2</th>\n",
              "      <td>8</td>\n",
              "      <td>9</td>\n",
              "      <td>10</td>\n",
              "      <td>11</td>\n",
              "    </tr>\n",
              "    <tr>\n",
              "      <th>3</th>\n",
              "      <td>12</td>\n",
              "      <td>13</td>\n",
              "      <td>14</td>\n",
              "      <td>15</td>\n",
              "    </tr>\n",
              "  </tbody>\n",
              "</table>\n",
              "</div>"
            ],
            "text/plain": [
              "    a   b   c   d\n",
              "0   0   1   2   3\n",
              "1   4   5   6   7\n",
              "2   8   9  10  11\n",
              "3  12  13  14  15"
            ]
          },
          "execution_count": 16,
          "metadata": {},
          "output_type": "execute_result"
        }
      ],
      "source": [
        "df_read"
      ]
    },
    {
      "cell_type": "markdown",
      "metadata": {},
      "source": [
        "### Working with the data"
      ]
    },
    {
      "cell_type": "markdown",
      "metadata": {},
      "source": [
        "#### Selection of column(s)"
      ]
    },
    {
      "cell_type": "markdown",
      "metadata": {},
      "source": [
        "> There are two notations, ```df[\"<column name>\"]``` and ```df.column_name```. The second is not reccomended, one reason being that we cannot use it in cases where the column name has a space."
      ]
    },
    {
      "cell_type": "code",
      "execution_count": 17,
      "metadata": {},
      "outputs": [
        {
          "name": "stdout",
          "output_type": "stream",
          "text": [
            "type of a single column is: <class 'pandas.core.series.Series'>\n"
          ]
        },
        {
          "data": {
            "text/plain": [
              "a    1.174310\n",
              "b   -2.468962\n",
              "c    0.790989\n",
              "d   -0.417832\n",
              "e   -1.264592\n",
              "Name: c1, dtype: float64"
            ]
          },
          "execution_count": 17,
          "metadata": {},
          "output_type": "execute_result"
        }
      ],
      "source": [
        "# notice how the column is actually a series\n",
        "print(f\"type of a single column is: {type(df['c1'])}\")\n",
        "\n",
        "df[\"c1\"]"
      ]
    },
    {
      "cell_type": "markdown",
      "metadata": {},
      "source": [
        "We can select multiple columns at a time by providing a list of columns while indexing, i.e. for example, ```df[[\"column1\", \"column7\"]]```"
      ]
    },
    {
      "cell_type": "code",
      "execution_count": 18,
      "metadata": {},
      "outputs": [
        {
          "data": {
            "text/html": [
              "<div>\n",
              "<style scoped>\n",
              "    .dataframe tbody tr th:only-of-type {\n",
              "        vertical-align: middle;\n",
              "    }\n",
              "\n",
              "    .dataframe tbody tr th {\n",
              "        vertical-align: top;\n",
              "    }\n",
              "\n",
              "    .dataframe thead th {\n",
              "        text-align: right;\n",
              "    }\n",
              "</style>\n",
              "<table border=\"1\" class=\"dataframe\">\n",
              "  <thead>\n",
              "    <tr style=\"text-align: right;\">\n",
              "      <th></th>\n",
              "      <th>c2</th>\n",
              "      <th>c0</th>\n",
              "    </tr>\n",
              "  </thead>\n",
              "  <tbody>\n",
              "    <tr>\n",
              "      <th>a</th>\n",
              "      <td>-0.609520</td>\n",
              "      <td>-0.425020</td>\n",
              "    </tr>\n",
              "    <tr>\n",
              "      <th>b</th>\n",
              "      <td>-1.080083</td>\n",
              "      <td>0.436149</td>\n",
              "    </tr>\n",
              "    <tr>\n",
              "      <th>c</th>\n",
              "      <td>-0.560000</td>\n",
              "      <td>1.676887</td>\n",
              "    </tr>\n",
              "    <tr>\n",
              "      <th>d</th>\n",
              "      <td>0.733370</td>\n",
              "      <td>-2.687477</td>\n",
              "    </tr>\n",
              "    <tr>\n",
              "      <th>e</th>\n",
              "      <td>0.567614</td>\n",
              "      <td>0.273916</td>\n",
              "    </tr>\n",
              "  </tbody>\n",
              "</table>\n",
              "</div>"
            ],
            "text/plain": [
              "         c2        c0\n",
              "a -0.609520 -0.425020\n",
              "b -1.080083  0.436149\n",
              "c -0.560000  1.676887\n",
              "d  0.733370 -2.687477\n",
              "e  0.567614  0.273916"
            ]
          },
          "execution_count": 18,
          "metadata": {},
          "output_type": "execute_result"
        }
      ],
      "source": [
        "df[[\"c2\", \"c0\"]]\n",
        "\n",
        "# selecting more than column, returns a new subset of the dataframe"
      ]
    },
    {
      "cell_type": "markdown",
      "metadata": {},
      "source": [
        "#### Creating and modifying columns"
      ]
    },
    {
      "cell_type": "code",
      "execution_count": 19,
      "metadata": {},
      "outputs": [
        {
          "data": {
            "text/html": [
              "<div>\n",
              "<style scoped>\n",
              "    .dataframe tbody tr th:only-of-type {\n",
              "        vertical-align: middle;\n",
              "    }\n",
              "\n",
              "    .dataframe tbody tr th {\n",
              "        vertical-align: top;\n",
              "    }\n",
              "\n",
              "    .dataframe thead th {\n",
              "        text-align: right;\n",
              "    }\n",
              "</style>\n",
              "<table border=\"1\" class=\"dataframe\">\n",
              "  <thead>\n",
              "    <tr style=\"text-align: right;\">\n",
              "      <th></th>\n",
              "      <th>c0</th>\n",
              "      <th>c1</th>\n",
              "      <th>c2</th>\n",
              "      <th>c3</th>\n",
              "      <th>c4</th>\n",
              "      <th>new</th>\n",
              "    </tr>\n",
              "  </thead>\n",
              "  <tbody>\n",
              "    <tr>\n",
              "      <th>a</th>\n",
              "      <td>-0.425020</td>\n",
              "      <td>1.174310</td>\n",
              "      <td>-0.609520</td>\n",
              "      <td>-0.433977</td>\n",
              "      <td>2.233601</td>\n",
              "      <td>1.808581</td>\n",
              "    </tr>\n",
              "    <tr>\n",
              "      <th>b</th>\n",
              "      <td>0.436149</td>\n",
              "      <td>-2.468962</td>\n",
              "      <td>-1.080083</td>\n",
              "      <td>0.693728</td>\n",
              "      <td>0.663031</td>\n",
              "      <td>1.099180</td>\n",
              "    </tr>\n",
              "    <tr>\n",
              "      <th>c</th>\n",
              "      <td>1.676887</td>\n",
              "      <td>0.790989</td>\n",
              "      <td>-0.560000</td>\n",
              "      <td>1.369961</td>\n",
              "      <td>1.045403</td>\n",
              "      <td>2.722290</td>\n",
              "    </tr>\n",
              "    <tr>\n",
              "      <th>d</th>\n",
              "      <td>-2.687477</td>\n",
              "      <td>-0.417832</td>\n",
              "      <td>0.733370</td>\n",
              "      <td>0.491143</td>\n",
              "      <td>-0.026223</td>\n",
              "      <td>-2.713700</td>\n",
              "    </tr>\n",
              "    <tr>\n",
              "      <th>e</th>\n",
              "      <td>0.273916</td>\n",
              "      <td>-1.264592</td>\n",
              "      <td>0.567614</td>\n",
              "      <td>-1.566816</td>\n",
              "      <td>0.838729</td>\n",
              "      <td>1.112645</td>\n",
              "    </tr>\n",
              "  </tbody>\n",
              "</table>\n",
              "</div>"
            ],
            "text/plain": [
              "         c0        c1        c2        c3        c4       new\n",
              "a -0.425020  1.174310 -0.609520 -0.433977  2.233601  1.808581\n",
              "b  0.436149 -2.468962 -1.080083  0.693728  0.663031  1.099180\n",
              "c  1.676887  0.790989 -0.560000  1.369961  1.045403  2.722290\n",
              "d -2.687477 -0.417832  0.733370  0.491143 -0.026223 -2.713700\n",
              "e  0.273916 -1.264592  0.567614 -1.566816  0.838729  1.112645"
            ]
          },
          "execution_count": 19,
          "metadata": {},
          "output_type": "execute_result"
        }
      ],
      "source": [
        "# works just like creating a new key-value in a dictionary\n",
        "\n",
        "df[\"new\"] = df[\"c0\"] + df[\"c4\"]\n",
        "\n",
        "df"
      ]
    },
    {
      "cell_type": "code",
      "execution_count": 20,
      "metadata": {},
      "outputs": [
        {
          "data": {
            "text/html": [
              "<div>\n",
              "<style scoped>\n",
              "    .dataframe tbody tr th:only-of-type {\n",
              "        vertical-align: middle;\n",
              "    }\n",
              "\n",
              "    .dataframe tbody tr th {\n",
              "        vertical-align: top;\n",
              "    }\n",
              "\n",
              "    .dataframe thead th {\n",
              "        text-align: right;\n",
              "    }\n",
              "</style>\n",
              "<table border=\"1\" class=\"dataframe\">\n",
              "  <thead>\n",
              "    <tr style=\"text-align: right;\">\n",
              "      <th></th>\n",
              "      <th>c0</th>\n",
              "      <th>c1</th>\n",
              "      <th>c2</th>\n",
              "      <th>c3</th>\n",
              "      <th>c4</th>\n",
              "      <th>new</th>\n",
              "    </tr>\n",
              "  </thead>\n",
              "  <tbody>\n",
              "    <tr>\n",
              "      <th>a</th>\n",
              "      <td>-0.425020</td>\n",
              "      <td>1.174310</td>\n",
              "      <td>-0.609520</td>\n",
              "      <td>-0.433977</td>\n",
              "      <td>2.233601</td>\n",
              "      <td>3.617162</td>\n",
              "    </tr>\n",
              "    <tr>\n",
              "      <th>b</th>\n",
              "      <td>0.436149</td>\n",
              "      <td>-2.468962</td>\n",
              "      <td>-1.080083</td>\n",
              "      <td>0.693728</td>\n",
              "      <td>0.663031</td>\n",
              "      <td>2.198360</td>\n",
              "    </tr>\n",
              "    <tr>\n",
              "      <th>c</th>\n",
              "      <td>1.676887</td>\n",
              "      <td>0.790989</td>\n",
              "      <td>-0.560000</td>\n",
              "      <td>1.369961</td>\n",
              "      <td>1.045403</td>\n",
              "      <td>5.444580</td>\n",
              "    </tr>\n",
              "    <tr>\n",
              "      <th>d</th>\n",
              "      <td>-2.687477</td>\n",
              "      <td>-0.417832</td>\n",
              "      <td>0.733370</td>\n",
              "      <td>0.491143</td>\n",
              "      <td>-0.026223</td>\n",
              "      <td>-5.427400</td>\n",
              "    </tr>\n",
              "    <tr>\n",
              "      <th>e</th>\n",
              "      <td>0.273916</td>\n",
              "      <td>-1.264592</td>\n",
              "      <td>0.567614</td>\n",
              "      <td>-1.566816</td>\n",
              "      <td>0.838729</td>\n",
              "      <td>2.225290</td>\n",
              "    </tr>\n",
              "  </tbody>\n",
              "</table>\n",
              "</div>"
            ],
            "text/plain": [
              "         c0        c1        c2        c3        c4       new\n",
              "a -0.425020  1.174310 -0.609520 -0.433977  2.233601  3.617162\n",
              "b  0.436149 -2.468962 -1.080083  0.693728  0.663031  2.198360\n",
              "c  1.676887  0.790989 -0.560000  1.369961  1.045403  5.444580\n",
              "d -2.687477 -0.417832  0.733370  0.491143 -0.026223 -5.427400\n",
              "e  0.273916 -1.264592  0.567614 -1.566816  0.838729  2.225290"
            ]
          },
          "execution_count": 20,
          "metadata": {},
          "output_type": "execute_result"
        }
      ],
      "source": [
        "# similarly we can modify pre-existing columns\n",
        "\n",
        "df[\"new\"] = 2*df[\"new\"] # remember vectorization?\n",
        "\n",
        "df"
      ]
    },
    {
      "cell_type": "markdown",
      "metadata": {},
      "source": [
        "#### Selection of row(s)"
      ]
    },
    {
      "cell_type": "code",
      "execution_count": 21,
      "metadata": {},
      "outputs": [
        {
          "data": {
            "text/plain": [
              "c0    -0.425020\n",
              "c1     1.174310\n",
              "c2    -0.609520\n",
              "c3    -0.433977\n",
              "c4     2.233601\n",
              "new    3.617162\n",
              "Name: a, dtype: float64"
            ]
          },
          "execution_count": 21,
          "metadata": {},
          "output_type": "execute_result"
        }
      ],
      "source": [
        "# based on index\n",
        "\n",
        "df.loc[\"a\"]"
      ]
    },
    {
      "cell_type": "code",
      "execution_count": 22,
      "metadata": {},
      "outputs": [
        {
          "data": {
            "text/plain": [
              "c0    -0.425020\n",
              "c1     1.174310\n",
              "c2    -0.609520\n",
              "c3    -0.433977\n",
              "c4     2.233601\n",
              "new    3.617162\n",
              "Name: a, dtype: float64"
            ]
          },
          "execution_count": 22,
          "metadata": {},
          "output_type": "execute_result"
        }
      ],
      "source": [
        "# based on numeric position\n",
        "\n",
        "df.iloc[0]"
      ]
    },
    {
      "cell_type": "markdown",
      "metadata": {},
      "source": [
        "#### Selection of a subset of the DataFrame"
      ]
    },
    {
      "cell_type": "code",
      "execution_count": 23,
      "metadata": {},
      "outputs": [
        {
          "data": {
            "text/html": [
              "<div>\n",
              "<style scoped>\n",
              "    .dataframe tbody tr th:only-of-type {\n",
              "        vertical-align: middle;\n",
              "    }\n",
              "\n",
              "    .dataframe tbody tr th {\n",
              "        vertical-align: top;\n",
              "    }\n",
              "\n",
              "    .dataframe thead th {\n",
              "        text-align: right;\n",
              "    }\n",
              "</style>\n",
              "<table border=\"1\" class=\"dataframe\">\n",
              "  <thead>\n",
              "    <tr style=\"text-align: right;\">\n",
              "      <th></th>\n",
              "      <th>c1</th>\n",
              "      <th>c2</th>\n",
              "      <th>c4</th>\n",
              "    </tr>\n",
              "  </thead>\n",
              "  <tbody>\n",
              "    <tr>\n",
              "      <th>a</th>\n",
              "      <td>1.174310</td>\n",
              "      <td>-0.60952</td>\n",
              "      <td>2.233601</td>\n",
              "    </tr>\n",
              "    <tr>\n",
              "      <th>c</th>\n",
              "      <td>0.790989</td>\n",
              "      <td>-0.56000</td>\n",
              "      <td>1.045403</td>\n",
              "    </tr>\n",
              "  </tbody>\n",
              "</table>\n",
              "</div>"
            ],
            "text/plain": [
              "         c1       c2        c4\n",
              "a  1.174310 -0.60952  2.233601\n",
              "c  0.790989 -0.56000  1.045403"
            ]
          },
          "execution_count": 23,
          "metadata": {},
          "output_type": "execute_result"
        }
      ],
      "source": [
        "# list of rows followed by a list of columns\n",
        "df.loc[[\"a\", \"c\"],[\"c1\", \"c2\", \"c4\"]]"
      ]
    },
    {
      "cell_type": "code",
      "execution_count": 24,
      "metadata": {},
      "outputs": [
        {
          "data": {
            "text/plain": [
              "-0.42501987121812485"
            ]
          },
          "execution_count": 24,
          "metadata": {},
          "output_type": "execute_result"
        }
      ],
      "source": [
        "# we can similarly choose a single element this way\n",
        "\n",
        "df.loc[\"a\", \"c0\"]"
      ]
    },
    {
      "cell_type": "markdown",
      "metadata": {},
      "source": [
        "#### Deleting/dropping columns/rows\n",
        "\n",
        ">```df.drop()``` is used to drop rows or columns corresponding to index 0/1 respectiveley"
      ]
    },
    {
      "cell_type": "code",
      "execution_count": 25,
      "metadata": {},
      "outputs": [
        {
          "data": {
            "text/html": [
              "<div>\n",
              "<style scoped>\n",
              "    .dataframe tbody tr th:only-of-type {\n",
              "        vertical-align: middle;\n",
              "    }\n",
              "\n",
              "    .dataframe tbody tr th {\n",
              "        vertical-align: top;\n",
              "    }\n",
              "\n",
              "    .dataframe thead th {\n",
              "        text-align: right;\n",
              "    }\n",
              "</style>\n",
              "<table border=\"1\" class=\"dataframe\">\n",
              "  <thead>\n",
              "    <tr style=\"text-align: right;\">\n",
              "      <th></th>\n",
              "      <th>c0</th>\n",
              "      <th>c1</th>\n",
              "      <th>c2</th>\n",
              "      <th>c3</th>\n",
              "      <th>c4</th>\n",
              "      <th>new</th>\n",
              "    </tr>\n",
              "  </thead>\n",
              "  <tbody>\n",
              "    <tr>\n",
              "      <th>b</th>\n",
              "      <td>0.436149</td>\n",
              "      <td>-2.468962</td>\n",
              "      <td>-1.080083</td>\n",
              "      <td>0.693728</td>\n",
              "      <td>0.663031</td>\n",
              "      <td>2.19836</td>\n",
              "    </tr>\n",
              "    <tr>\n",
              "      <th>c</th>\n",
              "      <td>1.676887</td>\n",
              "      <td>0.790989</td>\n",
              "      <td>-0.560000</td>\n",
              "      <td>1.369961</td>\n",
              "      <td>1.045403</td>\n",
              "      <td>5.44458</td>\n",
              "    </tr>\n",
              "    <tr>\n",
              "      <th>d</th>\n",
              "      <td>-2.687477</td>\n",
              "      <td>-0.417832</td>\n",
              "      <td>0.733370</td>\n",
              "      <td>0.491143</td>\n",
              "      <td>-0.026223</td>\n",
              "      <td>-5.42740</td>\n",
              "    </tr>\n",
              "    <tr>\n",
              "      <th>e</th>\n",
              "      <td>0.273916</td>\n",
              "      <td>-1.264592</td>\n",
              "      <td>0.567614</td>\n",
              "      <td>-1.566816</td>\n",
              "      <td>0.838729</td>\n",
              "      <td>2.22529</td>\n",
              "    </tr>\n",
              "  </tbody>\n",
              "</table>\n",
              "</div>"
            ],
            "text/plain": [
              "         c0        c1        c2        c3        c4      new\n",
              "b  0.436149 -2.468962 -1.080083  0.693728  0.663031  2.19836\n",
              "c  1.676887  0.790989 -0.560000  1.369961  1.045403  5.44458\n",
              "d -2.687477 -0.417832  0.733370  0.491143 -0.026223 -5.42740\n",
              "e  0.273916 -1.264592  0.567614 -1.566816  0.838729  2.22529"
            ]
          },
          "execution_count": 25,
          "metadata": {},
          "output_type": "execute_result"
        }
      ],
      "source": [
        "# dropping a row\n",
        "\n",
        "df.drop(\"a\", axis=0)"
      ]
    },
    {
      "cell_type": "markdown",
      "metadata": {},
      "source": [
        ">**Important:** THe dataframe itself doesn't delete the row from itself, it returns a view of itself that doesnt have the corresponding row/column. To change the dataframe we are working on, we need to set the **inplace** parameter to  ```True```."
      ]
    },
    {
      "cell_type": "code",
      "execution_count": 26,
      "metadata": {},
      "outputs": [
        {
          "data": {
            "text/html": [
              "<div>\n",
              "<style scoped>\n",
              "    .dataframe tbody tr th:only-of-type {\n",
              "        vertical-align: middle;\n",
              "    }\n",
              "\n",
              "    .dataframe tbody tr th {\n",
              "        vertical-align: top;\n",
              "    }\n",
              "\n",
              "    .dataframe thead th {\n",
              "        text-align: right;\n",
              "    }\n",
              "</style>\n",
              "<table border=\"1\" class=\"dataframe\">\n",
              "  <thead>\n",
              "    <tr style=\"text-align: right;\">\n",
              "      <th></th>\n",
              "      <th>c0</th>\n",
              "      <th>c1</th>\n",
              "      <th>c2</th>\n",
              "      <th>c3</th>\n",
              "      <th>c4</th>\n",
              "      <th>new</th>\n",
              "    </tr>\n",
              "  </thead>\n",
              "  <tbody>\n",
              "    <tr>\n",
              "      <th>a</th>\n",
              "      <td>-0.425020</td>\n",
              "      <td>1.174310</td>\n",
              "      <td>-0.609520</td>\n",
              "      <td>-0.433977</td>\n",
              "      <td>2.233601</td>\n",
              "      <td>3.617162</td>\n",
              "    </tr>\n",
              "    <tr>\n",
              "      <th>b</th>\n",
              "      <td>0.436149</td>\n",
              "      <td>-2.468962</td>\n",
              "      <td>-1.080083</td>\n",
              "      <td>0.693728</td>\n",
              "      <td>0.663031</td>\n",
              "      <td>2.198360</td>\n",
              "    </tr>\n",
              "    <tr>\n",
              "      <th>c</th>\n",
              "      <td>1.676887</td>\n",
              "      <td>0.790989</td>\n",
              "      <td>-0.560000</td>\n",
              "      <td>1.369961</td>\n",
              "      <td>1.045403</td>\n",
              "      <td>5.444580</td>\n",
              "    </tr>\n",
              "    <tr>\n",
              "      <th>d</th>\n",
              "      <td>-2.687477</td>\n",
              "      <td>-0.417832</td>\n",
              "      <td>0.733370</td>\n",
              "      <td>0.491143</td>\n",
              "      <td>-0.026223</td>\n",
              "      <td>-5.427400</td>\n",
              "    </tr>\n",
              "    <tr>\n",
              "      <th>e</th>\n",
              "      <td>0.273916</td>\n",
              "      <td>-1.264592</td>\n",
              "      <td>0.567614</td>\n",
              "      <td>-1.566816</td>\n",
              "      <td>0.838729</td>\n",
              "      <td>2.225290</td>\n",
              "    </tr>\n",
              "  </tbody>\n",
              "</table>\n",
              "</div>"
            ],
            "text/plain": [
              "         c0        c1        c2        c3        c4       new\n",
              "a -0.425020  1.174310 -0.609520 -0.433977  2.233601  3.617162\n",
              "b  0.436149 -2.468962 -1.080083  0.693728  0.663031  2.198360\n",
              "c  1.676887  0.790989 -0.560000  1.369961  1.045403  5.444580\n",
              "d -2.687477 -0.417832  0.733370  0.491143 -0.026223 -5.427400\n",
              "e  0.273916 -1.264592  0.567614 -1.566816  0.838729  2.225290"
            ]
          },
          "execution_count": 26,
          "metadata": {},
          "output_type": "execute_result"
        }
      ],
      "source": [
        "# df is not modified yet, i.e., row 'a' is still there\n",
        "\n",
        "df"
      ]
    },
    {
      "cell_type": "code",
      "execution_count": 27,
      "metadata": {},
      "outputs": [
        {
          "data": {
            "text/html": [
              "<div>\n",
              "<style scoped>\n",
              "    .dataframe tbody tr th:only-of-type {\n",
              "        vertical-align: middle;\n",
              "    }\n",
              "\n",
              "    .dataframe tbody tr th {\n",
              "        vertical-align: top;\n",
              "    }\n",
              "\n",
              "    .dataframe thead th {\n",
              "        text-align: right;\n",
              "    }\n",
              "</style>\n",
              "<table border=\"1\" class=\"dataframe\">\n",
              "  <thead>\n",
              "    <tr style=\"text-align: right;\">\n",
              "      <th></th>\n",
              "      <th>c0</th>\n",
              "      <th>c1</th>\n",
              "      <th>c2</th>\n",
              "      <th>c3</th>\n",
              "      <th>c4</th>\n",
              "      <th>new</th>\n",
              "    </tr>\n",
              "  </thead>\n",
              "  <tbody>\n",
              "    <tr>\n",
              "      <th>b</th>\n",
              "      <td>0.436149</td>\n",
              "      <td>-2.468962</td>\n",
              "      <td>-1.080083</td>\n",
              "      <td>0.693728</td>\n",
              "      <td>0.663031</td>\n",
              "      <td>2.19836</td>\n",
              "    </tr>\n",
              "    <tr>\n",
              "      <th>c</th>\n",
              "      <td>1.676887</td>\n",
              "      <td>0.790989</td>\n",
              "      <td>-0.560000</td>\n",
              "      <td>1.369961</td>\n",
              "      <td>1.045403</td>\n",
              "      <td>5.44458</td>\n",
              "    </tr>\n",
              "    <tr>\n",
              "      <th>d</th>\n",
              "      <td>-2.687477</td>\n",
              "      <td>-0.417832</td>\n",
              "      <td>0.733370</td>\n",
              "      <td>0.491143</td>\n",
              "      <td>-0.026223</td>\n",
              "      <td>-5.42740</td>\n",
              "    </tr>\n",
              "    <tr>\n",
              "      <th>e</th>\n",
              "      <td>0.273916</td>\n",
              "      <td>-1.264592</td>\n",
              "      <td>0.567614</td>\n",
              "      <td>-1.566816</td>\n",
              "      <td>0.838729</td>\n",
              "      <td>2.22529</td>\n",
              "    </tr>\n",
              "  </tbody>\n",
              "</table>\n",
              "</div>"
            ],
            "text/plain": [
              "         c0        c1        c2        c3        c4      new\n",
              "b  0.436149 -2.468962 -1.080083  0.693728  0.663031  2.19836\n",
              "c  1.676887  0.790989 -0.560000  1.369961  1.045403  5.44458\n",
              "d -2.687477 -0.417832  0.733370  0.491143 -0.026223 -5.42740\n",
              "e  0.273916 -1.264592  0.567614 -1.566816  0.838729  2.22529"
            ]
          },
          "execution_count": 27,
          "metadata": {},
          "output_type": "execute_result"
        }
      ],
      "source": [
        "# dropping row with inplace\n",
        "\n",
        "df.drop(\"a\", axis = 0, inplace = True)\n",
        "df"
      ]
    },
    {
      "cell_type": "code",
      "execution_count": 28,
      "metadata": {},
      "outputs": [
        {
          "data": {
            "text/html": [
              "<div>\n",
              "<style scoped>\n",
              "    .dataframe tbody tr th:only-of-type {\n",
              "        vertical-align: middle;\n",
              "    }\n",
              "\n",
              "    .dataframe tbody tr th {\n",
              "        vertical-align: top;\n",
              "    }\n",
              "\n",
              "    .dataframe thead th {\n",
              "        text-align: right;\n",
              "    }\n",
              "</style>\n",
              "<table border=\"1\" class=\"dataframe\">\n",
              "  <thead>\n",
              "    <tr style=\"text-align: right;\">\n",
              "      <th></th>\n",
              "      <th>c0</th>\n",
              "      <th>c1</th>\n",
              "      <th>c2</th>\n",
              "      <th>c3</th>\n",
              "      <th>c4</th>\n",
              "    </tr>\n",
              "  </thead>\n",
              "  <tbody>\n",
              "    <tr>\n",
              "      <th>b</th>\n",
              "      <td>0.436149</td>\n",
              "      <td>-2.468962</td>\n",
              "      <td>-1.080083</td>\n",
              "      <td>0.693728</td>\n",
              "      <td>0.663031</td>\n",
              "    </tr>\n",
              "    <tr>\n",
              "      <th>c</th>\n",
              "      <td>1.676887</td>\n",
              "      <td>0.790989</td>\n",
              "      <td>-0.560000</td>\n",
              "      <td>1.369961</td>\n",
              "      <td>1.045403</td>\n",
              "    </tr>\n",
              "    <tr>\n",
              "      <th>d</th>\n",
              "      <td>-2.687477</td>\n",
              "      <td>-0.417832</td>\n",
              "      <td>0.733370</td>\n",
              "      <td>0.491143</td>\n",
              "      <td>-0.026223</td>\n",
              "    </tr>\n",
              "    <tr>\n",
              "      <th>e</th>\n",
              "      <td>0.273916</td>\n",
              "      <td>-1.264592</td>\n",
              "      <td>0.567614</td>\n",
              "      <td>-1.566816</td>\n",
              "      <td>0.838729</td>\n",
              "    </tr>\n",
              "  </tbody>\n",
              "</table>\n",
              "</div>"
            ],
            "text/plain": [
              "         c0        c1        c2        c3        c4\n",
              "b  0.436149 -2.468962 -1.080083  0.693728  0.663031\n",
              "c  1.676887  0.790989 -0.560000  1.369961  1.045403\n",
              "d -2.687477 -0.417832  0.733370  0.491143 -0.026223\n",
              "e  0.273916 -1.264592  0.567614 -1.566816  0.838729"
            ]
          },
          "execution_count": 28,
          "metadata": {},
          "output_type": "execute_result"
        }
      ],
      "source": [
        "# similarly dropping columns\n",
        "\n",
        "df.drop(\"new\", axis = 1, inplace=True)\n",
        "df"
      ]
    },
    {
      "cell_type": "markdown",
      "metadata": {},
      "source": [
        "#### Conditional selection"
      ]
    },
    {
      "cell_type": "code",
      "execution_count": 29,
      "metadata": {},
      "outputs": [
        {
          "data": {
            "text/html": [
              "<div>\n",
              "<style scoped>\n",
              "    .dataframe tbody tr th:only-of-type {\n",
              "        vertical-align: middle;\n",
              "    }\n",
              "\n",
              "    .dataframe tbody tr th {\n",
              "        vertical-align: top;\n",
              "    }\n",
              "\n",
              "    .dataframe thead th {\n",
              "        text-align: right;\n",
              "    }\n",
              "</style>\n",
              "<table border=\"1\" class=\"dataframe\">\n",
              "  <thead>\n",
              "    <tr style=\"text-align: right;\">\n",
              "      <th></th>\n",
              "      <th>c0</th>\n",
              "      <th>c1</th>\n",
              "      <th>c2</th>\n",
              "      <th>c3</th>\n",
              "      <th>c4</th>\n",
              "    </tr>\n",
              "  </thead>\n",
              "  <tbody>\n",
              "    <tr>\n",
              "      <th>b</th>\n",
              "      <td>0.436149</td>\n",
              "      <td>-2.468962</td>\n",
              "      <td>-1.080083</td>\n",
              "      <td>0.693728</td>\n",
              "      <td>0.663031</td>\n",
              "    </tr>\n",
              "    <tr>\n",
              "      <th>c</th>\n",
              "      <td>1.676887</td>\n",
              "      <td>0.790989</td>\n",
              "      <td>-0.560000</td>\n",
              "      <td>1.369961</td>\n",
              "      <td>1.045403</td>\n",
              "    </tr>\n",
              "    <tr>\n",
              "      <th>d</th>\n",
              "      <td>-2.687477</td>\n",
              "      <td>-0.417832</td>\n",
              "      <td>0.733370</td>\n",
              "      <td>0.491143</td>\n",
              "      <td>-0.026223</td>\n",
              "    </tr>\n",
              "    <tr>\n",
              "      <th>e</th>\n",
              "      <td>0.273916</td>\n",
              "      <td>-1.264592</td>\n",
              "      <td>0.567614</td>\n",
              "      <td>-1.566816</td>\n",
              "      <td>0.838729</td>\n",
              "    </tr>\n",
              "  </tbody>\n",
              "</table>\n",
              "</div>"
            ],
            "text/plain": [
              "         c0        c1        c2        c3        c4\n",
              "b  0.436149 -2.468962 -1.080083  0.693728  0.663031\n",
              "c  1.676887  0.790989 -0.560000  1.369961  1.045403\n",
              "d -2.687477 -0.417832  0.733370  0.491143 -0.026223\n",
              "e  0.273916 -1.264592  0.567614 -1.566816  0.838729"
            ]
          },
          "execution_count": 29,
          "metadata": {},
          "output_type": "execute_result"
        }
      ],
      "source": [
        "df"
      ]
    },
    {
      "cell_type": "code",
      "execution_count": 30,
      "metadata": {},
      "outputs": [
        {
          "data": {
            "text/html": [
              "<div>\n",
              "<style scoped>\n",
              "    .dataframe tbody tr th:only-of-type {\n",
              "        vertical-align: middle;\n",
              "    }\n",
              "\n",
              "    .dataframe tbody tr th {\n",
              "        vertical-align: top;\n",
              "    }\n",
              "\n",
              "    .dataframe thead th {\n",
              "        text-align: right;\n",
              "    }\n",
              "</style>\n",
              "<table border=\"1\" class=\"dataframe\">\n",
              "  <thead>\n",
              "    <tr style=\"text-align: right;\">\n",
              "      <th></th>\n",
              "      <th>c0</th>\n",
              "      <th>c1</th>\n",
              "      <th>c2</th>\n",
              "      <th>c3</th>\n",
              "      <th>c4</th>\n",
              "    </tr>\n",
              "  </thead>\n",
              "  <tbody>\n",
              "    <tr>\n",
              "      <th>b</th>\n",
              "      <td>True</td>\n",
              "      <td>False</td>\n",
              "      <td>False</td>\n",
              "      <td>True</td>\n",
              "      <td>True</td>\n",
              "    </tr>\n",
              "    <tr>\n",
              "      <th>c</th>\n",
              "      <td>True</td>\n",
              "      <td>True</td>\n",
              "      <td>False</td>\n",
              "      <td>True</td>\n",
              "      <td>True</td>\n",
              "    </tr>\n",
              "    <tr>\n",
              "      <th>d</th>\n",
              "      <td>False</td>\n",
              "      <td>False</td>\n",
              "      <td>True</td>\n",
              "      <td>True</td>\n",
              "      <td>False</td>\n",
              "    </tr>\n",
              "    <tr>\n",
              "      <th>e</th>\n",
              "      <td>True</td>\n",
              "      <td>False</td>\n",
              "      <td>True</td>\n",
              "      <td>False</td>\n",
              "      <td>True</td>\n",
              "    </tr>\n",
              "  </tbody>\n",
              "</table>\n",
              "</div>"
            ],
            "text/plain": [
              "      c0     c1     c2     c3     c4\n",
              "b   True  False  False   True   True\n",
              "c   True   True  False   True   True\n",
              "d  False  False   True   True  False\n",
              "e   True  False   True  False   True"
            ]
          },
          "execution_count": 30,
          "metadata": {},
          "output_type": "execute_result"
        }
      ],
      "source": [
        "# creating a boolean df based on a condition we specify\n",
        "\n",
        "df > 0"
      ]
    },
    {
      "cell_type": "code",
      "execution_count": 31,
      "metadata": {},
      "outputs": [
        {
          "data": {
            "text/html": [
              "<div>\n",
              "<style scoped>\n",
              "    .dataframe tbody tr th:only-of-type {\n",
              "        vertical-align: middle;\n",
              "    }\n",
              "\n",
              "    .dataframe tbody tr th {\n",
              "        vertical-align: top;\n",
              "    }\n",
              "\n",
              "    .dataframe thead th {\n",
              "        text-align: right;\n",
              "    }\n",
              "</style>\n",
              "<table border=\"1\" class=\"dataframe\">\n",
              "  <thead>\n",
              "    <tr style=\"text-align: right;\">\n",
              "      <th></th>\n",
              "      <th>c0</th>\n",
              "      <th>c1</th>\n",
              "      <th>c2</th>\n",
              "      <th>c3</th>\n",
              "      <th>c4</th>\n",
              "    </tr>\n",
              "  </thead>\n",
              "  <tbody>\n",
              "    <tr>\n",
              "      <th>b</th>\n",
              "      <td>0.436149</td>\n",
              "      <td>NaN</td>\n",
              "      <td>NaN</td>\n",
              "      <td>0.693728</td>\n",
              "      <td>0.663031</td>\n",
              "    </tr>\n",
              "    <tr>\n",
              "      <th>c</th>\n",
              "      <td>1.676887</td>\n",
              "      <td>0.790989</td>\n",
              "      <td>NaN</td>\n",
              "      <td>1.369961</td>\n",
              "      <td>1.045403</td>\n",
              "    </tr>\n",
              "    <tr>\n",
              "      <th>d</th>\n",
              "      <td>NaN</td>\n",
              "      <td>NaN</td>\n",
              "      <td>0.733370</td>\n",
              "      <td>0.491143</td>\n",
              "      <td>NaN</td>\n",
              "    </tr>\n",
              "    <tr>\n",
              "      <th>e</th>\n",
              "      <td>0.273916</td>\n",
              "      <td>NaN</td>\n",
              "      <td>0.567614</td>\n",
              "      <td>NaN</td>\n",
              "      <td>0.838729</td>\n",
              "    </tr>\n",
              "  </tbody>\n",
              "</table>\n",
              "</div>"
            ],
            "text/plain": [
              "         c0        c1        c2        c3        c4\n",
              "b  0.436149       NaN       NaN  0.693728  0.663031\n",
              "c  1.676887  0.790989       NaN  1.369961  1.045403\n",
              "d       NaN       NaN  0.733370  0.491143       NaN\n",
              "e  0.273916       NaN  0.567614       NaN  0.838729"
            ]
          },
          "execution_count": 31,
          "metadata": {},
          "output_type": "execute_result"
        }
      ],
      "source": [
        "# selecting rows/columns without all NaNs (False values in the boolean df are converted to NaN)\n",
        "df[df > 0]"
      ]
    },
    {
      "cell_type": "code",
      "execution_count": 32,
      "metadata": {},
      "outputs": [
        {
          "data": {
            "text/html": [
              "<div>\n",
              "<style scoped>\n",
              "    .dataframe tbody tr th:only-of-type {\n",
              "        vertical-align: middle;\n",
              "    }\n",
              "\n",
              "    .dataframe tbody tr th {\n",
              "        vertical-align: top;\n",
              "    }\n",
              "\n",
              "    .dataframe thead th {\n",
              "        text-align: right;\n",
              "    }\n",
              "</style>\n",
              "<table border=\"1\" class=\"dataframe\">\n",
              "  <thead>\n",
              "    <tr style=\"text-align: right;\">\n",
              "      <th></th>\n",
              "      <th>c0</th>\n",
              "      <th>c1</th>\n",
              "      <th>c2</th>\n",
              "      <th>c3</th>\n",
              "      <th>c4</th>\n",
              "    </tr>\n",
              "  </thead>\n",
              "  <tbody>\n",
              "    <tr>\n",
              "      <th>b</th>\n",
              "      <td>0.436149</td>\n",
              "      <td>-2.468962</td>\n",
              "      <td>-1.080083</td>\n",
              "      <td>0.693728</td>\n",
              "      <td>0.663031</td>\n",
              "    </tr>\n",
              "    <tr>\n",
              "      <th>c</th>\n",
              "      <td>1.676887</td>\n",
              "      <td>0.790989</td>\n",
              "      <td>-0.560000</td>\n",
              "      <td>1.369961</td>\n",
              "      <td>1.045403</td>\n",
              "    </tr>\n",
              "    <tr>\n",
              "      <th>d</th>\n",
              "      <td>-2.687477</td>\n",
              "      <td>-0.417832</td>\n",
              "      <td>0.733370</td>\n",
              "      <td>0.491143</td>\n",
              "      <td>-0.026223</td>\n",
              "    </tr>\n",
              "  </tbody>\n",
              "</table>\n",
              "</div>"
            ],
            "text/plain": [
              "         c0        c1        c2        c3        c4\n",
              "b  0.436149 -2.468962 -1.080083  0.693728  0.663031\n",
              "c  1.676887  0.790989 -0.560000  1.369961  1.045403\n",
              "d -2.687477 -0.417832  0.733370  0.491143 -0.026223"
            ]
          },
          "execution_count": 32,
          "metadata": {},
          "output_type": "execute_result"
        }
      ],
      "source": [
        "df[df[\"c3\"]>0]"
      ]
    },
    {
      "cell_type": "code",
      "execution_count": 33,
      "metadata": {},
      "outputs": [
        {
          "data": {
            "text/html": [
              "<div>\n",
              "<style scoped>\n",
              "    .dataframe tbody tr th:only-of-type {\n",
              "        vertical-align: middle;\n",
              "    }\n",
              "\n",
              "    .dataframe tbody tr th {\n",
              "        vertical-align: top;\n",
              "    }\n",
              "\n",
              "    .dataframe thead th {\n",
              "        text-align: right;\n",
              "    }\n",
              "</style>\n",
              "<table border=\"1\" class=\"dataframe\">\n",
              "  <thead>\n",
              "    <tr style=\"text-align: right;\">\n",
              "      <th></th>\n",
              "      <th>c1</th>\n",
              "      <th>c3</th>\n",
              "    </tr>\n",
              "  </thead>\n",
              "  <tbody>\n",
              "    <tr>\n",
              "      <th>b</th>\n",
              "      <td>-2.468962</td>\n",
              "      <td>0.693728</td>\n",
              "    </tr>\n",
              "    <tr>\n",
              "      <th>c</th>\n",
              "      <td>0.790989</td>\n",
              "      <td>1.369961</td>\n",
              "    </tr>\n",
              "  </tbody>\n",
              "</table>\n",
              "</div>"
            ],
            "text/plain": [
              "         c1        c3\n",
              "b -2.468962  0.693728\n",
              "c  0.790989  1.369961"
            ]
          },
          "execution_count": 33,
          "metadata": {},
          "output_type": "execute_result"
        }
      ],
      "source": [
        "df[df[\"c2\"]<0][[\"c1\",\"c3\"]]"
      ]
    },
    {
      "cell_type": "code",
      "execution_count": 34,
      "metadata": {},
      "outputs": [
        {
          "data": {
            "text/html": [
              "<div>\n",
              "<style scoped>\n",
              "    .dataframe tbody tr th:only-of-type {\n",
              "        vertical-align: middle;\n",
              "    }\n",
              "\n",
              "    .dataframe tbody tr th {\n",
              "        vertical-align: top;\n",
              "    }\n",
              "\n",
              "    .dataframe thead th {\n",
              "        text-align: right;\n",
              "    }\n",
              "</style>\n",
              "<table border=\"1\" class=\"dataframe\">\n",
              "  <thead>\n",
              "    <tr style=\"text-align: right;\">\n",
              "      <th></th>\n",
              "      <th>c0</th>\n",
              "      <th>c1</th>\n",
              "      <th>c2</th>\n",
              "      <th>c3</th>\n",
              "      <th>c4</th>\n",
              "    </tr>\n",
              "  </thead>\n",
              "  <tbody>\n",
              "    <tr>\n",
              "      <th>c</th>\n",
              "      <td>1.676887</td>\n",
              "      <td>0.790989</td>\n",
              "      <td>-0.56</td>\n",
              "      <td>1.369961</td>\n",
              "      <td>1.045403</td>\n",
              "    </tr>\n",
              "  </tbody>\n",
              "</table>\n",
              "</div>"
            ],
            "text/plain": [
              "         c0        c1    c2        c3        c4\n",
              "c  1.676887  0.790989 -0.56  1.369961  1.045403"
            ]
          },
          "execution_count": 34,
          "metadata": {},
          "output_type": "execute_result"
        }
      ],
      "source": [
        "# if we want to specify more than one condition, use & and |, instead of and/or (reason discussed later)\n",
        "df[(df[\"c1\"]>0) & (df[\"c2\"] < 0)]"
      ]
    }
  ],
  "metadata": {
    "kernelspec": {
      "display_name": "Python 3.9.12 (''crux-ml'')",
      "language": "python",
      "name": "python3"
    },
    "language_info": {
      "codemirror_mode": {
        "name": "ipython",
        "version": 3
      },
      "file_extension": ".py",
      "mimetype": "text/x-python",
      "name": "python",
      "nbconvert_exporter": "python",
      "pygments_lexer": "ipython3",
      "version": "3.9.12"
    },
    "vscode": {
      "interpreter": {
        "hash": "93ce321e497d6f33a11c701f4ef67dc117e82f59d8dd2399fdfff7429eca93d5"
      }
    }
  },
  "nbformat": 4,
  "nbformat_minor": 0
}

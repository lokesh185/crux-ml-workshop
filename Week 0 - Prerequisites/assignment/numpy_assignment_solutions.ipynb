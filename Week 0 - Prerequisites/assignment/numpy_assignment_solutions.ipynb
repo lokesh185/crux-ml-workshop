{
 "cells": [
  {
   "cell_type": "markdown",
   "metadata": {},
   "source": [
    "# NumPy Assignment\n",
    "\n",
    "Total Points: 30 [+ 10 Bonus]\n",
    "\n",
    "Total Number of Questions: 3"
   ]
  },
  {
   "cell_type": "code",
   "execution_count": 1,
   "metadata": {},
   "outputs": [],
   "source": [
    "# imports\n",
    "\n",
    "import numpy as np\n",
    "from random import shuffle\n"
   ]
  },
  {
   "cell_type": "markdown",
   "metadata": {},
   "source": [
    "## Question 1\n",
    "\n",
    "#### Points: 15 (5 + 2.5 + 2.5)\n",
    "\n",
    "**Q.** Write functions for the following sub tasks:\n",
    "\n",
    "**Q 1.1.** Given a numpy array of shape `(n, n)` and an index ```i, j```, find the [cofactor](https://www.cuemath.com/algebra/minor-of-matrix/) of the element at index ```(i, j)```.\n",
    "\n",
    "**Note:** use only slices and indexing to solve this question.\n",
    "\n",
    "**Q 1.2.** Given a numpy array of shape `(n, n)` find the [determinant](https://www.cuemath.com/algebra/determinant-of-matrix/) of the matrix.\n",
    "\n",
    "**Q 1.3.** Given a numpy array of shape `(n, n)` find the [inverse](https://www.cuemath.com/algebra/inverse-of-matrix/) of the matrix."
   ]
  },
  {
   "cell_type": "code",
   "execution_count": 2,
   "metadata": {},
   "outputs": [],
   "source": [
    "# Q 1.2\n",
    "\n",
    "def determinant(array):\n",
    "    return np.linalg.det(array)"
   ]
  },
  {
   "cell_type": "code",
   "execution_count": 3,
   "metadata": {},
   "outputs": [],
   "source": [
    "# Q 1.1\n",
    "\n",
    "def cofactor(array, i, j):\n",
    "    # using slices and single for loop\n",
    "    new = np.zeros((array.shape[0] - 1, array.shape[1] - 1))\n",
    "\n",
    "    # count is the index (of rows) of the new array\n",
    "    count = 0\n",
    "    \n",
    "    for x in range(array.shape[0]):\n",
    "        # removing ith row\n",
    "        if x != i:\n",
    "            # removing jth column\n",
    "            new[count, :] = np.array(list(array[x, :j]) + list(array[x, j+1:]))\n",
    "            count += 1\n",
    "        \n",
    "    # or you can use numpy.concatenate()/stack functions to avoid converting to a list\n",
    "    return ((-1)**(i+j))*determinant(new)\n",
    "\n",
    "# since you've completed the assignment, another method using slices and selection based on condition\n",
    "\n",
    "def cofactor2(array, i, j):\n",
    "    mask = np.ones(array.shape, dtype = bool)\n",
    "    # removing the ith row and jth column\n",
    "    mask[i, :] = False\n",
    "    mask[:, j] = False\n",
    "    selected = array[mask].reshape(array.shape[0] - 1, array.shape[1] - 1)\n",
    "    return ((-1)**(i+j))*determinant(selected)"
   ]
  },
  {
   "cell_type": "code",
   "execution_count": 4,
   "metadata": {},
   "outputs": [
    {
     "name": "stdout",
     "output_type": "stream",
     "text": [
      "-12.0\n",
      "-12.0\n"
     ]
    }
   ],
   "source": [
    "arr = np.array([[1, 2, 3], [4, 5, 6], [7, 8, 9]])\n",
    "print(cofactor(arr, 1, 1))\n",
    "print(cofactor2(arr, 1, 1))"
   ]
  },
  {
   "cell_type": "code",
   "execution_count": 5,
   "metadata": {},
   "outputs": [],
   "source": [
    "# Q 1.3\n",
    "def inverse(array):\n",
    "    return np.linalg.inv(array)"
   ]
  },
  {
   "cell_type": "markdown",
   "metadata": {},
   "source": [
    "## Question 2\n",
    "\n",
    "#### Points: 10 [+ 5 Bonus]\n",
    "\n",
    "Q. Write a function that given a 2 dimensional array of numbers, returns another 2 dimensional array, such that:\n",
    "\n",
    "i) Every alternate row (starting from row 0) is reversed.\n",
    "\n",
    "ii) In the new array, all positive elements are replaced by their square-roots and all negative elements are replaced by their squares.\n",
    "\n",
    "Example:\n",
    "\n",
    "Input:\n",
    "\n",
    "```python\n",
    "[[1, -4, 7],\n",
    "[2, 11, -3],\n",
    "[5, -8, 9]]\n",
    "```\n",
    "\n",
    "Output:\n",
    "\n",
    "```python\n",
    "array([[ 2.64575131, 16.        ,  1.        ],\n",
    "       [ 1.41421356,  3.31662479,  9.        ],\n",
    "       [ 3.        , 64.        ,  2.23606798]])\n",
    "```\n",
    "\n",
    "\n",
    "\n",
    "Note: Do not modify the original array\n",
    "\n",
    "Try solving it once with and once without [```numpy.vectorize()```](https://numpy.org/doc/stable/reference/generated/numpy.vectorize.html)\n",
    "\n",
    "\n",
    "#### Points Distribution:\n",
    "\n",
    "- 7 points for a correct solution, satisfying all requirements/conditions\n",
    "\n",
    "- 3 points if solution uses (or) an additional solution using ```np.vectorize()```\n",
    "\n",
    "- Bonus points (+ 5): Read up [selection based on condition](https://thispointer.com/python-numpy-select-elements-or-indices-by-conditions-from-numpy-array/), and try solving the question using this, without nested loops."
   ]
  },
  {
   "cell_type": "code",
   "execution_count": 6,
   "metadata": {},
   "outputs": [],
   "source": [
    "def soln2(array):\n",
    "    # you can use len(array) or array.shape[0], and len(array[0]) or array.shape[1] interchangebly\n",
    "    new = np.zeros((len(array), len(array[0])))\n",
    "    for i in range(len(array)):\n",
    "        if i % 2 == 0:\n",
    "            new[i] = array[i][::-1]\n",
    "        else:\n",
    "            new[i] = array[i]\n",
    "        for j in range(len(new[0])):\n",
    "            if new[i][j] >= 0:\n",
    "                new[i][j] = np.sqrt(new[i][j])\n",
    "            else:\n",
    "                new[i][j] = array[i][j]**2\n",
    "    return new"
   ]
  },
  {
   "cell_type": "code",
   "execution_count": 7,
   "metadata": {},
   "outputs": [],
   "source": [
    "def change(x):\n",
    "    if x >= 0:\n",
    "        return np.sqrt(x)\n",
    "    else:\n",
    "        return x**2\n",
    "    \n",
    "def soln1_using_vectorize(array):\n",
    "    new = np.zeros((len(array), len(array[0])))\n",
    "    for i in range(len(array)):\n",
    "        if i % 2 == 0:\n",
    "            new[i] = array[i][::-1]\n",
    "        else:\n",
    "            new[i] = array[i]\n",
    "    return np.vectorize(change)(new)"
   ]
  },
  {
   "cell_type": "code",
   "execution_count": 8,
   "metadata": {},
   "outputs": [],
   "source": [
    "def soln2_using_selection(array):\n",
    "    new = np.zeros((len(array), len(array)))\n",
    "    new[::2] = [i[::-1]for i in array[::2]]\n",
    "    new[1::2] = array[1::2]\n",
    "    new[new>=0] = np.sqrt(new[new>=0])\n",
    "    new[new<0] = new[new<0]**2\n",
    "    return new"
   ]
  },
  {
   "cell_type": "code",
   "execution_count": 9,
   "metadata": {},
   "outputs": [
    {
     "name": "stdout",
     "output_type": "stream",
     "text": [
      "[[ 2.64575131 16.          1.        ]\n",
      " [ 1.41421356  3.31662479  9.        ]\n",
      " [ 3.         64.          2.23606798]]\n",
      "\n",
      "[[ 2.64575131 16.          1.        ]\n",
      " [ 1.41421356  3.31662479  9.        ]\n",
      " [ 3.         64.          2.23606798]]\n",
      "\n",
      "[[ 2.64575131 16.          1.        ]\n",
      " [ 1.41421356  3.31662479  9.        ]\n",
      " [ 3.         64.          2.23606798]]\n"
     ]
    }
   ],
   "source": [
    "arr = np.array([[1, -4, 7], [2, 11, -3], [5, -8, 9]])\n",
    "\n",
    "print(soln2(arr), soln1_using_vectorize(arr), soln2_using_selection(arr), sep = \"\\n\\n\")"
   ]
  },
  {
   "cell_type": "markdown",
   "metadata": {},
   "source": [
    "## Question 3\n",
    "\n",
    "#### Points: 10 [+ 5 Bonus]\n",
    "\n",
    "Q. Write a function that given a number  ```n```, returns a 2 dimensional array of size ```n x n``` with the following pattern:\n",
    "\n",
    "i) Contains elements from 1 to n^2\n",
    "\n",
    "ii) ```n``` groups/rows are ordered taken in sets, ```1...n```,  ```n+1...2n```,  ```2n+1...3n```, and so on.\n",
    "\n",
    "ii) All ```n``` rows are shuffled randomly, while order of elements in each row is maintained.\n",
    "\n",
    "Example:\n",
    "\n",
    "Input:\n",
    "\n",
    "```python\n",
    "n = 3\n",
    "```\n",
    "\n",
    "\n",
    "Output: (as its randomized, every run will result in a different output)\n",
    "\n",
    "```python\n",
    "[[7, 8, 9],\n",
    " [1, 2, 3],\n",
    " [4, 5, 6]]\n",
    "```\n",
    "\n",
    "**Hint:** Search the docs for [```np.random```](https://numpy.org/doc/stable/reference/random/index.html) to find some functions that might help you solve this problem in a simple and easy.\n",
    "\n",
    "#### Points Distribution:\n",
    "\n",
    "- 10 points for a correct solution, satisfying all requirements/conditions\n",
    "\n",
    "- Bonus points (+5): For finding more than one function in ```np.random``` to solve this, and mention the difference(s) between the methods.\n",
    "\n",
    "**Note:** It is not necessary to use the functions in ```np.random``` to solve this problem, and it reccomnended to solve the problem once with and without using ```np.random```. (**Hint:** you can still use the standard python libraries like ```random``` to solve this)\n",
    "\n"
   ]
  },
  {
   "cell_type": "code",
   "execution_count": 10,
   "metadata": {},
   "outputs": [],
   "source": [
    "def soln3(n):\n",
    "    arr = np.arange(1, n**2 + 1).reshape(n, n)\n",
    "    index_arr = list(range(n))\n",
    "    shuffle(index_arr)\n",
    "    new = np.zeros((n, n))\n",
    "    for i in range(n):\n",
    "        new[i] = arr[index_arr[i]]\n",
    "        # note: we're not using shuffle(arr) directly here, as it might give the same row twice.\n",
    "    return new"
   ]
  },
  {
   "cell_type": "code",
   "execution_count": 11,
   "metadata": {},
   "outputs": [],
   "source": [
    "def soln3_using_permutation(n):\n",
    "    rng = np.random.default_rng()\n",
    "    arr = np.arange(1, n**2 + 1).reshape(n, n)\n",
    "    return rng.permutation(arr)\n",
    "\n",
    "    # Legacy/RandomState method:\n",
    "    # arr = np.arange(1, n**2 + 1).reshape(n, n)\n",
    "    # return np.random.permutation(arr)"
   ]
  },
  {
   "cell_type": "code",
   "execution_count": 12,
   "metadata": {},
   "outputs": [],
   "source": [
    "def soln3_using_shuffle(n):\n",
    "    rng = np.random.default_rng()\n",
    "    arr = np.arange(1, n**2 + 1).reshape(n, n)\n",
    "    rng.shuffle(arr)\n",
    "    # Legacy/RandomState method:\n",
    "    # arr = np.arange(1, n**2 + 1).reshape(n, n)\n",
    "    # np.random.shuffle(arr)\n",
    "    return arr "
   ]
  },
  {
   "cell_type": "code",
   "execution_count": 13,
   "metadata": {},
   "outputs": [
    {
     "name": "stdout",
     "output_type": "stream",
     "text": [
      "[[7. 8. 9.]\n",
      " [1. 2. 3.]\n",
      " [4. 5. 6.]]\n",
      "\n",
      "[[4 5 6]\n",
      " [1 2 3]\n",
      " [7 8 9]]\n",
      "\n",
      "[[7 8 9]\n",
      " [4 5 6]\n",
      " [1 2 3]]\n"
     ]
    }
   ],
   "source": [
    "print(soln3(3), soln3_using_permutation(3), soln3_using_shuffle(3), sep = \"\\n\\n\")"
   ]
  },
  {
   "cell_type": "markdown",
   "metadata": {},
   "source": [
    "Difference between the two methods is:\n",
    "\n",
    "- ```permutation``` returns a new array with randomly permuted/shuffled rows/elements, leaving the original array unchanged.\n",
    "- ```shuffle``` randomly shuffles the rows of original array (i.e., it changes the original array), and returns ```None```."
   ]
  }
 ],
 "metadata": {
  "kernelspec": {
   "display_name": "Python 3.9.12 ('crux-ml')",
   "language": "python",
   "name": "python3"
  },
  "language_info": {
   "codemirror_mode": {
    "name": "ipython",
    "version": 3
   },
   "file_extension": ".py",
   "mimetype": "text/x-python",
   "name": "python",
   "nbconvert_exporter": "python",
   "pygments_lexer": "ipython3",
   "version": "3.9.12"
  },
  "orig_nbformat": 4,
  "vscode": {
   "interpreter": {
    "hash": "93ce321e497d6f33a11c701f4ef67dc117e82f59d8dd2399fdfff7429eca93d5"
   }
  }
 },
 "nbformat": 4,
 "nbformat_minor": 2
}

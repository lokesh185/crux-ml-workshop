{
 "cells": [
  {
   "cell_type": "markdown",
   "metadata": {},
   "source": [
    "# Pandas Assignment\n",
    "\n",
    "Total Points: 65 [+ 35 for code conciseness]\n",
    "\n",
    "Total Questions: 7"
   ]
  },
  {
   "cell_type": "code",
   "execution_count": 1,
   "metadata": {},
   "outputs": [],
   "source": [
    "# imports\n",
    "\n",
    "import pandas as pd"
   ]
  },
  {
   "cell_type": "markdown",
   "metadata": {},
   "source": [
    "# Dataset 1: Spaceship Titanic\n",
    "\n",
    "Dataset credits: [Kaggle](https://www.kaggle.com/competitions/spaceship-titanic)\n",
    "\n",
    "Information on columns of dataset:\n",
    "\n",
    "- **PassengerId** : A unique Id for each passenger. Each Id takes the form gggg_pp where gggg indicates a group the passenger is travelling with and pp is their number within the group. People in a group are often family members, but not always.\n",
    "- **HomePlanet** : The planet the passenger departed from, typically their planet of permanent residence.\n",
    "- **CryoSleep** : Indicates whether the passenger elected to be put into suspended animation for the duration of the voyage. Passengers in cryosleep are confined to their cabins.\n",
    "- **Cabin** : The cabin number where the passenger is staying. Takes the form deck/num/side, where side can be either P for Port or S for Starboard.\n",
    "- **Destination** : The planet the passenger will be debarking to.\n",
    "- **Age** - The age of the passenger.\n",
    "- **VIP** : Whether the passenger has paid for special VIP service during the voyage.\n",
    "- RoomService, FoodCourt, ShoppingMall, Spa, VRDeck - Amount the passenger has billed at each of the Spaceship Titanic's many luxury amenities.\n",
    "- **Name** : The first and last names of the passenger.\n",
    "- **Transported** : Whether the passenger was transported to another dimension. This is the target, the column you are trying to predict.\n",
    "\n"
   ]
  },
  {
   "cell_type": "markdown",
   "metadata": {},
   "source": [
    "### Questions\n",
    "\n",
    "Load the ```spaceship.csv``` dataset into a pandas DataFrame named ```space_df```. (2)\n",
    "\n",
    "- Rename all the columns to their ***[snake case](https://en.wikipedia.org/wiki/Snake_case)*** counter-parts. (5)\n",
    "\n",
    "- Find the number of missing values in each column. (5)\n",
    "\n",
    "- How many unique values are there in each column? (5)\n",
    "\n",
    "- How many VIP passengers were transoprted to a different dimension?\n",
    "(**Hint:** Count non-```NaN``` values only from relevant column(s)) (8)\n",
    "\n",
    "- What is the total amount spent by each passenger, and average amount of money spent by a passenger in the spaceship? (7 + 3)\n",
    "\n",
    "- Assuming people with the same last name are from the same family, create a new dataframe called ```familes_df``` with columns : ```first_name```, ```family_name```, ```vip_status```, and ```age```. The new dataframe should not contain any ```NaN``` values. (10)\n",
    "\n",
    "- Create two new dataframes (both without ```NaN``` values): \n",
    "  \n",
    "  a) ```finance_df``` with columns: ```last_name```, ```room_service```, ```food_court```, ```shopping_mall```, ```spa```, ```vr_deck```,```total_spent```, ```id``` . (5)\n",
    "  \n",
    "  b) ```details_df``` with columns: ```p_name```, ```cabin```, ```p_id```,  ```home_planet```, ```destination```. (5)\n",
    "\n",
    "  Merge the two dataframes together, and find out which passengers have recorded travel details, but have not spent any money on the spaceship. (**Note:** in this case (and in only this merged dataframe) consider and fill ```NaN``` values in the amount spent column to be ```0```.) (10)\n",
    "\n",
    "### Points Distribution:\n",
    "\n",
    "- 65 marks for correct reponses.\n",
    "- 35 marks (5 x 7) for conciseness of code submitted (partial marking)."
   ]
  },
  {
   "cell_type": "markdown",
   "metadata": {},
   "source": []
  }
 ],
 "metadata": {
  "kernelspec": {
   "display_name": "Python 3.9.12 ('crux-ml')",
   "language": "python",
   "name": "python3"
  },
  "language_info": {
   "codemirror_mode": {
    "name": "ipython",
    "version": 3
   },
   "file_extension": ".py",
   "mimetype": "text/x-python",
   "name": "python",
   "nbconvert_exporter": "python",
   "pygments_lexer": "ipython3",
   "version": "3.9.12"
  },
  "orig_nbformat": 4,
  "vscode": {
   "interpreter": {
    "hash": "93ce321e497d6f33a11c701f4ef67dc117e82f59d8dd2399fdfff7429eca93d5"
   }
  }
 },
 "nbformat": 4,
 "nbformat_minor": 2
}

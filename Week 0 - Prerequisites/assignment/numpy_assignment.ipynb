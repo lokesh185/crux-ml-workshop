{
 "cells": [
  {
   "cell_type": "markdown",
   "metadata": {},
   "source": [
    "# NumPy Assignment\n",
    "\n",
    "Total Points: 30 [+ 10 Bonus]\n",
    "\n",
    "Total Number of Questions: 3"
   ]
  },
  {
   "cell_type": "code",
   "execution_count": 1,
   "metadata": {},
   "outputs": [],
   "source": [
    "# imports\n",
    "\n",
    "import numpy as np"
   ]
  },
  {
   "cell_type": "markdown",
   "metadata": {},
   "source": [
    "## Question 1\n",
    "\n",
    "#### Points: 15 (5 + 2.5 + 2.5)\n",
    "\n",
    "**Q.** Write functions for the following sub tasks:\n",
    "\n",
    "**Q 1.1.** Given a numpy array of shape `(n, n)` and an index ```i, j```, find the [cofactor](https://www.cuemath.com/algebra/minor-of-matrix/) of the element at index ```(i, j)```.\n",
    "\n",
    "**Note:** use only slices and indexing to solve this question.\n",
    "\n",
    "**Q 1.2.** Given a numpy array of shape `(n, n)` find the [determinant](https://www.cuemath.com/algebra/determinant-of-matrix/) of the matrix.\n",
    "\n",
    "**Q 1.3.** Given a numpy array of shape `(n, n)` find the [inverse](https://www.cuemath.com/algebra/inverse-of-matrix/) of the matrix."
   ]
  },
  {
   "cell_type": "code",
   "execution_count": 2,
   "metadata": {},
   "outputs": [],
   "source": [
    "# Q 1.1\n",
    "\n",
    "def cofactor(array, i, j):\n",
    "    return"
   ]
  },
  {
   "cell_type": "code",
   "execution_count": null,
   "metadata": {},
   "outputs": [],
   "source": [
    "# test your function here"
   ]
  },
  {
   "cell_type": "code",
   "execution_count": 3,
   "metadata": {},
   "outputs": [],
   "source": [
    "# Q 1.2\n",
    "\n",
    "def determinant(array):\n",
    "    return"
   ]
  },
  {
   "cell_type": "code",
   "execution_count": null,
   "metadata": {},
   "outputs": [],
   "source": [
    "# test your function here"
   ]
  },
  {
   "cell_type": "code",
   "execution_count": 4,
   "metadata": {},
   "outputs": [],
   "source": [
    "# Q 1.3\n",
    "\n",
    "def inverse(array):\n",
    "    return"
   ]
  },
  {
   "cell_type": "code",
   "execution_count": null,
   "metadata": {},
   "outputs": [],
   "source": [
    "# test your function here"
   ]
  },
  {
   "cell_type": "markdown",
   "metadata": {},
   "source": [
    "## Question 2\n",
    "\n",
    "#### Points: 10 [+ 5 Bonus]\n",
    "\n",
    "Q. Write a function that given a 2 dimensional array of numbers, returns another 2 dimensional array, such that:\n",
    "\n",
    "i) Every alternate row (starting from row 0) is reversed.\n",
    "\n",
    "ii) In the new array, all positive elements are replaced by their square-roots and all negative elements are replaced by their squares.\n",
    "\n",
    "Example:\n",
    "\n",
    "Input:\n",
    "\n",
    "```python\n",
    "[[1, -4, 7],\n",
    "[2, 11, -3],\n",
    "[5, -8, 9]]\n",
    "```\n",
    "\n",
    "Output:\n",
    "\n",
    "```python\n",
    "array([[ 2.64575131, 16.        ,  1.        ],\n",
    "       [ 1.41421356,  3.31662479,  9.        ],\n",
    "       [ 3.        , 64.        ,  2.23606798]])\n",
    "```\n",
    "\n",
    "\n",
    "\n",
    "Note: Do not modify the original array\n",
    "\n",
    "Try solving it once with and once without [```numpy.vectorize()```](https://numpy.org/doc/stable/reference/generated/numpy.vectorize.html)\n",
    "\n",
    "\n",
    "#### Points Distribution:\n",
    "\n",
    "- 7 points for a correct solution, satisfying all requirements/conditions\n",
    "\n",
    "- 3 points if solution uses (or) an additional solution using ```np.vectorize()```\n",
    "\n",
    "- Bonus points (+ 5): Read up [selection based on condition](https://thispointer.com/python-numpy-select-elements-or-indices-by-conditions-from-numpy-array/), and try solving the question using this, without nested loops."
   ]
  },
  {
   "cell_type": "code",
   "execution_count": null,
   "metadata": {},
   "outputs": [],
   "source": [
    "def soln2(array):\n",
    "    \n",
    "    return"
   ]
  },
  {
   "cell_type": "code",
   "execution_count": null,
   "metadata": {},
   "outputs": [],
   "source": [
    "# test your function here\n",
    "\n",
    "# add more cells if you want to submit more than one solution"
   ]
  },
  {
   "cell_type": "markdown",
   "metadata": {},
   "source": [
    "## Question 3\n",
    "\n",
    "#### Points: 10 [+ 5 Bonus]\n",
    "\n",
    "Q. Write a function that given a number  ```n```, returns a 2 dimensional array of size ```n x n``` with the following pattern:\n",
    "\n",
    "i) Contains elements from 1 to n^2\n",
    "\n",
    "ii) ```n``` groups/rows are ordered taken in sets, ```1...n```,  ```n+1...2n```,  ```2n+1...3n```, and so on.\n",
    "\n",
    "ii) All ```n``` rows are shuffled randomly, while order of elements in each row is maintained.\n",
    "\n",
    "Example:\n",
    "\n",
    "Input:\n",
    "\n",
    "```python\n",
    "n = 3\n",
    "```\n",
    "\n",
    "\n",
    "Output: (as its randomized, every run will result in a different output)\n",
    "\n",
    "```python\n",
    "[[7, 8, 9],\n",
    " [1, 2, 3],\n",
    " [4, 5, 6]]\n",
    "```\n",
    "\n",
    "**Hint:** Search the docs for [```np.random```](https://numpy.org/doc/stable/reference/random/index.html) to find some functions that might help you solve this problem in a simple and easy.\n",
    "\n",
    "#### Points Distribution:\n",
    "\n",
    "- 10 points for a correct solution, satisfying all requirements/conditions\n",
    "\n",
    "- Bonus points (+5): For finding more than one function in ```np.random``` to solve this, and mention the difference(s) between the methods.\n",
    "\n",
    "**Note:** It is not necessary to use the functions in ```np.random``` to solve this problem, and it reccomnended to solve the problem once with and without using ```np.random```. (**Hint:** you can still use the standard python libraries like ```random``` to solve this)\n",
    "\n"
   ]
  },
  {
   "cell_type": "code",
   "execution_count": null,
   "metadata": {},
   "outputs": [],
   "source": [
    "def soln3(n):\n",
    "    return"
   ]
  },
  {
   "cell_type": "code",
   "execution_count": null,
   "metadata": {},
   "outputs": [],
   "source": [
    "# test your function here\n",
    "\n",
    "# add more cells if you want to submit more than one solution"
   ]
  }
 ],
 "metadata": {
  "kernelspec": {
   "display_name": "Python 3.9.12 ('base')",
   "language": "python",
   "name": "python3"
  },
  "language_info": {
   "codemirror_mode": {
    "name": "ipython",
    "version": 3
   },
   "file_extension": ".py",
   "mimetype": "text/x-python",
   "name": "python",
   "nbconvert_exporter": "python",
   "pygments_lexer": "ipython3",
   "version": "3.9.12"
  },
  "orig_nbformat": 4,
  "vscode": {
   "interpreter": {
    "hash": "bd6e1ce998c4abf50ebdaee12e9ba4d4e84d41152bf0989f16c3a33fa5061f5e"
   }
  }
 },
 "nbformat": 4,
 "nbformat_minor": 2
}
